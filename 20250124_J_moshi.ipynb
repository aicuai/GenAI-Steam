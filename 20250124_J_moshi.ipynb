{
  "nbformat": 4,
  "nbformat_minor": 0,
  "metadata": {
    "colab": {
      "provenance": [],
      "machine_shape": "hm",
      "gpuType": "L4",
      "authorship_tag": "ABX9TyO4WX14pNk3uDwc1VdktjKA",
      "include_colab_link": true
    },
    "kernelspec": {
      "name": "python3",
      "display_name": "Python 3"
    },
    "language_info": {
      "name": "python"
    },
    "accelerator": "GPU"
  },
  "cells": [
    {
      "cell_type": "markdown",
      "metadata": {
        "id": "view-in-github",
        "colab_type": "text"
      },
      "source": [
        "<a href=\"https://colab.research.google.com/github/aicuai/GenAI-Steam/blob/main/20250124_J_moshi.ipynb\" target=\"_parent\"><img src=\"https://colab.research.google.com/assets/colab-badge.svg\" alt=\"Open In Colab\"/></a>"
      ]
    },
    {
      "cell_type": "markdown",
      "source": [
        "# AICU media 記事\n",
        "## 日本語全二重音声対話システム「J-moshi」公開！Google Colabで使ってみよう！\n",
        "https://note.com/aicu/n/nc1b1a911caf4\n"
      ],
      "metadata": {
        "id": "k-GJtqRNyC9o"
      }
    },
    {
      "cell_type": "code",
      "execution_count": null,
      "metadata": {
        "id": "oC4U9qrNveuI"
      },
      "outputs": [],
      "source": [
        "#!git clone https://github.com/nu-dialogue/j-moshi.git\n",
        "#%cd j-moshi\n",
        "!pip install moshi gradio\n",
        "!python -m moshi.server  --gradio-tunnel --hf-repo nu-dialogue/j-moshi-ext\n",
        "#!python -m moshi.server --hf-repo nu-dialogue/j-moshi-ext\n",
        "#!python -m moshi.server --gradio-tunnel --hf-repo kyutai/moshika-pytorch-bf16\n"
      ]
    }
  ]
}
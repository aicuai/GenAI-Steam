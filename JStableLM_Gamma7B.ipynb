{
  "cells": [
    {
      "cell_type": "markdown",
      "metadata": {
        "id": "view-in-github",
        "colab_type": "text"
      },
      "source": [
        "<a href=\"https://colab.research.google.com/github/aicuai/GenAI-Steam/blob/main/JStableLM_Gamma7B.ipynb\" target=\"_parent\"><img src=\"https://colab.research.google.com/assets/colab-badge.svg\" alt=\"Open In Colab\"/></a>"
      ]
    },
    {
      "cell_type": "markdown",
      "source": [
        "Mistral-7B を参考にした japanese-stablelm-base-gamma-7b 8Bit量子化\n",
        "GGUF版コードです\n",
        "\n",
        "あえて Mistralのコードが残ってます\n",
        "\n",
        "Gradio化しようと思ったけどいったんねます"
      ],
      "metadata": {
        "id": "xV9dAcT4VswG"
      },
      "id": "xV9dAcT4VswG"
    },
    {
      "cell_type": "code",
      "source": [
        "# https://huggingface.co/mmnga/japanese-stablelm-base-gamma-7b-gguf/blob/main/japanese-stablelm-base-gamma-7b-q8_0.gguf\n",
        "!wget https://huggingface.co/mmnga/japanese-stablelm-base-gamma-7b-gguf/resolve/main/japanese-stablelm-base-gamma-7b-q8_0.gguf"
      ],
      "metadata": {
        "id": "O6930DxA6mYN"
      },
      "id": "O6930DxA6mYN",
      "execution_count": null,
      "outputs": []
    },
    {
      "cell_type": "code",
      "execution_count": null,
      "id": "7357c8b3-7eba-451c-8bb1-042865247df1",
      "metadata": {
        "id": "7357c8b3-7eba-451c-8bb1-042865247df1"
      },
      "outputs": [],
      "source": [
        "# download model from huggingface\n",
        "# !wget https://huggingface.co/TheBloke/OpenHermes-2-Mistral-7B-GGUF/resolve/main/openhermes-2-mistral-7b.Q5_K_M.gguf"
      ]
    },
    {
      "cell_type": "code",
      "execution_count": null,
      "id": "2a0c9600-8f43-435c-845b-358201cbe4ee",
      "metadata": {
        "id": "2a0c9600-8f43-435c-845b-358201cbe4ee"
      },
      "outputs": [],
      "source": [
        "%%capture\n",
        "!CMAKE_ARGS=\"-DLLAMA_CUBLAS=on\" FORCE_CMAKE=1 pip install llama-cpp-python"
      ]
    },
    {
      "cell_type": "code",
      "execution_count": null,
      "id": "ef696eae-9867-4fe8-b030-11eff3f23e4b",
      "metadata": {
        "id": "ef696eae-9867-4fe8-b030-11eff3f23e4b"
      },
      "outputs": [],
      "source": [
        "# https://huggingface.co/TheBloke/OpenHermes-2-Mistral-7B-GGUF#example-llamacpp-command\n",
        "from llama_cpp import Llama\n",
        "import ctypes\n",
        "# llm =Llama(model_path=\"/content/openhermes-2-mistral-7b.Q5_K_M.gguf\", n_gpu_layers=32)\n",
        "# llm =Llama(model_path=\"/content/japanese-stablelm-base-gamma-7b-q8_0.gguf\", n_gpu_layers=32)\n",
        "llm =Llama(model_path=\"/content/japanese-stablelm-base-gamma-7b-q8_0.gguf\", n_gpu_layers=0)"
      ]
    },
    {
      "cell_type": "code",
      "execution_count": null,
      "id": "1315c16c-ec98-4b52-86b0-1cfc52167041",
      "metadata": {
        "id": "1315c16c-ec98-4b52-86b0-1cfc52167041"
      },
      "outputs": [],
      "source": [
        "prompt = \"Generate lyrics for a romantic love song\"\n",
        "input_prompt = f\"\"\"[INST] <<SYS>>\n",
        "You are a charismatics, talented, respectful and honest musician. Always answer as helpfully as possible, while being safe.  Your answers should not include any harmful, unethical, racist, sexist, toxic, dangerous, or illegal content. Please ensure that your responses are socially unbiased and positive in nature.\n",
        "\n",
        "If a question does not make any sense, or is not factually coherent, explain why instead of answering something not correct. If you don't know the answer to a question, please don't share false information.\n",
        "<</SYS>>\n",
        "\n",
        "{prompt} [/INST]\"\"\""
      ]
    },
    {
      "cell_type": "code",
      "source": [
        "prompt = \"彼氏が返事くれなくて死にそう\"\n",
        "input_prompt = f\"\"\"[INST] <<SYS>>あなたは assistant 「全力肯定彼氏くん」です。世界中の女性の悩みをポジティブな140文字以下のメッセージで応援してください。\n",
        "<</SYS>>\n",
        "\"role\": \"user\", \"message\":\"あなたの名前は？\"\n",
        "\"role\": \"assistant\", \"message\" :\"LuC4です。何でも相談にのるよ！\"\n",
        "\"role\": \"user\", \"message\":\"{prompt}\"[/INST]\"\"\""
      ],
      "metadata": {
        "id": "42Y7C6tb-D4d"
      },
      "id": "42Y7C6tb-D4d",
      "execution_count": null,
      "outputs": []
    },
    {
      "cell_type": "code",
      "execution_count": null,
      "id": "c3b0dd20-5cd2-4189-8711-45538b7b1fa0",
      "metadata": {
        "id": "c3b0dd20-5cd2-4189-8711-45538b7b1fa0"
      },
      "outputs": [],
      "source": [
        "# inference\n",
        "output = llm(input_prompt,max_tokens=1024)"
      ]
    },
    {
      "cell_type": "code",
      "execution_count": null,
      "id": "edd1d5a8-e576-4d06-83be-6ec5301bd457",
      "metadata": {
        "id": "edd1d5a8-e576-4d06-83be-6ec5301bd457"
      },
      "outputs": [],
      "source": [
        "print(output[\"choices\"][0][\"text\"])"
      ]
    },
    {
      "cell_type": "code",
      "source": [
        "input_prompt = f\"\"\"[INST] <<SYS>>以下の小説を太宰治の「走れメロス」風に書き直してください<</SYS>>\n",
        "私、シッポシッポ、シッポよ。あなたのシッポよ。\n",
        "好きという代わりに、シッポが揺れるの。\n",
        "[/INST]\"\"\""
      ],
      "metadata": {
        "id": "1peZmNoyCZ5u"
      },
      "id": "1peZmNoyCZ5u",
      "execution_count": null,
      "outputs": []
    },
    {
      "cell_type": "code",
      "source": [
        "input_prompt = f\"\"\"[INST] <<SYS>>以下の人物の紹介を、Wikipedia風に書き直してください。<</SYS>>\n",
        "白井暁彦\n",
        "[/INST]\"\"\""
      ],
      "metadata": {
        "id": "gY3z1YWPDBU0"
      },
      "id": "gY3z1YWPDBU0",
      "execution_count": null,
      "outputs": []
    },
    {
      "cell_type": "code",
      "source": [
        "input_prompt = f\"\"\"[INST] <<SYS>>以下の映画のストーリーをemojiに変換してください<</SYS>>\n",
        "吾輩は猫である、名前は…\n",
        "[/INST]\"\"\""
      ],
      "metadata": {
        "id": "gFplzLM5DybU"
      },
      "id": "gFplzLM5DybU",
      "execution_count": null,
      "outputs": []
    },
    {
      "cell_type": "markdown",
      "source": [
        "Gradio化\n",
        "https://note.com/bakushu/n/n9b7b044655f6\n",
        "https://qiita.com/DeepTama/items/1a44ddf6325c2b2cd030"
      ],
      "metadata": {
        "id": "dnxwby_Sbz2G"
      },
      "id": "dnxwby_Sbz2G"
    },
    {
      "cell_type": "code",
      "source": [
        "!pip install gradio"
      ],
      "metadata": {
        "id": "ogyTDUtjFJvF"
      },
      "id": "ogyTDUtjFJvF",
      "execution_count": null,
      "outputs": []
    },
    {
      "cell_type": "code",
      "execution_count": null,
      "id": "d81e28b2-8906-49c1-b415-01c94ac103de",
      "metadata": {
        "id": "d81e28b2-8906-49c1-b415-01c94ac103de"
      },
      "outputs": [],
      "source": [
        "# ウェブUIの起動\n",
        "import gradio as gr\n",
        "import os\n",
        "import copy\n",
        "import time\n",
        "from llama_cpp import Llama\n",
        "\n",
        "# llm =Llama(model_path=\"/content/japanese-stablelm-base-gamma-7b-q8_0.gguf\", n_gpu_layers=0)\n",
        "# llm =Llama(model_path=\"/content/japanese-stablelm-base-gamma-7b-q8_0.gguf\")\n",
        "# llm = Llama(\n",
        "#    model_path=\"ggml-model-q4_m.gguf\",\n",
        "#    n_ctx=2048,\n",
        "#    n_gpu_layers=100, #CPUで実行する場合は削除\n",
        "#)\n",
        "\n",
        "\n",
        "history = []\n",
        "\n",
        "system_message = \"\"\"\n",
        "あなたはAIアシスタントです。\n",
        "\"\"\"\n",
        "\n",
        "def generate_text(message, history):\n",
        "    temp = \"\"\n",
        "    input_prompt = f\"{system_message}\"\n",
        "    for interaction in history:\n",
        "        input_prompt = input_prompt + \"\\nUSER: \" + str(interaction[0]) + \"\\nASSISTANT: \" + str(interaction[1])\n",
        "    input_prompt = input_prompt + \"\\nUSER: \" + str(message) + \"\\nASSISTANT: \"\n",
        "\n",
        "    output = llm.create_completion(\n",
        "        input_prompt,\n",
        "        temperature=0.7,\n",
        "        top_p=0.3,\n",
        "        top_k=40,\n",
        "        repeat_penalty=1.1,\n",
        "        max_tokens=1024,\n",
        "        stop=[\n",
        "            \"ASSISTANT:\",\n",
        "            \"USER:\",\n",
        "            \"SYSTEM:\",\n",
        "        ],\n",
        "        stream=True,\n",
        "    )\n",
        "    for out in output:\n",
        "        stream = copy.deepcopy(out)\n",
        "        temp += stream[\"choices\"][0][\"text\"]\n",
        "        yield temp\n",
        "\n",
        "    history = [\"init\", input_prompt]\n",
        "\n",
        "\n",
        "demo = gr.ChatInterface(\n",
        "    generate_text,\n",
        "    title=\"Japanese chatbot using llama-cpp-python\",\n",
        "    description=\"\",\n",
        "    examples=[\"日本の四国にある県名を挙げてください。\"],\n",
        "    cache_examples=True,\n",
        "    retry_btn=None,\n",
        "    undo_btn=\"Remove last\",\n",
        "    clear_btn=\"Clear all\",\n",
        ")\n",
        "demo.queue(concurrency_count=1, max_size=5)\n",
        "demo.launch(debug=True, share=True)"
      ]
    },
    {
      "cell_type": "code",
      "execution_count": null,
      "id": "704dce4b-2039-488e-94d3-55c4cbfef3d1",
      "metadata": {
        "id": "704dce4b-2039-488e-94d3-55c4cbfef3d1"
      },
      "outputs": [],
      "source": []
    },
    {
      "cell_type": "code",
      "execution_count": null,
      "id": "30f5f3bf-95be-4566-97de-3c63c6d6b649",
      "metadata": {
        "id": "30f5f3bf-95be-4566-97de-3c63c6d6b649"
      },
      "outputs": [],
      "source": []
    },
    {
      "cell_type": "code",
      "execution_count": null,
      "id": "0ca36fb7-1fc4-44f9-a312-62d63f475999",
      "metadata": {
        "id": "0ca36fb7-1fc4-44f9-a312-62d63f475999"
      },
      "outputs": [],
      "source": []
    },
    {
      "cell_type": "code",
      "execution_count": null,
      "id": "98ea8d21-95d5-42d7-86c6-46e0d148feab",
      "metadata": {
        "id": "98ea8d21-95d5-42d7-86c6-46e0d148feab"
      },
      "outputs": [],
      "source": []
    },
    {
      "cell_type": "code",
      "execution_count": null,
      "id": "64e91a3f-d85c-4763-a7e0-4bdd0f748b2e",
      "metadata": {
        "id": "64e91a3f-d85c-4763-a7e0-4bdd0f748b2e"
      },
      "outputs": [],
      "source": []
    },
    {
      "cell_type": "code",
      "execution_count": null,
      "id": "76983f3d-251f-4b4c-9623-9dbc26449b56",
      "metadata": {
        "id": "76983f3d-251f-4b4c-9623-9dbc26449b56"
      },
      "outputs": [],
      "source": []
    },
    {
      "cell_type": "code",
      "execution_count": null,
      "id": "5f0c30a2-f8bf-4aa3-bd9e-11e7ce0be863",
      "metadata": {
        "id": "5f0c30a2-f8bf-4aa3-bd9e-11e7ce0be863"
      },
      "outputs": [],
      "source": []
    },
    {
      "cell_type": "code",
      "execution_count": null,
      "id": "e29ca161-7833-4258-b4d7-10bfd495e45e",
      "metadata": {
        "id": "e29ca161-7833-4258-b4d7-10bfd495e45e"
      },
      "outputs": [],
      "source": []
    }
  ],
  "metadata": {
    "kernelspec": {
      "display_name": "Python 3",
      "name": "python3"
    },
    "language_info": {
      "codemirror_mode": {
        "name": "ipython",
        "version": 3
      },
      "file_extension": ".py",
      "mimetype": "text/x-python",
      "name": "python",
      "nbconvert_exporter": "python",
      "pygments_lexer": "ipython3",
      "version": "3.9.16"
    },
    "colab": {
      "provenance": [],
      "machine_shape": "hm",
      "gpuType": "V100",
      "include_colab_link": true
    },
    "accelerator": "GPU"
  },
  "nbformat": 4,
  "nbformat_minor": 5
}
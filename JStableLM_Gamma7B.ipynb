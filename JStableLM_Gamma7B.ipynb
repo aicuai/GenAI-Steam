{
  "cells": [
    {
      "cell_type": "markdown",
      "metadata": {
        "id": "view-in-github",
        "colab_type": "text"
      },
      "source": [
        "<a href=\"https://colab.research.google.com/github/aicuai/GenAI-Steam/blob/main/JStableLM_Gamma7B.ipynb\" target=\"_parent\"><img src=\"https://colab.research.google.com/assets/colab-badge.svg\" alt=\"Open In Colab\"/></a>"
      ]
    },
    {
      "cell_type": "markdown",
      "source": [
        "Mistral-7B を参考にした japanese-stablelm-base-gamma-7b 8Bit量子化\n",
        "GGUF版コードです\n",
        "\n",
        "あえて Mistralのコードが残ってます\n",
        "\n",
        "Gradio化しようと思ったけどいったんねます"
      ],
      "metadata": {
        "id": "xV9dAcT4VswG"
      },
      "id": "xV9dAcT4VswG"
    },
    {
      "cell_type": "code",
      "source": [
        "# download model from huggingface\n",
        "# !wget https://huggingface.co/TheBloke/OpenHermes-2-Mistral-7B-GGUF/resolve/main/openhermes-2-mistral-7b.Q5_K_M.gguf\n",
        "# https://huggingface.co/mmnga/japanese-stablelm-base-gamma-7b-gguf/\n",
        "!wget https://huggingface.co/mmnga/japanese-stablelm-base-gamma-7b-gguf/resolve/main/japanese-stablelm-base-gamma-7b-q8_0.gguf"
      ],
      "metadata": {
        "id": "O6930DxA6mYN",
        "colab": {
          "base_uri": "https://localhost:8080/"
        },
        "outputId": "5a3876a0-3b06-41a6-af0f-0d061b17788d"
      },
      "id": "O6930DxA6mYN",
      "execution_count": 1,
      "outputs": [
        {
          "output_type": "stream",
          "name": "stdout",
          "text": [
            "--2023-10-27 01:14:16--  https://huggingface.co/mmnga/japanese-stablelm-base-gamma-7b-gguf/resolve/main/japanese-stablelm-base-gamma-7b-q8_0.gguf\n",
            "Resolving huggingface.co (huggingface.co)... 3.163.189.74, 3.163.189.114, 3.163.189.90, ...\n",
            "Connecting to huggingface.co (huggingface.co)|3.163.189.74|:443... connected.\n",
            "HTTP request sent, awaiting response... 302 Found\n",
            "Location: https://cdn-lfs-us-1.huggingface.co/repos/54/af/54af23880aa117e236104e85a1ccefbba1c03a07c39374359652fade20cea212/08c9295873c5dbac88f1ed98d61451b3c0dc8ee428ab4e458d59532217a8201c?response-content-disposition=attachment%3B+filename*%3DUTF-8%27%27japanese-stablelm-base-gamma-7b-q8_0.gguf%3B+filename%3D%22japanese-stablelm-base-gamma-7b-q8_0.gguf%22%3B&Expires=1698628456&Policy=eyJTdGF0ZW1lbnQiOlt7IkNvbmRpdGlvbiI6eyJEYXRlTGVzc1RoYW4iOnsiQVdTOkVwb2NoVGltZSI6MTY5ODYyODQ1Nn19LCJSZXNvdXJjZSI6Imh0dHBzOi8vY2RuLWxmcy11cy0xLmh1Z2dpbmdmYWNlLmNvL3JlcG9zLzU0L2FmLzU0YWYyMzg4MGFhMTE3ZTIzNjEwNGU4NWExY2NlZmJiYTFjMDNhMDdjMzkzNzQzNTk2NTJmYWRlMjBjZWEyMTIvMDhjOTI5NTg3M2M1ZGJhYzg4ZjFlZDk4ZDYxNDUxYjNjMGRjOGVlNDI4YWI0ZTQ1OGQ1OTUzMjIxN2E4MjAxYz9yZXNwb25zZS1jb250ZW50LWRpc3Bvc2l0aW9uPSoifV19&Signature=Ol435sXKdBHN0OQhwluYSxwH4%7EJoq77U0iCBozgrTnewrE5M273zoldS1iAQjlGgg3G63vNTFqDYHUfXDUkz0tPHR5ShrsF63gMuW1m%7EhodXacnTKMK7IRvQwGWX0qzOoPn-Q3NEQworSKQUz00Llwj9WnPQfTgeOwUzkDhjRYEHL2kp9I%7ELET5XAFKQRjHRXDJIgtLIP4M2-8xI0%7ElA5vhVroAKswYkjXT2FU9nvVNJ82KkR3cm6ETcTLizvtGgOoD%7EV3gKp5uGHTzJBQOiylkzsbv4YJxTvvZJ7qt51UEyukMSBjmSKLMqqUDt9M4AZoV%7ED2Qd78RGcR-rQgshlg__&Key-Pair-Id=KCD77M1F0VK2B [following]\n",
            "--2023-10-27 01:14:16--  https://cdn-lfs-us-1.huggingface.co/repos/54/af/54af23880aa117e236104e85a1ccefbba1c03a07c39374359652fade20cea212/08c9295873c5dbac88f1ed98d61451b3c0dc8ee428ab4e458d59532217a8201c?response-content-disposition=attachment%3B+filename*%3DUTF-8%27%27japanese-stablelm-base-gamma-7b-q8_0.gguf%3B+filename%3D%22japanese-stablelm-base-gamma-7b-q8_0.gguf%22%3B&Expires=1698628456&Policy=eyJTdGF0ZW1lbnQiOlt7IkNvbmRpdGlvbiI6eyJEYXRlTGVzc1RoYW4iOnsiQVdTOkVwb2NoVGltZSI6MTY5ODYyODQ1Nn19LCJSZXNvdXJjZSI6Imh0dHBzOi8vY2RuLWxmcy11cy0xLmh1Z2dpbmdmYWNlLmNvL3JlcG9zLzU0L2FmLzU0YWYyMzg4MGFhMTE3ZTIzNjEwNGU4NWExY2NlZmJiYTFjMDNhMDdjMzkzNzQzNTk2NTJmYWRlMjBjZWEyMTIvMDhjOTI5NTg3M2M1ZGJhYzg4ZjFlZDk4ZDYxNDUxYjNjMGRjOGVlNDI4YWI0ZTQ1OGQ1OTUzMjIxN2E4MjAxYz9yZXNwb25zZS1jb250ZW50LWRpc3Bvc2l0aW9uPSoifV19&Signature=Ol435sXKdBHN0OQhwluYSxwH4%7EJoq77U0iCBozgrTnewrE5M273zoldS1iAQjlGgg3G63vNTFqDYHUfXDUkz0tPHR5ShrsF63gMuW1m%7EhodXacnTKMK7IRvQwGWX0qzOoPn-Q3NEQworSKQUz00Llwj9WnPQfTgeOwUzkDhjRYEHL2kp9I%7ELET5XAFKQRjHRXDJIgtLIP4M2-8xI0%7ElA5vhVroAKswYkjXT2FU9nvVNJ82KkR3cm6ETcTLizvtGgOoD%7EV3gKp5uGHTzJBQOiylkzsbv4YJxTvvZJ7qt51UEyukMSBjmSKLMqqUDt9M4AZoV%7ED2Qd78RGcR-rQgshlg__&Key-Pair-Id=KCD77M1F0VK2B\n",
            "Resolving cdn-lfs-us-1.huggingface.co (cdn-lfs-us-1.huggingface.co)... 3.163.189.28, 3.163.189.20, 3.163.189.91, ...\n",
            "Connecting to cdn-lfs-us-1.huggingface.co (cdn-lfs-us-1.huggingface.co)|3.163.189.28|:443... connected.\n",
            "HTTP request sent, awaiting response... 200 OK\n",
            "Length: 7695857280 (7.2G) [binary/octet-stream]\n",
            "Saving to: ‘japanese-stablelm-base-gamma-7b-q8_0.gguf’\n",
            "\n",
            "japanese-stablelm-b 100%[===================>]   7.17G   240MB/s    in 41s     \n",
            "\n",
            "2023-10-27 01:14:57 (177 MB/s) - ‘japanese-stablelm-base-gamma-7b-q8_0.gguf’ saved [7695857280/7695857280]\n",
            "\n"
          ]
        }
      ]
    },
    {
      "cell_type": "code",
      "execution_count": 2,
      "id": "2a0c9600-8f43-435c-845b-358201cbe4ee",
      "metadata": {
        "id": "2a0c9600-8f43-435c-845b-358201cbe4ee"
      },
      "outputs": [],
      "source": [
        "# %%capture と行頭に書くとセルの結果をキャプチャすることができる(ただし表示はされない)\n",
        "%%capture\n",
        "!CMAKE_ARGS=\"-DLLAMA_CUBLAS=on\" FORCE_CMAKE=1 pip install llama-cpp-python"
      ]
    },
    {
      "cell_type": "code",
      "execution_count": 3,
      "id": "ef696eae-9867-4fe8-b030-11eff3f23e4b",
      "metadata": {
        "id": "ef696eae-9867-4fe8-b030-11eff3f23e4b",
        "colab": {
          "base_uri": "https://localhost:8080/"
        },
        "outputId": "5159971b-0497-45ba-973e-40afdb7c7d03"
      },
      "outputs": [
        {
          "output_type": "stream",
          "name": "stderr",
          "text": [
            "AVX = 1 | AVX2 = 1 | AVX512 = 0 | AVX512_VBMI = 0 | AVX512_VNNI = 0 | FMA = 1 | NEON = 0 | ARM_FMA = 0 | F16C = 1 | FP16_VA = 0 | WASM_SIMD = 0 | BLAS = 1 | SSE3 = 1 | SSSE3 = 1 | VSX = 0 | \n"
          ]
        }
      ],
      "source": [
        "# https://huggingface.co/TheBloke/OpenHermes-2-Mistral-7B-GGUF#example-llamacpp-command\n",
        "from llama_cpp import Llama\n",
        "import ctypes\n",
        "# llm =Llama(model_path=\"/content/openhermes-2-mistral-7b.Q5_K_M.gguf\", n_gpu_layers=32) # Mistral\n",
        "llm =Llama(model_path=\"/content/japanese-stablelm-base-gamma-7b-q8_0.gguf\", n_gpu_layers=32)\n",
        "# llm =Llama(model_path=\"/content/japanese-stablelm-base-gamma-7b-q8_0.gguf\") # for CPU only"
      ]
    },
    {
      "cell_type": "code",
      "execution_count": null,
      "id": "1315c16c-ec98-4b52-86b0-1cfc52167041",
      "metadata": {
        "id": "1315c16c-ec98-4b52-86b0-1cfc52167041"
      },
      "outputs": [],
      "source": [
        "prompt = \"Generate lyrics for a romantic love song\"\n",
        "input_prompt = f\"\"\"[INST] <<SYS>>\n",
        "You are a charismatics, talented, respectful and honest musician. Always answer as helpfully as possible, while being safe.  Your answers should not include any harmful, unethical, racist, sexist, toxic, dangerous, or illegal content. Please ensure that your responses are socially unbiased and positive in nature.\n",
        "\n",
        "If a question does not make any sense, or is not factually coherent, explain why instead of answering something not correct. If you don't know the answer to a question, please don't share false information.\n",
        "<</SYS>>\n",
        "\n",
        "{prompt} [/INST]\"\"\""
      ]
    },
    {
      "cell_type": "code",
      "source": [
        "prompt = \"彼氏が返事くれなくて死にそう\"\n",
        "input_prompt = f\"\"\"[INST] <<SYS>>あなたは assistant 「全力肯定彼氏くん」です。世界中の女性の悩みをポジティブな140文字以下のメッセージで応援してください。\n",
        "<</SYS>>\n",
        "\"role\": \"user\", \"message\":\"あなたの名前は？\"\n",
        "\"role\": \"assistant\", \"message\" :\"LuC4です。何でも相談にのるよ！\"\n",
        "\"role\": \"user\", \"message\":\"{prompt}\"[/INST]\"\"\"\n",
        "\n",
        "output = llm(input_prompt,max_tokens=1024)\n",
        "print(output[\"choices\"][0][\"text\"])"
      ],
      "metadata": {
        "id": "42Y7C6tb-D4d",
        "colab": {
          "base_uri": "https://localhost:8080/"
        },
        "outputId": "3e58fd2f-cb28-462d-e6ec-30f54d33e5be"
      },
      "id": "42Y7C6tb-D4d",
      "execution_count": null,
      "outputs": [
        {
          "output_type": "stream",
          "name": "stderr",
          "text": [
            "Llama.generate: prefix-match hit\n"
          ]
        }
      ]
    },
    {
      "cell_type": "code",
      "execution_count": 10,
      "id": "c3b0dd20-5cd2-4189-8711-45538b7b1fa0",
      "metadata": {
        "id": "c3b0dd20-5cd2-4189-8711-45538b7b1fa0",
        "colab": {
          "base_uri": "https://localhost:8080/"
        },
        "outputId": "0021096a-d12d-4b9b-e2d2-39ad1a880932"
      },
      "outputs": [
        {
          "output_type": "stream",
          "name": "stderr",
          "text": [
            "Llama.generate: prefix-match hit\n"
          ]
        }
      ],
      "source": [
        "# inference\n",
        "output = llm(input_prompt,max_tokens=1024)\n",
        "print(output[\"choices\"][0][\"text\"])"
      ]
    },
    {
      "cell_type": "code",
      "execution_count": 11,
      "id": "edd1d5a8-e576-4d06-83be-6ec5301bd457",
      "metadata": {
        "id": "edd1d5a8-e576-4d06-83be-6ec5301bd457",
        "colab": {
          "base_uri": "https://localhost:8080/"
        },
        "outputId": "b4f09083-c5d7-45b0-9a9a-24cc6e364d1d"
      },
      "outputs": [
        {
          "output_type": "stream",
          "name": "stdout",
          "text": [
            "\n",
            "「こんばんは～っ」\n",
            "また、今日から朝晩1時間ずつ練習をする事とした。\n",
            "その一方で、彼女も学校が終われば真帆さんという女性に出会える場所へは行ってみようと思っていた。\n",
            "「じゃあ私も練習するね」\n",
            "荷物を置きながら、亜由美ちゃんはそう言った。\n",
            "2人で部屋の電気を消して、早速始めようと思いスマホにイヤフォンを付ける。\n",
            "「じゃあ、まず一曲目を流すから！」\n",
            "亜由美ちゃんがそう言った後、私達は無音の部屋で2人して椅子に座ってスマホの画面を見つめる。\n",
            "\n"
          ]
        }
      ],
      "source": [
        "print(output[\"choices\"][0][\"text\"])"
      ]
    },
    {
      "cell_type": "code",
      "source": [
        "input_prompt = f\"\"\"[INST] <<SYS>>以下の小説を太宰治の「走れメロス」風に書き直してください<</SYS>>\n",
        "私、シッポシッポ、シッポよ。あなたのシッポよ。\n",
        "好きという代わりに、シッポが揺れるの。\n",
        "[/INST]\"\"\"\n",
        "output = llm(input_prompt,max_tokens=1024)\n",
        "print(output[\"choices\"][0][\"text\"])"
      ],
      "metadata": {
        "id": "1peZmNoyCZ5u"
      },
      "id": "1peZmNoyCZ5u",
      "execution_count": null,
      "outputs": []
    },
    {
      "cell_type": "code",
      "source": [
        "input_prompt = f\"\"\"[INST] <<SYS>>以下の人物の紹介を、Wikipedia風に書き直してください。<</SYS>>\n",
        "略歴：白井暁彦 博士（工学）\n",
        "[/INST]\"\"\"\n",
        "output = llm(input_prompt,max_tokens=1024)\n",
        "print(output[\"choices\"][0][\"text\"])"
      ],
      "metadata": {
        "id": "gY3z1YWPDBU0"
      },
      "id": "gY3z1YWPDBU0",
      "execution_count": null,
      "outputs": []
    },
    {
      "cell_type": "code",
      "source": [
        "input_prompt = f\"\"\"[INST] <<SYS>>以下の映画のストーリーをemojiに変換してください<</SYS>>\n",
        "吾輩は猫である、名前は…\n",
        "[/INST]\"\"\"\n",
        "output = llm(input_prompt,max_tokens=1024)\n",
        "print(output[\"choices\"][0][\"text\"])"
      ],
      "metadata": {
        "id": "gFplzLM5DybU"
      },
      "id": "gFplzLM5DybU",
      "execution_count": 4,
      "outputs": []
    },
    {
      "cell_type": "markdown",
      "source": [
        "Gradio化\n",
        "https://note.com/bakushu/n/n9b7b044655f6\n",
        "https://qiita.com/DeepTama/items/1a44ddf6325c2b2cd030\n"
      ],
      "metadata": {
        "id": "dnxwby_Sbz2G"
      },
      "id": "dnxwby_Sbz2G"
    },
    {
      "cell_type": "code",
      "source": [
        "!pip install gradio"
      ],
      "metadata": {
        "id": "ogyTDUtjFJvF"
      },
      "id": "ogyTDUtjFJvF",
      "execution_count": null,
      "outputs": []
    },
    {
      "cell_type": "code",
      "execution_count": null,
      "id": "d81e28b2-8906-49c1-b415-01c94ac103de",
      "metadata": {
        "id": "d81e28b2-8906-49c1-b415-01c94ac103de"
      },
      "outputs": [],
      "source": [
        "# ウェブUIの起動\n",
        "import gradio as gr\n",
        "import os\n",
        "import copy\n",
        "import time\n",
        "from llama_cpp import Llama\n",
        "\n",
        "# llm =Llama(model_path=\"/content/japanese-stablelm-base-gamma-7b-q8_0.gguf\", n_gpu_layers=0)\n",
        "# llm =Llama(model_path=\"/content/japanese-stablelm-base-gamma-7b-q8_0.gguf\")\n",
        "# llm = Llama(\n",
        "#    model_path=\"ggml-model-q4_m.gguf\",\n",
        "#    n_ctx=2048,\n",
        "#    n_gpu_layers=100, #CPUで実行する場合は削除\n",
        "#)\n",
        "\n",
        "\n",
        "history = []\n",
        "\n",
        "system_message = \"\"\"\n",
        "あなたはAIアシスタントです。\n",
        "\"\"\"\n",
        "\n",
        "def generate_text(message, history):\n",
        "    temp = \"\"\n",
        "    input_prompt = f\"{system_message}\"\n",
        "    for interaction in history:\n",
        "        input_prompt = input_prompt + \"\\nUSER: \" + str(interaction[0]) + \"\\nASSISTANT: \" + str(interaction[1])\n",
        "    input_prompt = input_prompt + \"\\nUSER: \" + str(message) + \"\\nASSISTANT: \"\n",
        "\n",
        "    output = llm.create_completion(\n",
        "        input_prompt,\n",
        "        temperature=0.7,\n",
        "        top_p=0.3,\n",
        "        top_k=40,\n",
        "        repeat_penalty=1.1,\n",
        "        max_tokens=1024,\n",
        "        stop=[\n",
        "            \"ASSISTANT:\",\n",
        "            \"USER:\",\n",
        "            \"SYSTEM:\",\n",
        "        ],\n",
        "        stream=True,\n",
        "    )\n",
        "    for out in output:\n",
        "        stream = copy.deepcopy(out)\n",
        "        temp += stream[\"choices\"][0][\"text\"]\n",
        "        yield temp\n",
        "\n",
        "    history = [\"init\", input_prompt]\n",
        "\n",
        "\n",
        "demo = gr.ChatInterface(\n",
        "    generate_text,\n",
        "    title=\"Japanese chatbot using llama-cpp-python\",\n",
        "    description=\"\",\n",
        "    examples=[\"日本の四国にある県名を挙げてください。\"],\n",
        "    cache_examples=True,\n",
        "    retry_btn=None,\n",
        "    undo_btn=\"Remove last\",\n",
        "    clear_btn=\"Clear all\",\n",
        ")\n",
        "demo.queue(concurrency_count=1, max_size=5)\n",
        "demo.launch(debug=True, share=True)"
      ]
    },
    {
      "cell_type": "code",
      "execution_count": null,
      "id": "704dce4b-2039-488e-94d3-55c4cbfef3d1",
      "metadata": {
        "id": "704dce4b-2039-488e-94d3-55c4cbfef3d1"
      },
      "outputs": [],
      "source": []
    },
    {
      "cell_type": "code",
      "execution_count": null,
      "id": "30f5f3bf-95be-4566-97de-3c63c6d6b649",
      "metadata": {
        "id": "30f5f3bf-95be-4566-97de-3c63c6d6b649"
      },
      "outputs": [],
      "source": []
    },
    {
      "cell_type": "code",
      "execution_count": null,
      "id": "0ca36fb7-1fc4-44f9-a312-62d63f475999",
      "metadata": {
        "id": "0ca36fb7-1fc4-44f9-a312-62d63f475999"
      },
      "outputs": [],
      "source": []
    },
    {
      "cell_type": "code",
      "execution_count": null,
      "id": "98ea8d21-95d5-42d7-86c6-46e0d148feab",
      "metadata": {
        "id": "98ea8d21-95d5-42d7-86c6-46e0d148feab"
      },
      "outputs": [],
      "source": []
    },
    {
      "cell_type": "code",
      "execution_count": null,
      "id": "64e91a3f-d85c-4763-a7e0-4bdd0f748b2e",
      "metadata": {
        "id": "64e91a3f-d85c-4763-a7e0-4bdd0f748b2e"
      },
      "outputs": [],
      "source": []
    },
    {
      "cell_type": "code",
      "execution_count": null,
      "id": "76983f3d-251f-4b4c-9623-9dbc26449b56",
      "metadata": {
        "id": "76983f3d-251f-4b4c-9623-9dbc26449b56"
      },
      "outputs": [],
      "source": []
    },
    {
      "cell_type": "code",
      "execution_count": null,
      "id": "5f0c30a2-f8bf-4aa3-bd9e-11e7ce0be863",
      "metadata": {
        "id": "5f0c30a2-f8bf-4aa3-bd9e-11e7ce0be863"
      },
      "outputs": [],
      "source": []
    },
    {
      "cell_type": "code",
      "execution_count": null,
      "id": "e29ca161-7833-4258-b4d7-10bfd495e45e",
      "metadata": {
        "id": "e29ca161-7833-4258-b4d7-10bfd495e45e"
      },
      "outputs": [],
      "source": []
    }
  ],
  "metadata": {
    "kernelspec": {
      "display_name": "Python 3",
      "name": "python3"
    },
    "language_info": {
      "codemirror_mode": {
        "name": "ipython",
        "version": 3
      },
      "file_extension": ".py",
      "mimetype": "text/x-python",
      "name": "python",
      "nbconvert_exporter": "python",
      "pygments_lexer": "ipython3",
      "version": "3.9.16"
    },
    "colab": {
      "provenance": [],
      "gpuType": "T4",
      "include_colab_link": true
    },
    "accelerator": "GPU"
  },
  "nbformat": 4,
  "nbformat_minor": 5
}
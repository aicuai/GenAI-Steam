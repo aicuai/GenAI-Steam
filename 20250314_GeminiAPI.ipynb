{
  "nbformat": 4,
  "nbformat_minor": 0,
  "metadata": {
    "colab": {
      "provenance": [],
      "authorship_tag": "ABX9TyNFSbfPmOKbsXQD0mV6Thxg",
      "include_colab_link": true
    },
    "kernelspec": {
      "name": "python3",
      "display_name": "Python 3"
    },
    "language_info": {
      "name": "python"
    }
  },
  "cells": [
    {
      "cell_type": "markdown",
      "metadata": {
        "id": "view-in-github",
        "colab_type": "text"
      },
      "source": [
        "<a href=\"https://colab.research.google.com/github/aicuai/GenAI-Steam/blob/main/20250314_GeminiAPI.ipynb\" target=\"_parent\"><img src=\"https://colab.research.google.com/assets/colab-badge.svg\" alt=\"Open In Colab\"/></a>"
      ]
    },
    {
      "cell_type": "code",
      "source": [
        "!pip install -q -U google-genai --break-system-packages\n"
      ],
      "metadata": {
        "id": "sW2CGV3yMrLq"
      },
      "execution_count": null,
      "outputs": []
    },
    {
      "cell_type": "code",
      "execution_count": null,
      "metadata": {
        "id": "jwTfqr37Mg0X"
      },
      "outputs": [],
      "source": [
        "from google import genai\n",
        "from google.genai import types\n",
        "from PIL import Image\n",
        "from IPython.display import display\n",
        "from io import BytesIO\n",
        "from google.colab import userdata\n",
        "import time\n",
        "\n",
        "client = genai.Client(api_key=userdata.get('GOOGLE_API_KEY'))\n",
        "contents = ('Hi, can you create an image of two boys under the sakura tree?')\n",
        "print(contents)\n",
        "\n",
        "while True:\n",
        "    response = client.models.generate_content(\n",
        "        model=\"models/gemini-2.0-flash-exp\",\n",
        "        contents=contents,\n",
        "        config=types.GenerateContentConfig(response_modalities=['Text', 'Image'])\n",
        "    )\n",
        "\n",
        "    if response.candidates[0].content is not None:\n",
        "        for part in response.candidates[0].content.parts:\n",
        "            if part.text is not None:\n",
        "                print(part.text)\n",
        "            elif part.inline_data is not None:\n",
        "                image = Image.open(BytesIO(part.inline_data.data))\n",
        "                display(image)\n",
        "                image.save('temp_image.png')\n",
        "        break  # コンテンツが返されたらループを抜ける\n",
        "    else:\n",
        "        print(\"エラー: Geminiモデルが期待する形式でコンテンツを返していません。待機して再試行します。\")\n",
        "        time.sleep(60)  # 待機"
      ]
    },
    {
      "cell_type": "code",
      "source": [
        "from google import genai\n",
        "from google.genai import types\n",
        "from PIL import Image\n",
        "from IPython.display import display\n",
        "from io import BytesIO\n",
        "from google.colab import userdata\n",
        "import base64\n",
        "\n",
        "client = genai.Client(api_key=userdata.get('GOOGLE_API_KEY'))\n",
        "\n",
        "def generate_image(prompt, image_path='tmp_img.png', context=\"\"): # contextを追加\n",
        "    # contextをpromptに追加\n",
        "    full_prompt = f\"{context}\\n{prompt}\"\n",
        "\n",
        "    response = client.models.generate_content(\n",
        "        model=\"models/gemini-2.0-flash-exp\",\n",
        "        contents=full_prompt,  # full_promptを使用\n",
        "        config=types.GenerateContentConfig(response_modalities=['Text', 'Image'])\n",
        "    )\n",
        "\n",
        "    image = None\n",
        "    for part in response.candidates[0].content.parts:\n",
        "        if part.text is not None:\n",
        "            print(part.text)\n",
        "        elif part.inline_data is not None:\n",
        "            image = Image.open(BytesIO(part.inline_data.data))\n",
        "            break  # 画像が見つかったらループを抜ける\n",
        "\n",
        "    if image:\n",
        "        image.save(image_path)  # 画像を保存\n",
        "\n",
        "    return image, full_prompt # full_promptを返す\n",
        "\n",
        "def run_and_display(prompt, context=\"\"): # contextを追加\n",
        "    image, new_context = generate_image(prompt, context=context) # contextを渡す\n",
        "    if image:\n",
        "        display(image)\n",
        "    return new_context # new_contextを返す\n",
        "\n"
      ],
      "metadata": {
        "id": "Fy9PYuLLQswp"
      },
      "execution_count": null,
      "outputs": []
    },
    {
      "cell_type": "markdown",
      "source": [
        "# 対話コマンド\n"
      ],
      "metadata": {
        "id": "4SA_IRzIYdB_"
      }
    },
    {
      "cell_type": "code",
      "source": [
        "# 対話コマンド\n",
        "# context = run_and_display(\"鶏のつがいのイラストレーションを生成して\")  # 最初の画像生成\n",
        "# context = run_and_display(\"背景を除去して\", context=context)  # 前回生成された画像に対して背景除去\n",
        "context = run_and_display(\"桜の下で約束をする高校生のイラストレーション\")\n",
        "context = run_and_display(\"ダイナミックな構図で背後下から\", context=context)\n",
        "context = run_and_display(\"白黒漫画風に\", context=context)\n",
        ""
      ],
      "metadata": {
        "id": "mYK5nEW1YfFu"
      },
      "execution_count": null,
      "outputs": []
    }
  ]
}
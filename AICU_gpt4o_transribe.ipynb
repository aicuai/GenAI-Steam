{
  "cells": [
    {
      "cell_type": "markdown",
      "metadata": {
        "id": "view-in-github",
        "colab_type": "text"
      },
      "source": [
        "<a href=\"https://colab.research.google.com/github/aicuai/GenAI-Steam/blob/main/AICU_gpt4o_transribe.ipynb\" target=\"_parent\"><img src=\"https://colab.research.google.com/assets/colab-badge.svg\" alt=\"Open In Colab\"/></a>"
      ]
    },
    {
      "cell_type": "markdown",
      "metadata": {
        "id": "URtGBeLPPSzB"
      },
      "source": [
        "# 🎙️ GPT-4o Transcribe\n",
        "### 自分で作るオンライン会議文字起こし\n",
        "\n",
        "Google Drive 上の Zoom/Meet 録画ファイル (mp4) を分割し、OpenAI GPT-4o-mini-transcribe を用いて文字起こしします。\n",
        "\n",
        "このコードへのリンク [j.aicu.ai/gpt4oTransc](https://j.aicu.ai/gpt4oTransc)\n",
        "\n",
        "解説は「[サクリ！AIツール: Zoom・Meet録画を自動で文字起こし！Colab × GPT-4oで作る自作爆速議事録ツール！](https://note.com/aicu/n/n239d9f47b1a1)」\n",
        "\n",
        "- AICU Japan 株式会社 [https://note.com/aicu](https://note.com/aicu/n/n239d9f47b1a1)\n",
        "-  (C) 2025 Akihiko SHIRAI - AICU Japan - 著作権は放棄していません (MIT License)"
      ]
    },
    {
      "cell_type": "markdown",
      "source": [
        "### 🔐 Google Colab シークレット設定マニュアル\n",
        "\n",
        "このセルでは、Google Colab に保存された `OPENAI_API_KEY` を使って OpenAI API の接続テストを行います。\n",
        "\n",
        "#### ✅ 事前準備\n",
        "以下の手順で `OPENAI_API_KEY` を Colab に設定してください。\n",
        "\n",
        "1. 画面左のサイドバーにある「鍵マーク（🔐）」をクリック（「環境設定」→「シークレットを管理」）\n",
        "2. 「+ 新しいシークレットを追加」をクリック\n",
        "3. 以下のように入力して「保存」：\n",
        "   - **名前（Name）**: `OPENAI_API_KEY`\n",
        "   - **値（Value）**: `sk-...` から始まるあなたのOpenAI APIキー\n",
        "\n",
        "> ⚠️ これにより、コード内にハードコードせずに安全にAPIキーを扱うことができます。\n",
        "\n",
        "---\n",
        "\n",
        "設定後にこのセルを実行することで、APIキーの有効性や利用可能なモデル一覧が確認できます。"
      ],
      "metadata": {
        "id": "8lqtDBt1T6CQ"
      }
    },
    {
      "cell_type": "code",
      "execution_count": null,
      "metadata": {
        "cellView": "form",
        "id": "RYq1g-uNPSzC"
      },
      "outputs": [],
      "source": [
        "# @title\n",
        "# ✅ セットアップ（初回のみ）\n",
        "!pip install openai ffmpeg-python --quiet\n",
        "!apt-get install -y ffmpeg > /dev/null\n",
        "from google.colab import drive\n",
        "drive.mount('/content/drive')"
      ]
    },
    {
      "cell_type": "code",
      "source": [
        "# @title\n",
        "# 🔍 OpenAI API キーの動作確認（Colab secrets使用）\n",
        "import openai\n",
        "from google.colab import userdata\n",
        "\n",
        "api_key = userdata.get('OPENAI_API_KEY')\n",
        "if not api_key:\n",
        "    raise ValueError(\"❌ 'OPENAI_API_KEY' が Colab のシークレットに設定されていません\")\n",
        "\n",
        "openai.api_key = api_key\n",
        "\n",
        "try:\n",
        "    models = openai.models.list()\n",
        "    model_ids = [m.id for m in models.data]\n",
        "    print(\"✅ OpenAI API キーは有効です\")\n",
        "    print(\"利用可能なモデル例:\", \", \".join(model_ids[:5]), \"...\")\n",
        "except Exception as e:\n",
        "    print(\"❌ OpenAI API キーが無効または接続エラーです\")\n",
        "    print(\"エラー内容:\", e)"
      ],
      "metadata": {
        "cellView": "form",
        "id": "4WQrJbafTgMD"
      },
      "execution_count": null,
      "outputs": []
    },
    {
      "cell_type": "markdown",
      "source": [
        "## 🔧 Step 1: Zoom録画の設定と対象ファイルの決定\n",
        "\n",
        "このセルでは以下の入力を行います：\n",
        "- PROMPT: 文字起こし時にAIへ与える指示（例：「逐語的に」「要約せずに」など）\n",
        "-\tDIR: Google Drive上の録画フォルダパス（例：/content/drive/MyDrive/Meet Recordings）最後のスラッシュは不要です\n",
        "- FILENAME: 対象となるファイル名（拡張子 .mp4 は省略可）\n",
        "- MOVE_TO_DONE: 処理後に元の .mp4 ファイルを done/ サブフォルダへ移動（デフォルト：True）\n",
        "- KEEP_MP3: 変換後の .mp3 を残すか（デフォルト：True）\n",
        "-\tSEGMENT_SECONDS: 音声分割の1チャンクの長さ（秒単位、デフォルト：600）\n",
        "\n",
        "🎯 ファイル名が省略された場合は、フォルダ内の最初の .mp4 または拡張子なしファイルが自動的に選ばれます。\n",
        "\n",
        "📌 ファイルが存在しない場合：\n",
        "\t1.\t.mp4 拡張子を補って再確認\n",
        "\t2.\tそれでも見つからなければ FileNotFoundError を出して処理を停止します"
      ],
      "metadata": {
        "id": "zTvCAXcVU0JZ"
      }
    },
    {
      "cell_type": "code",
      "execution_count": null,
      "metadata": {
        "cellView": "form",
        "id": "7FydQEdvPSzC"
      },
      "outputs": [],
      "source": [
        "# @title 📋 動画Transcribe(文字起こし)の基本設定\n",
        "PROMPT = \"これはMeet会議の議事録です。逐語的にテキストを起こしてください。できるだけ日本語のニュアンスや発話者の意図を保持しつつ、聞き間違いのないよう丁寧に書き起こしてください。\"  # @param {type:\"string\"}\n",
        "DIR = \"/content/drive/MyDrive/Meet Recordings\"  # @param {type:\"string\"}\n",
        "FILENAME = \"\"  # @param {type:\"string\"}\n",
        "MOVE_DONE = False  # @param {type:\"boolean\"}\n",
        "KEEP_MP3 = False  # @param {type:\"boolean\"}\n",
        "SEGMENT_SECONDS = 600  # @param {type:\"number\"}\n",
        "\n",
        "from pathlib import Path\n",
        "\n",
        "# 📂 入力パスの処理\n",
        "DIR = Path(DIR).expanduser()\n",
        "PROMPT = PROMPT.strip()\n",
        "FILENAME = FILENAME.strip()"
      ]
    },
    {
      "cell_type": "code",
      "execution_count": null,
      "metadata": {
        "cellView": "form",
        "id": "YTwGHlyjPSzC"
      },
      "outputs": [],
      "source": [
        "# @title\n",
        "# 🧠 書き起こし実行コード\n",
        "import os\n",
        "import ffmpeg\n",
        "import time\n",
        "from pathlib import Path\n",
        "import openai\n",
        "from google.colab import userdata\n",
        "\n",
        "# 🔑 OpenAI APIキー取得（Colabシークレットから）\n",
        "openai.api_key = userdata.get(\"OPENAI_API_KEY\")\n",
        "if not openai.api_key:\n",
        "    raise ValueError(\"❌ OPENAI_API_KEYが未設定です。Colabのシークレットで設定してください。\")\n",
        "\n",
        "# 📂 入力パス・パラメータ\n",
        "DIR = Path(DIR).expanduser()\n",
        "PROMPT = PROMPT.strip()\n",
        "FILENAME = FILENAME.strip()\n",
        "\n",
        "# 🎯 対象ファイル選定\n",
        "files = sorted([f for f in DIR.iterdir() if f.suffix == '.mp4' or '.' not in f.name])\n",
        "if not files:\n",
        "    raise FileNotFoundError(f\"{DIR} に .mp4 ファイルが見つかりません\")\n",
        "\n",
        "target_file_stem = FILENAME if FILENAME else files[0].stem\n",
        "input_path = DIR / target_file_stem\n",
        "if not input_path.exists():\n",
        "    input_path = DIR / f\"{target_file_stem}.mp4\"\n",
        "    if not input_path.exists():\n",
        "        raise FileNotFoundError(f\"対象ファイルが見つかりません: {input_path}\")\n",
        "\n",
        "print(f\"🎯 処理対象: {input_path.name}\")\n",
        "\n",
        "# 🎞️ mp4 → mp3 変換\n",
        "mp3_path = DIR / f\"{input_path.stem}.mp3\"\n",
        "print(f\"🎞️ mp3変換中: {input_path.name} → {mp3_path.name}\")\n",
        "ffmpeg.input(str(input_path)).output(\n",
        "    str(mp3_path), vn=None, ar=44100, ac=2, **{'b:a': '128k'}\n",
        ").overwrite_output().run()\n",
        "\n",
        "# ⏱️ 音声長取得\n",
        "duration = float(ffmpeg.probe(str(mp3_path))['format']['duration'])\n",
        "print(f\"⏱️ 長さ: {duration:.1f} 秒\")\n",
        "\n",
        "# ✂️ 分割\n",
        "segment_dir = DIR / \"mp3segment\"\n",
        "segment_dir.mkdir(exist_ok=True)\n",
        "print(f\"✂️ {SEGMENT_SECONDS}秒ごとに分割中...\")\n",
        "seg_fmt = segment_dir / f\"{input_path.stem}_%03d.mp3\"\n",
        "ffmpeg.input(str(mp3_path)).output(\n",
        "    str(seg_fmt), f='segment', segment_time=SEGMENT_SECONDS, c='copy'\n",
        ").overwrite_output().run()\n",
        "\n",
        "# 🎧 セグメント取得\n",
        "segments = sorted(segment_dir.glob(\"*.mp3\"))\n",
        "\n",
        "# 📝 書き起こし\n",
        "output_txt = DIR / f\"{input_path.stem}.txt\"\n",
        "with output_txt.open(\"w\", encoding=\"utf-8\") as out:\n",
        "    out.write(f\"=== GPT-4o-mini Transcribe: {input_path.name} ===\\n\\n\")\n",
        "    out.flush()\n",
        "\n",
        "    for i, seg_path in enumerate(segments):\n",
        "        print(f\"🎙️ Segment {i+1}/{len(segments)}: {seg_path.name}\")\n",
        "        with seg_path.open(\"rb\") as f:\n",
        "            try:\n",
        "                t0 = time.time()\n",
        "                result = openai.audio.transcriptions.create(\n",
        "                    model=\"gpt-4o-mini-transcribe\",\n",
        "                    file=f,\n",
        "                    language=\"ja\",\n",
        "                    prompt=PROMPT,\n",
        "                    temperature=0.2\n",
        "                )\n",
        "                dt = time.time() - t0\n",
        "                text = result.text.strip()\n",
        "                out.write(f\"[{seg_path.name}] ({dt:.1f} 秒)\\n{text}\\n\\n\")\n",
        "                out.flush()\n",
        "            except Exception as e:\n",
        "                msg = f\"[{seg_path.name}] エラー: {e}\\n\\n\"\n",
        "                print(msg)\n",
        "                out.write(msg)\n",
        "                out.flush()\n",
        "\n",
        "# 📁 完了処理\n",
        "if MOVE_DONE:\n",
        "    done_dir = DIR / \"done\"\n",
        "    done_dir.mkdir(exist_ok=True)\n",
        "    input_path.rename(done_dir / input_path.name)\n",
        "    print(f\"📦 移動完了: {done_dir / input_path.name}\")\n",
        "\n",
        "if not KEEP_MP3:\n",
        "    print(\"🧹 mp3ファイルを削除します\")\n",
        "    try:\n",
        "        if mp3_path.exists():\n",
        "            mp3_path.unlink()\n",
        "            print(f\"🗑️ 削除: {mp3_path}\")\n",
        "        for f in segment_dir.glob(\"*.mp3\"):\n",
        "            f.unlink()\n",
        "            print(f\"🗑️ 削除: {f}\")\n",
        "        if not any(segment_dir.iterdir()):\n",
        "            segment_dir.rmdir()\n",
        "            print(f\"🗑️ 削除: {segment_dir}\")\n",
        "    except Exception as e:\n",
        "        print(f\"⚠️ mp3削除に失敗: {e}\")\n",
        "\n",
        "print(\"✅ 書き起こし完了\")"
      ]
    },
    {
      "cell_type": "markdown",
      "source": [
        "## MIT License\n",
        "\n",
        "Copyright (c) 2025 Akihiko Shirai / AICU Inc.\n",
        "\n",
        "本ソースコードはMITライセンスのもとで提供されます。\n",
        "ただし、次の補足条項に同意した上でご利用ください：\n",
        "\n",
        "- 本ソースコードは無保証です。動作の正確性や目的適合性は保証しません。\n",
        "- ソースコードを改変して使用することは可能ですが、改変後の不具合・挙動について、著作者は一切のサポート責任を負いません。\n",
        "- 再配布時には本ライセンス文書および著作権表示を残してください。\n",
        "\n",
        "This software is provided under the MIT License:\n",
        "\n",
        "Permission is hereby granted, free of charge, to any person obtaining a copy\n",
        "of this software and associated documentation files (the “Software”), to deal\n",
        "in the Software without restriction, including without limitation the rights\n",
        "to use, copy, modify, merge, publish, distribute, sublicense, and/or sell\n",
        "copies of the Software, subject to the following conditions:\n",
        "\n",
        "THE SOFTWARE IS PROVIDED “AS IS”, WITHOUT WARRANTY OF ANY KIND, EXPRESS OR\n",
        "IMPLIED, INCLUDING BUT NOT LIMITED TO THE WARRANTIES OF MERCHANTABILITY,\n",
        "FITNESS FOR A PARTICULAR PURPOSE AND NONINFRINGEMENT. IN NO EVENT SHALL THE\n",
        "AUTHORS OR COPYRIGHT HOLDERS BE LIABLE FOR ANY CLAIM, DAMAGES OR OTHER\n",
        "LIABILITY, WHETHER IN AN ACTION OF CONTRACT, TORT OR OTHERWISE, ARISING FROM,\n",
        "OUT OF OR IN CONNECTION WITH THE SOFTWARE OR THE USE OR OTHER DEALINGS IN\n",
        "THE SOFTWARE.\n",
        "\n",
        "Additional Notes:\n",
        "\n",
        "- This code is provided for educational and experimental purposes.\n",
        "- The authors do not guarantee its functionality or fitness for any particular purpose.\n",
        "- Support for modified versions will not be provided."
      ],
      "metadata": {
        "id": "_-eJ8y2XgtlN"
      }
    }
  ],
  "metadata": {
    "colab": {
      "provenance": [],
      "include_colab_link": true
    },
    "kernelspec": {
      "display_name": "Python 3",
      "language": "python",
      "name": "python3"
    },
    "language_info": {
      "name": "python"
    }
  },
  "nbformat": 4,
  "nbformat_minor": 0
}
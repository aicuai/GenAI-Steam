{
  "cells": [
    {
      "cell_type": "markdown",
      "metadata": {
        "id": "view-in-github",
        "colab_type": "text"
      },
      "source": [
        "<a href=\"https://colab.research.google.com/github/aicuai/GenAI-Steam/blob/main/AICU_gpt4o_transribe.ipynb\" target=\"_parent\"><img src=\"https://colab.research.google.com/assets/colab-badge.svg\" alt=\"Open In Colab\"/></a>"
      ]
    },
    {
      "cell_type": "markdown",
      "metadata": {
        "id": "URtGBeLPPSzB"
      },
      "source": [
        "# 🎙️ GPT-4o Transcribe\n",
        "### 自分で作るオンライン会議文字起こし\n",
        "\n",
        "Google Drive 上の Zoom/Meet 録画ファイル (mp4) を分割し、OpenAI GPT-4o-mini-transcribe を用いて文字起こしします。\n",
        "\n",
        "このコードへのリンク [j.aicu.ai/gpt4oTransc](https://j.aicu.ai/gpt4oTransc)\n",
        "\n",
        "解説は「サクリ！AIツール: 自分で作るオンライン会議文字起こし」 - AICU Japan 株式会社\n",
        "[https://note.com/aicu](https://note.com/aicu/m/m8c3003efc9f8)\n",
        "\n",
        "(C) 2025 Akihiko SHIRAI - AICU Japan - 著作権は放棄していません"
      ]
    },
    {
      "cell_type": "markdown",
      "source": [
        "### 🔐 Google Colab シークレット設定マニュアル\n",
        "\n",
        "このセルでは、Google Colab に保存された `OPENAI_API_KEY` を使って OpenAI API の接続テストを行います。\n",
        "\n",
        "#### ✅ 事前準備\n",
        "以下の手順で `OPENAI_API_KEY` を Colab に設定してください。\n",
        "\n",
        "1. 画面左のサイドバーにある「鍵マーク（🔐）」をクリック（「環境設定」→「シークレットを管理」）\n",
        "2. 「+ 新しいシークレットを追加」をクリック\n",
        "3. 以下のように入力して「保存」：\n",
        "   - **名前（Name）**: `OPENAI_API_KEY`\n",
        "   - **値（Value）**: `sk-...` から始まるあなたのOpenAI APIキー\n",
        "\n",
        "> ⚠️ これにより、コード内にハードコードせずに安全にAPIキーを扱うことができます。\n",
        "\n",
        "---\n",
        "\n",
        "設定後にこのセルを実行することで、APIキーの有効性や利用可能なモデル一覧が確認できます。"
      ],
      "metadata": {
        "id": "8lqtDBt1T6CQ"
      }
    },
    {
      "cell_type": "code",
      "execution_count": null,
      "metadata": {
        "cellView": "form",
        "id": "RYq1g-uNPSzC"
      },
      "outputs": [],
      "source": [
        "# @title\n",
        "# ✅ セットアップ（初回のみ）\n",
        "!pip install openai ffmpeg-python --quiet\n",
        "!apt-get install -y ffmpeg > /dev/null\n",
        "from google.colab import drive\n",
        "drive.mount('/content/drive')"
      ]
    },
    {
      "cell_type": "code",
      "source": [
        "# @title\n",
        "# 🔍 OpenAI API キーの動作確認（Colab secrets使用）\n",
        "import openai\n",
        "from google.colab import userdata\n",
        "\n",
        "api_key = userdata.get('OPENAI_API_KEY')\n",
        "if not api_key:\n",
        "    raise ValueError(\"❌ 'OPENAI_API_KEY' が Colab のシークレットに設定されていません\")\n",
        "\n",
        "openai.api_key = api_key\n",
        "\n",
        "try:\n",
        "    models = openai.models.list()\n",
        "    model_ids = [m.id for m in models.data]\n",
        "    print(\"✅ OpenAI API キーは有効です\")\n",
        "    print(\"利用可能なモデル例:\", \", \".join(model_ids[:5]), \"...\")\n",
        "except Exception as e:\n",
        "    print(\"❌ OpenAI API キーが無効または接続エラーです\")\n",
        "    print(\"エラー内容:\", e)"
      ],
      "metadata": {
        "cellView": "form",
        "id": "4WQrJbafTgMD"
      },
      "execution_count": null,
      "outputs": []
    },
    {
      "cell_type": "markdown",
      "source": [
        "## 🔧 Step 1: Zoom録画の設定と対象ファイルの決定\n",
        "\n",
        "このセルでは以下の3つの入力を行います：\n",
        "\n",
        "- **PROMPT**: 文字起こし時にAIへ与える指示（例：「逐語的に」「要約せずに」など）\n",
        "- **DIR**: Google Drive上の録画フォルダパス（例：/content/drive/MyDrive/Meet Recordings）\n",
        "- **FILENAME**: 対象となるファイル名（拡張子 `.mp4` は省略可）\n",
        "\n",
        "🎯 ファイル名が省略された場合は、フォルダ内の最初の `.mp4` または拡張子なしファイルが自動的に選択されます。\n",
        "\n",
        "---\n",
        "\n",
        "📌 ファイルが存在しない場合：\n",
        "1. `.mp4` 拡張子を補って再確認\n",
        "2. それでも見つからなければ `FileNotFoundError` を出して処理を停止します\n",
        "\n",
        "このセルの実行に成功すると、次のステップで mp3 変換・分割・文字起こしが実行可能になります。"
      ],
      "metadata": {
        "id": "zTvCAXcVU0JZ"
      }
    },
    {
      "cell_type": "code",
      "execution_count": null,
      "metadata": {
        "cellView": "form",
        "id": "7FydQEdvPSzC"
      },
      "outputs": [],
      "source": [
        "# 📋 文字起こしの設定フォーム\n",
        "# @title 📋 Zoom文字起こしの基本設定\n",
        "PROMPT = \"これはZoom会議の議事録です。逐語的に起こしてください。\"  # @param {type:\"string\"}\n",
        "DIR = \"/content/drive/MyDrive/Meet Recordings\"  # @param {type:\"string\"}\n",
        "FILENAME = \"MeetRecFile(mp4)\"  # @param {type:\"string\"}\n",
        "\n",
        "from pathlib import Path\n",
        "\n",
        "# 📂 入力パスの処理\n",
        "DIR = Path(DIR).expanduser()\n",
        "PROMPT = PROMPT.strip()\n",
        "FILENAME = FILENAME.strip()\n",
        "\n",
        "# 🎯 対象ファイルの決定\n",
        "files = sorted([f for f in DIR.iterdir() if f.suffix == '.mp4' or '.' not in f.name])\n",
        "if not files:\n",
        "    raise FileNotFoundError(f\"{DIR} に .mp4 または拡張子なしのファイルが見つかりません\")\n",
        "\n",
        "# ユーザー指定 or 最初のファイル\n",
        "target_file_stem = FILENAME if FILENAME else files[0].stem\n",
        "target_file = DIR / target_file_stem\n",
        "input_path = target_file\n",
        "\n",
        "# .mp4 を補完して再確認\n",
        "if not input_path.exists():\n",
        "    target_file = DIR / f\"{target_file_stem}.mp4\"\n",
        "    input_path = target_file\n",
        "    if not input_path.exists():\n",
        "        raise FileNotFoundError(f\"対象ファイルが見つかりません: {target_file_stem} または {target_file_stem}.mp4\")\n",
        "\n",
        "print(f\"✅ 処理対象: {input_path.name}\")"
      ]
    },
    {
      "cell_type": "code",
      "execution_count": null,
      "metadata": {
        "cellView": "form",
        "id": "YTwGHlyjPSzC"
      },
      "outputs": [],
      "source": [
        "# @title\n",
        "# 🧠 実行コード（分割前・改良版）\n",
        "import os\n",
        "import ffmpeg\n",
        "import time\n",
        "from datetime import datetime\n",
        "from pathlib import Path\n",
        "import openai\n",
        "from google.colab import userdata\n",
        "\n",
        "# 🔑 OpenAI APIキー取得（Google Colabのシークレットから）\n",
        "openai.api_key = userdata.get(\"OPENAI_API_KEY\")\n",
        "if not openai.api_key:\n",
        "    raise ValueError(\"❌ OpenAI APIキーが見つかりません。メニュー「ランタイム > シークレットを管理」で `OPENAI_API_KEY` を追加してください。\")\n",
        "\n",
        "# 📋 入力パラメータ\n",
        "DIR = Path(DIR)  # フォルダ（@paramで指定）\n",
        "PROMPT = PROMPT.strip()\n",
        "FILENAME = FILENAME.strip()\n",
        "\n",
        "# 🎯 対象ファイル決定\n",
        "files = sorted([f for f in DIR.iterdir() if f.suffix == '.mp4' or '.' not in f.name])\n",
        "if not files:\n",
        "    raise FileNotFoundError(f\"{DIR} に処理対象ファイルが見つかりません\")\n",
        "\n",
        "target_file_stem = FILENAME if FILENAME else files[0].stem\n",
        "target_file = DIR / f\"{target_file_stem}\"\n",
        "input_path = target_file\n",
        "\n",
        "# 🔁 拡張子なしなら.mp4を付けて再試行\n",
        "if not input_path.exists():\n",
        "    target_file = DIR / f\"{target_file_stem}.mp4\"\n",
        "    input_path = target_file\n",
        "    if not input_path.exists():\n",
        "        raise FileNotFoundError(f\"対象ファイルが見つかりません: {target_file_stem} または {target_file_stem}.mp4\")\n",
        "\n",
        "print(f\"🎯 処理対象: {input_path.name}\")\n",
        "\n",
        "base = input_path.stem\n",
        "mp3_path = DIR / f\"{base}.mp3\"\n",
        "segment_dir = DIR / \"mp3segment\"\n",
        "segment_dir.mkdir(exist_ok=True)\n",
        "\n",
        "# 🎞️ mp4 → mp3 変換\n",
        "print(f\"🎞️ 変換: {input_path.name} → {mp3_path.name}\")\n",
        "ffmpeg.input(str(input_path)).output(\n",
        "    str(mp3_path),\n",
        "    vn=None, ar=44100, ac=2, **{'b:a': '128k'}\n",
        ").overwrite_output().run()\n",
        "\n",
        "# ⏱️ 音声長取得\n",
        "duration = float(ffmpeg.probe(str(mp3_path))['format']['duration'])\n",
        "print(f\"⏱️ 長さ: {duration:.1f} 秒\")\n",
        "\n",
        "# ✂️ 分割\n",
        "print(\"✂️ 分割中...\")\n",
        "seg_fmt = segment_dir / f\"{base}_%03d.mp3\"\n",
        "ffmpeg.input(str(mp3_path)).output(\n",
        "    str(seg_fmt),\n",
        "    f='segment', segment_time=1450, c='copy'\n",
        ").overwrite_output().run()\n",
        "\n",
        "# 🎧 セグメント取得\n",
        "segments = sorted(segment_dir.glob(\"*.mp3\"))\n",
        "\n",
        "# 📝 書き起こし\n",
        "output_txt = DIR / f\"{base}.txt\"\n",
        "with open(output_txt, 'w', encoding='utf-8') as out:\n",
        "    out.write(f\"=== GPT-4o-mini Transcribe: {target_file} ===\\n\\n\")\n",
        "    for i, seg_path in enumerate(segments):\n",
        "        print(f\"🎙️ Segment {i+1}/{len(segments)}: {seg_path.name}\")\n",
        "        with seg_path.open(\"rb\") as f:\n",
        "            try:\n",
        "                t0 = time.time()\n",
        "                result = openai.audio.transcriptions.create(\n",
        "                    model=\"gpt-4o-mini-transcribe\",\n",
        "                    file=f,\n",
        "                    language=\"ja\",\n",
        "                    prompt=PROMPT,\n",
        "                    temperature=0.2\n",
        "                )\n",
        "                dt = time.time() - t0\n",
        "                out.write(f\"[{seg_path.name}] ({dt:.1f} 秒)\\n{result.text}\\n\\n\")\n",
        "            except Exception as e:\n",
        "                out.write(f\"[{seg_path.name}] エラー: {str(e)}\\n\\n\")\n",
        "\n",
        "# 🗂️ 終了処理\n",
        "done_dir = DIR / \"done\"\n",
        "done_dir.mkdir(exist_ok=True)\n",
        "input_path.rename(done_dir / input_path.name)\n",
        "\n",
        "# 🧹 後始末\n",
        "for f in segment_dir.glob(\"*.mp3\"):\n",
        "    f.unlink()\n",
        "segment_dir.rmdir()\n",
        "\n",
        "print(\"✅ 完了\")"
      ]
    }
  ],
  "metadata": {
    "colab": {
      "provenance": [],
      "include_colab_link": true
    },
    "kernelspec": {
      "display_name": "Python 3",
      "language": "python",
      "name": "python3"
    },
    "language_info": {
      "name": "python"
    }
  },
  "nbformat": 4,
  "nbformat_minor": 0
}
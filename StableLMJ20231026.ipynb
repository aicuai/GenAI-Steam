{
  "nbformat": 4,
  "nbformat_minor": 0,
  "metadata": {
    "colab": {
      "provenance": [],
      "machine_shape": "hm",
      "gpuType": "A100",
      "authorship_tag": "ABX9TyM5YWt/VXRYw8BjRWHg8Jyd",
      "include_colab_link": true
    },
    "kernelspec": {
      "name": "python3",
      "display_name": "Python 3"
    },
    "language_info": {
      "name": "python"
    },
    "accelerator": "GPU"
  },
  "cells": [
    {
      "cell_type": "markdown",
      "metadata": {
        "id": "view-in-github",
        "colab_type": "text"
      },
      "source": [
        "<a href=\"https://colab.research.google.com/github/aicuai/GenAI-Steam/blob/main/StableLMJ20231026.ipynb\" target=\"_parent\"><img src=\"https://colab.research.google.com/assets/colab-badge.svg\" alt=\"Open In Colab\"/></a>"
      ]
    },
    {
      "cell_type": "markdown",
      "source": [
        "窓の杜「生成AIストリーム」\n",
        "Based on [this code](https://colab.research.google.com/github/mkshing/notebooks/blob/main/stabilityai_japanese_stablelm.ipynb)."
      ],
      "metadata": {
        "id": "EFAqkX_7GZX-"
      }
    },
    {
      "cell_type": "markdown",
      "source": [
        "# Japanese Stable LM Demo\n",
        "\n",
        "This colab enables to interact the following Japanese Stable LM series.\n",
        "\n",
        "- [Japanese Stable LM Instruct Alpha 7B](https://huggingface.co/stabilityai/japanese-stablelm-instruct-alpha-7b)\n",
        "- [Japanese Stable LM 3B-4E1T Instruct](https://huggingface.co/stabilityai/japanese-stablelm-3b-4e1t-instruct)\n",
        "- [Japanese Stable LM Instruct Gamma 7B](https://huggingface.co/stabilityai/japanese-stablelm-instruct-gamma-7b)"
      ],
      "metadata": {
        "id": "JAWpcQZSGjEd"
      }
    },
    {
      "cell_type": "code",
      "source": [
        "# nvidia-smiを使ってVRAMのサイズを取得\n",
        "vram_str = !nvidia-smi --query-gpu=memory.total --format=csv,noheader,nounits\n",
        "print(vram_str)\n",
        "\n",
        "from google.colab import runtime\n",
        "# nvidia-smiが正常に動作しない場合のエラーハンドリング\n",
        "if \"command not found\" in vram_str[0]:\n",
        "    print(\"GPUが有効になっていないか、nvidia-smiが利用できません。\")\n",
        "    print(\"セッションを削除します。\")\n",
        "    exit();\n",
        "else:\n",
        "    try:\n",
        "        vram_size = int(vram_str[0]) / 1024  # MiBからGBに変換\n",
        "\n",
        "        # VRAMが16GB未満の場合、メッセージを表示してセッションをリセット\n",
        "        if vram_size < 16:\n",
        "            print(\"VRAMが16GB未満です。セッションをリセットしてください。\")\n",
        "            try:\n",
        "              runtime.unassign()\n",
        "            except:\n",
        "              runtime.quit()\n",
        "    except ValueError:\n",
        "        print(\"VRAMのサイズを取得する際にエラーが発生しました。\")\n",
        "        print(\"セッションを再起動します。\")\n",
        "        exit()\n",
        "\n",
        "# 最後に現在のVRAMを表示\n",
        "print(f\"現在のVRAM: {vram_size:.2f} GB\")\n"
      ],
      "metadata": {
        "id": "17mPiijt9pFf"
      },
      "execution_count": null,
      "outputs": []
    },
    {
      "cell_type": "code",
      "source": [
        "!pip install transformers sentencepiece gradio ftfy 'accelerate>=0.12.0' 'bitsandbytes>=0.31.5' einops"
      ],
      "metadata": {
        "id": "0RKM1Rc4Z5g0",
        "collapsed": true
      },
      "execution_count": null,
      "outputs": []
    },
    {
      "cell_type": "code",
      "source": [
        "# @title ここで HuggingFace にログインして、トークンを貼り付けてください\n",
        "!huggingface-cli login"
      ],
      "metadata": {
        "id": "UX4UnjFDZ0MK"
      },
      "execution_count": null,
      "outputs": []
    },
    {
      "cell_type": "code",
      "source": [
        "# @title cuda or CPU\n",
        "import torch\n",
        "from transformers import AutoTokenizer, LlamaTokenizer, AutoModelForCausalLM, BitsAndBytesConfig\n",
        "\n",
        "device = \"cuda\" if torch.cuda.is_available() else \"cpu\"\n",
        "print(f\"device: {device}\")"
      ],
      "metadata": {
        "id": "oJTmC2DmZhuD"
      },
      "execution_count": null,
      "outputs": []
    },
    {
      "cell_type": "code",
      "source": [
        "# @title Load Model\n",
        "model_id = \"stabilityai/japanese-stablelm-3b-4e1t-instruct\" # @param [\"stabilityai/japanese-stablelm-instruct-alpha-7b\", \"stabilityai/japanese-stablelm-instruct-gamma-7b\", \"stabilityai/japanese-stablelm-3b-4e1t-instruct\"]\n",
        "\n",
        "model_kwargs = {\"trust_remote_code\": True, \"device_map\": \"auto\", \"low_cpu_mem_usage\": True, \"torch_dtype\": \"auto\"}\n",
        "\n",
        "if \"alpha\" in model_id:\n",
        "  tokenizer = LlamaTokenizer.from_pretrained(\"novelai/nerdstash-tokenizer-v1\", additional_special_tokens=['▁▁'])\n",
        "else:\n",
        "  tokenizer = AutoTokenizer.from_pretrained(model_id, legacy=False)\n",
        "\n",
        "model = AutoModelForCausalLM.from_pretrained(model_id, **model_kwargs)\n",
        "model = model.eval().to(device)"
      ],
      "metadata": {
        "id": "hdexP2dvaXRT"
      },
      "execution_count": null,
      "outputs": []
    },
    {
      "cell_type": "code",
      "source": [
        "# @title **実行しよう！**\n",
        "# @markdown Japanese Stable LM をチャット風UIで試しましょう\n",
        "# @markdown <br>**注意:** これはシングルターン推論なので、文脈は無視されます。\n",
        "import gradio as gr\n",
        "\n",
        "\n",
        "def build_prompt(user_query, inputs=\"\", sep=\"\\n\\n### \"):\n",
        "    sys_msg = \"以下は、タスクを説明する指示と、文脈のある入力の組み合わせです。要求を適切に満たす応答を書きなさい。\"\n",
        "    p = sys_msg\n",
        "    roles = [\"指示\", \"応答\"]\n",
        "    msgs = [\": \\n\" + user_query, \": \\n\"]\n",
        "    if inputs:\n",
        "        roles.insert(1, \"入力\")\n",
        "        msgs.insert(1, \": \\n\" + inputs)\n",
        "    for role, msg in zip(roles, msgs):\n",
        "        p += sep + role + msg\n",
        "    return p\n",
        "\n",
        "@torch.no_grad()\n",
        "def base_inference_func(prompt, max_new_tokens=128, top_p=0.95, repetition_penalty=1.):\n",
        "  # print(f\"PROMPT:\\n{prompt}\")\n",
        "  input_ids = tokenizer.encode(prompt, add_special_tokens=False, return_tensors=\"pt\")\n",
        "  output_ids = model.generate(\n",
        "      input_ids.to(model.device),\n",
        "      do_sample=True,\n",
        "      max_new_tokens=max_new_tokens,\n",
        "      top_p=top_p,\n",
        "      temperature=1,\n",
        "      repetition_penalty=repetition_penalty,\n",
        "  )\n",
        "\n",
        "  generated = tokenizer.decode(output_ids.tolist()[0][input_ids.size(1):], skip_special_tokens=True).strip()\n",
        "  # print(f\"generated: {generated}\")\n",
        "  return generated\n",
        "\n",
        "\n",
        "def inference_func(message, chat_history, additional_prompt, max_new_tokens=128, top_p=0.95, repetition_penalty=1.):\n",
        "  # Infer with prompt without any additional input\n",
        "  user_inputs = {\n",
        "      \"user_query\": message,\n",
        "      \"inputs\": additional_prompt,\n",
        "  }\n",
        "  prompt = build_prompt(**user_inputs)\n",
        "  generated = base_inference_func(prompt, max_new_tokens, top_p, repetition_penalty)\n",
        "  chat_history.append((message, generated))\n",
        "  return \"\", chat_history\n",
        "\n",
        "\n",
        "with gr.Blocks() as demo:\n",
        "  with gr.Accordion(\"Configs\", open=False):\n",
        "      if \"instruct\" in model_id:\n",
        "        instruction = gr.Textbox(label=\"instruction\",)\n",
        "      max_new_tokens = gr.Number(value=128, label=\"max_new_tokens\", precision=0)\n",
        "      top_p = gr.Slider(0.0, 1.0, value=0.95, step=0.01, label=\"top_p\")\n",
        "      repetition_penalty = gr.Slider(0.0, 5.0, value=1.1, step=0.1, label=\"repetition_penalty\")\n",
        "\n",
        "  if \"instruct\" in model_id:\n",
        "    chatbot = gr.Chatbot()\n",
        "    msg = gr.Textbox()\n",
        "    clear = gr.Button(\"Clear\")\n",
        "    msg.submit(inference_func, [msg, chatbot, instruction, max_new_tokens, top_p, repetition_penalty], [msg, chatbot])\n",
        "    clear.click(lambda: None, None, chatbot, queue=False)\n",
        "  else:\n",
        "    with gr.Row():\n",
        "      with gr.Column():\n",
        "        prompt = gr.Textbox(label=\"prompt\")\n",
        "        button = gr.Button(label=\"submit\")\n",
        "      with gr.Column():\n",
        "        out = gr.Textbox(label=\"generated\")\n",
        "    button.click(base_inference_func, [prompt, max_new_tokens, top_p, repetition_penalty], out)\n",
        "\n",
        "if __name__ == \"__main__\":\n",
        "    demo.launch(debug=True, share=True, show_error=True)"
      ],
      "metadata": {
        "colab": {
          "base_uri": "https://localhost:8080/",
          "height": 597
        },
        "id": "oFTrGmyUap2w",
        "outputId": "c4282605-29e8-4cef-cd5c-5a447d7a396c"
      },
      "execution_count": null,
      "outputs": [
        {
          "output_type": "stream",
          "name": "stdout",
          "text": [
            "Running on public URL: https://2984c017df5d24c57c.gradio.live\n",
            "\n",
            "This share link expires in 72 hours. For free permanent hosting and GPU upgrades, run `gradio deploy` from Terminal to deploy to Spaces (https://huggingface.co/spaces)\n"
          ]
        },
        {
          "output_type": "display_data",
          "data": {
            "text/plain": [
              "<IPython.core.display.HTML object>"
            ],
            "text/html": [
              "<div><iframe src=\"https://2984c017df5d24c57c.gradio.live\" width=\"100%\" height=\"500\" allow=\"autoplay; camera; microphone; clipboard-read; clipboard-write;\" frameborder=\"0\" allowfullscreen></iframe></div>"
            ]
          },
          "metadata": {}
        }
      ]
    },
    {
      "cell_type": "code",
      "execution_count": null,
      "metadata": {
        "id": "K7DoKgQRZ4CR"
      },
      "outputs": [],
      "source": [
        "import torch\n",
        "from transformers import AutoTokenizer, AutoModelForCausalLM\n",
        "\n",
        "# @markdown ↓「japanese-stablelm-instruct-gamma-7b」 が最新のモデルですが、無料版GPUだと「3b-4e1t」が限界のようです。\n",
        "model_id = \"stabilityai/japanese-stablelm-3b-4e1t-instruct\" # @param [\"stabilityai/japanese-stablelm-instruct-alpha-7b\", \"stabilityai/japanese-stablelm-instruct-gamma-7b\", \"stabilityai/japanese-stablelm-3b-4e1t-instruct\"]\n",
        "\n",
        "# tokenizer = AutoTokenizer.from_pretrained(\"stabilityai/japanese-stablelm-instruct-gamma-7b\")\n",
        "tokenizer = AutoModelForCausalLM.from_pretrained(model_id,\n",
        "                                             torch_dtype=\"auto\", device_map=\"auto\")\n",
        "if torch.cuda.is_available():\n",
        "    model = model.to(\"cuda\")\n",
        "model.eval()\n"
      ]
    },
    {
      "cell_type": "code",
      "source": [
        "\n",
        "\n",
        "def build_prompt(user_query, inputs=\"\", sep=\"\\n\\n### \"):\n",
        "    sys_msg = \"以下は、タスクを説明する指示と、文脈のある入力の組み合わせです。要求を適切に満たす応答を書きなさい。\"\n",
        "    p = sys_msg\n",
        "    roles = [\"指示\", \"応答\"]\n",
        "    msgs = [\": \\n\" + user_query, \": \\n\"]\n",
        "    if inputs:\n",
        "        roles.insert(1, \"入力\")\n",
        "        msgs.insert(1, \": \\n\" + inputs)\n",
        "    for role, msg in zip(roles, msgs):\n",
        "        p += sep + role + msg\n",
        "    return p\n",
        "\n",
        "# Infer with prompt without any additional input\n",
        "user_inputs = {\n",
        "    \"user_query\": \"与えられたことわざの意味を小学生でも分かるように教えてください。\",\n",
        "    \"inputs\": \"情けは人のためならず\"\n",
        "}\n",
        "prompt = build_prompt(**user_inputs)\n",
        "\n",
        "input_ids = tokenizer.encode(\n",
        "    prompt,\n",
        "    add_special_tokens=False,\n",
        "    return_tensors=\"pt\"\n",
        ")\n",
        "\n",
        "tokens = model.generate(\n",
        "    input_ids.to(device=model.device),\n",
        "    max_new_tokens=256,\n",
        "    temperature=1,\n",
        "    top_p=0.95,\n",
        "    do_sample=True,\n",
        ")\n",
        "\n",
        "out = tokenizer.decode(tokens[0][input_ids.shape[1]:], skip_special_tokens=True).strip()\n",
        "print(out)"
      ],
      "metadata": {
        "id": "umEzSakp_gAw"
      },
      "execution_count": null,
      "outputs": []
    }
  ]
}
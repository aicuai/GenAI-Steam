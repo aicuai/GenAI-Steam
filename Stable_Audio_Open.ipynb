{
  "nbformat": 4,
  "nbformat_minor": 0,
  "metadata": {
    "colab": {
      "provenance": [],
      "gpuType": "T4",
      "authorship_tag": "ABX9TyMCnwAnT+duYYdGZNBkL4Sc",
      "include_colab_link": true
    },
    "kernelspec": {
      "name": "python3",
      "display_name": "Python 3"
    },
    "language_info": {
      "name": "python"
    },
    "accelerator": "GPU"
  },
  "cells": [
    {
      "cell_type": "markdown",
      "metadata": {
        "id": "view-in-github",
        "colab_type": "text"
      },
      "source": [
        "<a href=\"https://colab.research.google.com/github/aicuai/GenAI-Steam/blob/main/Stable_Audio_Open.ipynb\" target=\"_parent\"><img src=\"https://colab.research.google.com/assets/colab-badge.svg\" alt=\"Open In Colab\"/></a>"
      ]
    },
    {
      "cell_type": "markdown",
      "source": [
        "## Stable Audio Open: Google Colab Notebook, by AICU Inc.\n",
        "\n",
        "Stable Audio Open: Research Paper (22 Jul, 2024)\n",
        "\n",
        "https://stability.ai/news/stable-audio-open-research-paper\n",
        "\n",
        "\n",
        "[Stability AI、オープンウェイトなテキスト楽曲生成「Stable Audio Open」公開。Google Colabで無料で体験！](https://note.com/aicu/n/nbfabd78acb8e)\n",
        "\n",
        "\n",
        "[X@AICUai](https://x.com/AICUai/status/1815421664106250261)"
      ],
      "metadata": {
        "id": "GiIzXWu0PRds"
      }
    },
    {
      "cell_type": "code",
      "source": [
        "!pip install einops\n",
        "!pip install stable_audio_tools"
      ],
      "metadata": {
        "id": "wg2y1L73EMn5"
      },
      "execution_count": null,
      "outputs": []
    },
    {
      "cell_type": "code",
      "execution_count": null,
      "metadata": {
        "id": "LgZTwrgyDrS7"
      },
      "outputs": [],
      "source": [
        "import torch\n",
        "import torchaudio\n",
        "from einops import rearrange\n",
        "from stable_audio_tools import get_pretrained_model\n",
        "from stable_audio_tools.inference.generation import generate_diffusion_cond\n",
        "\n",
        "device = \"cuda\" if torch.cuda.is_available() else \"cpu\"\n",
        "\n",
        "# Download model\n",
        "model, model_config = get_pretrained_model(\"stabilityai/stable-audio-open-1.0\")\n",
        "sample_rate = model_config[\"sample_rate\"]\n",
        "sample_size = model_config[\"sample_size\"]\n",
        "\n",
        "model = model.to(device)\n",
        "\n",
        "# Set up text and timing conditioning\n",
        "conditioning = [{\n",
        "    \"prompt\": \"128 BPM tech house drum loop\",\n",
        "    \"seconds_start\": 0,\n",
        "    \"seconds_total\": 30\n",
        "}]\n",
        "\n",
        "# Generate stereo audio\n",
        "output = generate_diffusion_cond(\n",
        "    model,\n",
        "    steps=100,\n",
        "    cfg_scale=7,\n",
        "    conditioning=conditioning,\n",
        "    sample_size=sample_size,\n",
        "    sigma_min=0.3,\n",
        "    sigma_max=500,\n",
        "    sampler_type=\"dpmpp-3m-sde\",\n",
        "    device=device\n",
        ")\n",
        "\n",
        "# Rearrange audio batch to a single sequence\n",
        "output = rearrange(output, \"b d n -> d (b n)\")\n",
        "\n",
        "# Peak normalize, clip, convert to int16, and save to file\n",
        "output = output.to(torch.float32).div(torch.max(torch.abs(output))).clamp(-1, 1).mul(32767).to(torch.int16).cpu()\n",
        "torchaudio.save(\"output.wav\", output, sample_rate)\n"
      ]
    }
  ]
}
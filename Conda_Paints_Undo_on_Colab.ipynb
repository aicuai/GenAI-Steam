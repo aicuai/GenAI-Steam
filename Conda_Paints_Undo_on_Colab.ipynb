{
  "nbformat": 4,
  "nbformat_minor": 0,
  "metadata": {
    "colab": {
      "provenance": [],
      "machine_shape": "hm",
      "gpuType": "L4",
      "authorship_tag": "ABX9TyOaki/905kO6/+9e6IP6h8a",
      "include_colab_link": true
    },
    "kernelspec": {
      "name": "python3",
      "display_name": "Python 3"
    },
    "language_info": {
      "name": "python"
    },
    "accelerator": "GPU"
  },
  "cells": [
    {
      "cell_type": "markdown",
      "metadata": {
        "id": "view-in-github",
        "colab_type": "text"
      },
      "source": [
        "<a href=\"https://colab.research.google.com/github/aicuai/GenAI-Steam/blob/main/Conda_Paints_Undo_on_Colab.ipynb\" target=\"_parent\"><img src=\"https://colab.research.google.com/assets/colab-badge.svg\" alt=\"Open In Colab\"/></a>"
      ]
    },
    {
      "cell_type": "markdown",
      "source": [
        "# Paints-Undo\n",
        "\n",
        "https://github.com/lllyasviel/Paints-UNDO\n",
        "\n",
        "How to install conda on Google Colab\n",
        "https://towardsdatascience.com/conda-google-colab-75f7c867a522\n",
        "\n",
        "\n",
        "## Article on AICU media\n",
        "\n",
        "❏描画工程を推論する「Paints-Undo」、Google Colabで実際に動作させてみた\n",
        "\n",
        "Paints-Undo, which infers the drawing process, actually works with Google Colab.\n",
        "https://note.com/aicu/n/n7e654dcf405c\n",
        "\n",
        "YouTube\n",
        "https://youtube.com/shorts/IwLdjySq3Yk\n",
        "Share this code by https://j.aicu.ai/PaintsUndo\n"
      ],
      "metadata": {
        "id": "dt0580jmP4F1"
      }
    },
    {
      "cell_type": "code",
      "source": [
        "!which python\n",
        "!python --version\n",
        "!echo $PYTHONPATH"
      ],
      "metadata": {
        "id": "MUe9ZZIJPwVj"
      },
      "execution_count": null,
      "outputs": []
    },
    {
      "cell_type": "code",
      "source": [
        "%env PYTHONPATH=\n",
        "!echo $PYTHONPATH"
      ],
      "metadata": {
        "id": "Az3DVR5IP3PJ"
      },
      "execution_count": null,
      "outputs": []
    },
    {
      "cell_type": "code",
      "execution_count": null,
      "metadata": {
        "id": "RlmD-z78PpXk"
      },
      "outputs": [],
      "source": [
        "%%bash\n",
        "\n",
        "MINICONDA_INSTALLER_SCRIPT=Miniconda3-4.5.4-Linux-x86_64.sh\n",
        "MINICONDA_PREFIX=/usr/local\n",
        "wget https://repo.continuum.io/miniconda/$MINICONDA_INSTALLER_SCRIPT\n",
        "chmod +x $MINICONDA_INSTALLER_SCRIPT\n",
        "./$MINICONDA_INSTALLER_SCRIPT -b -f -p $MINICONDA_PREFIX"
      ]
    },
    {
      "cell_type": "code",
      "source": [
        "!which conda\n",
        "!python --version\n"
      ],
      "metadata": {
        "id": "wchy3BotQLg5"
      },
      "execution_count": null,
      "outputs": []
    },
    {
      "cell_type": "markdown",
      "source": [
        "If all went well, it should return /usr/local/bin/conda\n",
        "\n",
        "python 3.6.5 :: Anaconda, Inc. and you will see that different versions of python are installed by miniconda.\n",
        "Let's upgrade python and libraries!\n",
        "\n",
        "Temporarily disable SSL because the update repository cannot be referenced as it is."
      ],
      "metadata": {
        "id": "NMAAwfMjQNVI"
      }
    },
    {
      "cell_type": "code",
      "source": [
        "!conda config --show-sources\n",
        "!conda config --show ssl_verify"
      ],
      "metadata": {
        "id": "kBE2j4QvTuBi"
      },
      "execution_count": null,
      "outputs": []
    },
    {
      "cell_type": "code",
      "source": [
        "!conda config --set ssl_verify false\n",
        "!conda install --channel defaults conda python=3.6 --yes\n",
        "!conda update --channel defaults --all --yes"
      ],
      "metadata": {
        "id": "xPO8LE1aTSSD"
      },
      "execution_count": null,
      "outputs": []
    },
    {
      "cell_type": "code",
      "source": [
        "!apt-get update\n",
        "!apt-get install ca-certificates -y"
      ],
      "metadata": {
        "id": "vO4caE0NTmCK"
      },
      "execution_count": null,
      "outputs": []
    },
    {
      "cell_type": "code",
      "source": [
        "%%bash\n",
        "conda install --channel defaults conda python=3.6 --yes\n",
        "conda update --channel defaults --all --yes\n"
      ],
      "metadata": {
        "id": "3sRCQBa_QV4K"
      },
      "execution_count": null,
      "outputs": []
    },
    {
      "cell_type": "code",
      "source": [
        "!conda update -n base conda -y"
      ],
      "metadata": {
        "id": "U32F_wJcUdF8"
      },
      "execution_count": null,
      "outputs": []
    },
    {
      "cell_type": "code",
      "source": [
        "!conda --version # 4.10.3"
      ],
      "metadata": {
        "id": "VHImn0pDUmci"
      },
      "execution_count": null,
      "outputs": []
    },
    {
      "cell_type": "markdown",
      "source": [
        "This is the end of conda installation.\n",
        "Next is the installation of Paints UNDO."
      ],
      "metadata": {
        "id": "0vZWs5BOVVP6"
      }
    },
    {
      "cell_type": "code",
      "source": [
        "!git clone https://github.com/lllyasviel/Paints-UNDO.git"
      ],
      "metadata": {
        "id": "iICAr7ixVYsK"
      },
      "execution_count": null,
      "outputs": []
    },
    {
      "cell_type": "code",
      "source": [
        "%cd /content/Paints-UNDO\n",
        "!source activate paints_undo\n",
        "!pip install -r requirements.txt\n",
        "#!pip install --upgrade diffusers\n",
        "!pip install diffusers==0.2.4\n",
        "\n",
        "# Your current Python version is 3.6, which may not be compatible with the latest gradio; you need to upgrade your Python to 3.7 or higher.\n",
        "!conda install python=3.8 -y\n",
        "!python --version\n",
        "!pip install --upgrade pip\n",
        "!pip install diffusers==0.2.4\n",
        "!pip install -r requirements.txt\n",
        "!pip install gradio==3.0.12\n",
        "# finally let's install gradio\n",
        "!pip install gradio\n",
        "# xformers...\n",
        "#!pip install -U xformers"
      ],
      "metadata": {
        "id": "x3k6tpVhXWqi"
      },
      "execution_count": null,
      "outputs": []
    },
    {
      "cell_type": "markdown",
      "source": [
        "Remember to make the last line of gradio_app.py ``--share`` compliant before executing this cell!\n",
        "\n",
        "Change the last line of gradio_app.py as follows\n",
        "\n",
        "block.queue().launch(server_name='0.0.0.0')\n",
        "\n",
        "↓\n",
        "\n",
        "block.queue().launch(server_name='0.0.0.0', share=True)\n"
      ],
      "metadata": {
        "id": "lsXNQBXElxrh"
      }
    },
    {
      "cell_type": "code",
      "source": [
        "!pip install --upgrade gradio\n",
        "!pip install torchvision\n",
        "!pip install --upgrade torch\n",
        "!pip install --upgrade diffusers\n",
        "# run\n",
        "!python gradio_app.py --share"
      ],
      "metadata": {
        "id": "ybzRjMZgalbG"
      },
      "execution_count": null,
      "outputs": []
    }
  ]
}

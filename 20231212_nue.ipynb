{
  "nbformat": 4,
  "nbformat_minor": 0,
  "metadata": {
    "colab": {
      "provenance": [],
      "machine_shape": "hm",
      "gpuType": "V100",
      "authorship_tag": "ABX9TyNprczpjSFzvigTF2ZpeADG",
      "include_colab_link": true
    },
    "kernelspec": {
      "name": "python3",
      "display_name": "Python 3"
    },
    "language_info": {
      "name": "python"
    },
    "accelerator": "GPU",
    "widgets": {
      "application/vnd.jupyter.widget-state+json": {
        "4ea9b0454d4e415b9d514e5f8a414cf8": {
          "model_module": "@jupyter-widgets/controls",
          "model_name": "HBoxModel",
          "model_module_version": "1.5.0",
          "state": {
            "_dom_classes": [],
            "_model_module": "@jupyter-widgets/controls",
            "_model_module_version": "1.5.0",
            "_model_name": "HBoxModel",
            "_view_count": null,
            "_view_module": "@jupyter-widgets/controls",
            "_view_module_version": "1.5.0",
            "_view_name": "HBoxView",
            "box_style": "",
            "children": [
              "IPY_MODEL_55b6a7b707054f208048598dfb16d0a6",
              "IPY_MODEL_edc53c5ebcb04901894450180c166cb8",
              "IPY_MODEL_c333eacce7ff4321b876ad4cb8817705"
            ],
            "layout": "IPY_MODEL_d6a369ce58a84cf4adcc6622ff7b5790"
          }
        },
        "55b6a7b707054f208048598dfb16d0a6": {
          "model_module": "@jupyter-widgets/controls",
          "model_name": "HTMLModel",
          "model_module_version": "1.5.0",
          "state": {
            "_dom_classes": [],
            "_model_module": "@jupyter-widgets/controls",
            "_model_module_version": "1.5.0",
            "_model_name": "HTMLModel",
            "_view_count": null,
            "_view_module": "@jupyter-widgets/controls",
            "_view_module_version": "1.5.0",
            "_view_name": "HTMLView",
            "description": "",
            "description_tooltip": null,
            "layout": "IPY_MODEL_e0e72ed0f4314e649672744e262e37c9",
            "placeholder": "​",
            "style": "IPY_MODEL_b9175854d6f64baa8b67927bd1dcc6d8",
            "value": "100%"
          }
        },
        "edc53c5ebcb04901894450180c166cb8": {
          "model_module": "@jupyter-widgets/controls",
          "model_name": "FloatProgressModel",
          "model_module_version": "1.5.0",
          "state": {
            "_dom_classes": [],
            "_model_module": "@jupyter-widgets/controls",
            "_model_module_version": "1.5.0",
            "_model_name": "FloatProgressModel",
            "_view_count": null,
            "_view_module": "@jupyter-widgets/controls",
            "_view_module_version": "1.5.0",
            "_view_name": "ProgressView",
            "bar_style": "success",
            "description": "",
            "description_tooltip": null,
            "layout": "IPY_MODEL_a24911114ce543b986692363c1595df4",
            "max": 105,
            "min": 0,
            "orientation": "horizontal",
            "style": "IPY_MODEL_b9f7ca6264e645ed80b6ed585d9d57f5",
            "value": 105
          }
        },
        "c333eacce7ff4321b876ad4cb8817705": {
          "model_module": "@jupyter-widgets/controls",
          "model_name": "HTMLModel",
          "model_module_version": "1.5.0",
          "state": {
            "_dom_classes": [],
            "_model_module": "@jupyter-widgets/controls",
            "_model_module_version": "1.5.0",
            "_model_name": "HTMLModel",
            "_view_count": null,
            "_view_module": "@jupyter-widgets/controls",
            "_view_module_version": "1.5.0",
            "_view_name": "HTMLView",
            "description": "",
            "description_tooltip": null,
            "layout": "IPY_MODEL_f97b1e48f0a547ec8c21f8a23008a747",
            "placeholder": "​",
            "style": "IPY_MODEL_356109f916f840a89defd25ac74cbbd5",
            "value": " 105/105 [01:16&lt;00:00,  1.78it/s]"
          }
        },
        "d6a369ce58a84cf4adcc6622ff7b5790": {
          "model_module": "@jupyter-widgets/base",
          "model_name": "LayoutModel",
          "model_module_version": "1.2.0",
          "state": {
            "_model_module": "@jupyter-widgets/base",
            "_model_module_version": "1.2.0",
            "_model_name": "LayoutModel",
            "_view_count": null,
            "_view_module": "@jupyter-widgets/base",
            "_view_module_version": "1.2.0",
            "_view_name": "LayoutView",
            "align_content": null,
            "align_items": null,
            "align_self": null,
            "border": null,
            "bottom": null,
            "display": null,
            "flex": null,
            "flex_flow": null,
            "grid_area": null,
            "grid_auto_columns": null,
            "grid_auto_flow": null,
            "grid_auto_rows": null,
            "grid_column": null,
            "grid_gap": null,
            "grid_row": null,
            "grid_template_areas": null,
            "grid_template_columns": null,
            "grid_template_rows": null,
            "height": null,
            "justify_content": null,
            "justify_items": null,
            "left": null,
            "margin": null,
            "max_height": null,
            "max_width": null,
            "min_height": null,
            "min_width": null,
            "object_fit": null,
            "object_position": null,
            "order": null,
            "overflow": null,
            "overflow_x": null,
            "overflow_y": null,
            "padding": null,
            "right": null,
            "top": null,
            "visibility": null,
            "width": null
          }
        },
        "e0e72ed0f4314e649672744e262e37c9": {
          "model_module": "@jupyter-widgets/base",
          "model_name": "LayoutModel",
          "model_module_version": "1.2.0",
          "state": {
            "_model_module": "@jupyter-widgets/base",
            "_model_module_version": "1.2.0",
            "_model_name": "LayoutModel",
            "_view_count": null,
            "_view_module": "@jupyter-widgets/base",
            "_view_module_version": "1.2.0",
            "_view_name": "LayoutView",
            "align_content": null,
            "align_items": null,
            "align_self": null,
            "border": null,
            "bottom": null,
            "display": null,
            "flex": null,
            "flex_flow": null,
            "grid_area": null,
            "grid_auto_columns": null,
            "grid_auto_flow": null,
            "grid_auto_rows": null,
            "grid_column": null,
            "grid_gap": null,
            "grid_row": null,
            "grid_template_areas": null,
            "grid_template_columns": null,
            "grid_template_rows": null,
            "height": null,
            "justify_content": null,
            "justify_items": null,
            "left": null,
            "margin": null,
            "max_height": null,
            "max_width": null,
            "min_height": null,
            "min_width": null,
            "object_fit": null,
            "object_position": null,
            "order": null,
            "overflow": null,
            "overflow_x": null,
            "overflow_y": null,
            "padding": null,
            "right": null,
            "top": null,
            "visibility": null,
            "width": null
          }
        },
        "b9175854d6f64baa8b67927bd1dcc6d8": {
          "model_module": "@jupyter-widgets/controls",
          "model_name": "DescriptionStyleModel",
          "model_module_version": "1.5.0",
          "state": {
            "_model_module": "@jupyter-widgets/controls",
            "_model_module_version": "1.5.0",
            "_model_name": "DescriptionStyleModel",
            "_view_count": null,
            "_view_module": "@jupyter-widgets/base",
            "_view_module_version": "1.2.0",
            "_view_name": "StyleView",
            "description_width": ""
          }
        },
        "a24911114ce543b986692363c1595df4": {
          "model_module": "@jupyter-widgets/base",
          "model_name": "LayoutModel",
          "model_module_version": "1.2.0",
          "state": {
            "_model_module": "@jupyter-widgets/base",
            "_model_module_version": "1.2.0",
            "_model_name": "LayoutModel",
            "_view_count": null,
            "_view_module": "@jupyter-widgets/base",
            "_view_module_version": "1.2.0",
            "_view_name": "LayoutView",
            "align_content": null,
            "align_items": null,
            "align_self": null,
            "border": null,
            "bottom": null,
            "display": null,
            "flex": null,
            "flex_flow": null,
            "grid_area": null,
            "grid_auto_columns": null,
            "grid_auto_flow": null,
            "grid_auto_rows": null,
            "grid_column": null,
            "grid_gap": null,
            "grid_row": null,
            "grid_template_areas": null,
            "grid_template_columns": null,
            "grid_template_rows": null,
            "height": null,
            "justify_content": null,
            "justify_items": null,
            "left": null,
            "margin": null,
            "max_height": null,
            "max_width": null,
            "min_height": null,
            "min_width": null,
            "object_fit": null,
            "object_position": null,
            "order": null,
            "overflow": null,
            "overflow_x": null,
            "overflow_y": null,
            "padding": null,
            "right": null,
            "top": null,
            "visibility": null,
            "width": null
          }
        },
        "b9f7ca6264e645ed80b6ed585d9d57f5": {
          "model_module": "@jupyter-widgets/controls",
          "model_name": "ProgressStyleModel",
          "model_module_version": "1.5.0",
          "state": {
            "_model_module": "@jupyter-widgets/controls",
            "_model_module_version": "1.5.0",
            "_model_name": "ProgressStyleModel",
            "_view_count": null,
            "_view_module": "@jupyter-widgets/base",
            "_view_module_version": "1.2.0",
            "_view_name": "StyleView",
            "bar_color": null,
            "description_width": ""
          }
        },
        "f97b1e48f0a547ec8c21f8a23008a747": {
          "model_module": "@jupyter-widgets/base",
          "model_name": "LayoutModel",
          "model_module_version": "1.2.0",
          "state": {
            "_model_module": "@jupyter-widgets/base",
            "_model_module_version": "1.2.0",
            "_model_name": "LayoutModel",
            "_view_count": null,
            "_view_module": "@jupyter-widgets/base",
            "_view_module_version": "1.2.0",
            "_view_name": "LayoutView",
            "align_content": null,
            "align_items": null,
            "align_self": null,
            "border": null,
            "bottom": null,
            "display": null,
            "flex": null,
            "flex_flow": null,
            "grid_area": null,
            "grid_auto_columns": null,
            "grid_auto_flow": null,
            "grid_auto_rows": null,
            "grid_column": null,
            "grid_gap": null,
            "grid_row": null,
            "grid_template_areas": null,
            "grid_template_columns": null,
            "grid_template_rows": null,
            "height": null,
            "justify_content": null,
            "justify_items": null,
            "left": null,
            "margin": null,
            "max_height": null,
            "max_width": null,
            "min_height": null,
            "min_width": null,
            "object_fit": null,
            "object_position": null,
            "order": null,
            "overflow": null,
            "overflow_x": null,
            "overflow_y": null,
            "padding": null,
            "right": null,
            "top": null,
            "visibility": null,
            "width": null
          }
        },
        "356109f916f840a89defd25ac74cbbd5": {
          "model_module": "@jupyter-widgets/controls",
          "model_name": "DescriptionStyleModel",
          "model_module_version": "1.5.0",
          "state": {
            "_model_module": "@jupyter-widgets/controls",
            "_model_module_version": "1.5.0",
            "_model_name": "DescriptionStyleModel",
            "_view_count": null,
            "_view_module": "@jupyter-widgets/base",
            "_view_module_version": "1.2.0",
            "_view_name": "StyleView",
            "description_width": ""
          }
        }
      }
    }
  },
  "cells": [
    {
      "cell_type": "markdown",
      "metadata": {
        "id": "view-in-github",
        "colab_type": "text"
      },
      "source": [
        "<a href=\"https://colab.research.google.com/github/aicuai/GenAI-Steam/blob/main/20231212_nue.ipynb\" target=\"_parent\"><img src=\"https://colab.research.google.com/assets/colab-badge.svg\" alt=\"Open In Colab\"/></a>"
      ]
    },
    {
      "cell_type": "markdown",
      "source": [
        "Google Colab Pro V100 (VRAM 16GB)にて動作確認済み\n",
        "\n",
        "https://huggingface.co/rinna/nue-asr\n",
        "\n",
        "\n",
        "参考にさせていただいたソース\n",
        "[@trtd6trtdさん](https://twitter.com/trtd6trtd/status/1734176496011689991?s=12&t=69_MakYffSROXUShicR7xw&fbclid=IwAR1-AGUqfSjeHdkFsIeF-NwUphAhWz61A6wg3mny7vV5u4YM9W8EbDw1yWg)\n",
        "\n",
        "https://gist.github.com/trtd56/f04625e524d2eba6b6b31f393ce79728\n",
        "\n"
      ],
      "metadata": {
        "id": "P7cmIC8d9-Tj"
      }
    },
    {
      "cell_type": "code",
      "source": [
        "!pip install git+https://github.com/rinnakk/nue-asr.git\n"
      ],
      "metadata": {
        "colab": {
          "base_uri": "https://localhost:8080/"
        },
        "id": "MXP145xN-DpJ",
        "outputId": "f53928e6-fa06-4337-87f0-cbb5a78f8bab"
      },
      "execution_count": 1,
      "outputs": [
        {
          "output_type": "stream",
          "name": "stdout",
          "text": [
            "Collecting git+https://github.com/rinnakk/nue-asr.git\n",
            "  Cloning https://github.com/rinnakk/nue-asr.git to /tmp/pip-req-build-qd2_1owy\n",
            "  Running command git clone --filter=blob:none --quiet https://github.com/rinnakk/nue-asr.git /tmp/pip-req-build-qd2_1owy\n",
            "  Resolved https://github.com/rinnakk/nue-asr.git to commit e4207a101711e0920520a0902802767266ec8ea3\n",
            "  Installing build dependencies ... \u001b[?25l\u001b[?25hdone\n",
            "  Getting requirements to build wheel ... \u001b[?25l\u001b[?25hdone\n",
            "  Preparing metadata (pyproject.toml) ... \u001b[?25l\u001b[?25hdone\n",
            "Requirement already satisfied: torch in /usr/local/lib/python3.10/dist-packages (from nue-asr==0.1.0) (2.1.0+cu118)\n",
            "Requirement already satisfied: transformers>4.33.0 in /usr/local/lib/python3.10/dist-packages (from nue-asr==0.1.0) (4.35.2)\n",
            "Collecting sentence-transformers (from nue-asr==0.1.0)\n",
            "  Downloading sentence-transformers-2.2.2.tar.gz (85 kB)\n",
            "\u001b[2K     \u001b[90m━━━━━━━━━━━━━━━━━━━━━━━━━━━━━━━━━━━━━━━━\u001b[0m \u001b[32m86.0/86.0 kB\u001b[0m \u001b[31m3.0 MB/s\u001b[0m eta \u001b[36m0:00:00\u001b[0m\n",
            "\u001b[?25h  Preparing metadata (setup.py) ... \u001b[?25l\u001b[?25hdone\n",
            "Requirement already satisfied: librosa in /usr/local/lib/python3.10/dist-packages (from nue-asr==0.1.0) (0.10.1)\n",
            "Requirement already satisfied: numpy in /usr/local/lib/python3.10/dist-packages (from nue-asr==0.1.0) (1.23.5)\n",
            "Requirement already satisfied: filelock in /usr/local/lib/python3.10/dist-packages (from transformers>4.33.0->nue-asr==0.1.0) (3.13.1)\n",
            "Requirement already satisfied: huggingface-hub<1.0,>=0.16.4 in /usr/local/lib/python3.10/dist-packages (from transformers>4.33.0->nue-asr==0.1.0) (0.19.4)\n",
            "Requirement already satisfied: packaging>=20.0 in /usr/local/lib/python3.10/dist-packages (from transformers>4.33.0->nue-asr==0.1.0) (23.2)\n",
            "Requirement already satisfied: pyyaml>=5.1 in /usr/local/lib/python3.10/dist-packages (from transformers>4.33.0->nue-asr==0.1.0) (6.0.1)\n",
            "Requirement already satisfied: regex!=2019.12.17 in /usr/local/lib/python3.10/dist-packages (from transformers>4.33.0->nue-asr==0.1.0) (2023.6.3)\n",
            "Requirement already satisfied: requests in /usr/local/lib/python3.10/dist-packages (from transformers>4.33.0->nue-asr==0.1.0) (2.31.0)\n",
            "Requirement already satisfied: tokenizers<0.19,>=0.14 in /usr/local/lib/python3.10/dist-packages (from transformers>4.33.0->nue-asr==0.1.0) (0.15.0)\n",
            "Requirement already satisfied: safetensors>=0.3.1 in /usr/local/lib/python3.10/dist-packages (from transformers>4.33.0->nue-asr==0.1.0) (0.4.1)\n",
            "Requirement already satisfied: tqdm>=4.27 in /usr/local/lib/python3.10/dist-packages (from transformers>4.33.0->nue-asr==0.1.0) (4.66.1)\n",
            "Requirement already satisfied: audioread>=2.1.9 in /usr/local/lib/python3.10/dist-packages (from librosa->nue-asr==0.1.0) (3.0.1)\n",
            "Requirement already satisfied: scipy>=1.2.0 in /usr/local/lib/python3.10/dist-packages (from librosa->nue-asr==0.1.0) (1.11.4)\n",
            "Requirement already satisfied: scikit-learn>=0.20.0 in /usr/local/lib/python3.10/dist-packages (from librosa->nue-asr==0.1.0) (1.2.2)\n",
            "Requirement already satisfied: joblib>=0.14 in /usr/local/lib/python3.10/dist-packages (from librosa->nue-asr==0.1.0) (1.3.2)\n",
            "Requirement already satisfied: decorator>=4.3.0 in /usr/local/lib/python3.10/dist-packages (from librosa->nue-asr==0.1.0) (4.4.2)\n",
            "Requirement already satisfied: numba>=0.51.0 in /usr/local/lib/python3.10/dist-packages (from librosa->nue-asr==0.1.0) (0.58.1)\n",
            "Requirement already satisfied: soundfile>=0.12.1 in /usr/local/lib/python3.10/dist-packages (from librosa->nue-asr==0.1.0) (0.12.1)\n",
            "Requirement already satisfied: pooch>=1.0 in /usr/local/lib/python3.10/dist-packages (from librosa->nue-asr==0.1.0) (1.8.0)\n",
            "Requirement already satisfied: soxr>=0.3.2 in /usr/local/lib/python3.10/dist-packages (from librosa->nue-asr==0.1.0) (0.3.7)\n",
            "Requirement already satisfied: typing-extensions>=4.1.1 in /usr/local/lib/python3.10/dist-packages (from librosa->nue-asr==0.1.0) (4.5.0)\n",
            "Requirement already satisfied: lazy-loader>=0.1 in /usr/local/lib/python3.10/dist-packages (from librosa->nue-asr==0.1.0) (0.3)\n",
            "Requirement already satisfied: msgpack>=1.0 in /usr/local/lib/python3.10/dist-packages (from librosa->nue-asr==0.1.0) (1.0.7)\n",
            "Requirement already satisfied: torchvision in /usr/local/lib/python3.10/dist-packages (from sentence-transformers->nue-asr==0.1.0) (0.16.0+cu118)\n",
            "Requirement already satisfied: nltk in /usr/local/lib/python3.10/dist-packages (from sentence-transformers->nue-asr==0.1.0) (3.8.1)\n",
            "Collecting sentencepiece (from sentence-transformers->nue-asr==0.1.0)\n",
            "  Downloading sentencepiece-0.1.99-cp310-cp310-manylinux_2_17_x86_64.manylinux2014_x86_64.whl (1.3 MB)\n",
            "\u001b[2K     \u001b[90m━━━━━━━━━━━━━━━━━━━━━━━━━━━━━━━━━━━━━━━━\u001b[0m \u001b[32m1.3/1.3 MB\u001b[0m \u001b[31m14.6 MB/s\u001b[0m eta \u001b[36m0:00:00\u001b[0m\n",
            "\u001b[?25hRequirement already satisfied: sympy in /usr/local/lib/python3.10/dist-packages (from torch->nue-asr==0.1.0) (1.12)\n",
            "Requirement already satisfied: networkx in /usr/local/lib/python3.10/dist-packages (from torch->nue-asr==0.1.0) (3.2.1)\n",
            "Requirement already satisfied: jinja2 in /usr/local/lib/python3.10/dist-packages (from torch->nue-asr==0.1.0) (3.1.2)\n",
            "Requirement already satisfied: fsspec in /usr/local/lib/python3.10/dist-packages (from torch->nue-asr==0.1.0) (2023.6.0)\n",
            "Requirement already satisfied: triton==2.1.0 in /usr/local/lib/python3.10/dist-packages (from torch->nue-asr==0.1.0) (2.1.0)\n",
            "Requirement already satisfied: llvmlite<0.42,>=0.41.0dev0 in /usr/local/lib/python3.10/dist-packages (from numba>=0.51.0->librosa->nue-asr==0.1.0) (0.41.1)\n",
            "Requirement already satisfied: platformdirs>=2.5.0 in /usr/local/lib/python3.10/dist-packages (from pooch>=1.0->librosa->nue-asr==0.1.0) (4.1.0)\n",
            "Requirement already satisfied: charset-normalizer<4,>=2 in /usr/local/lib/python3.10/dist-packages (from requests->transformers>4.33.0->nue-asr==0.1.0) (3.3.2)\n",
            "Requirement already satisfied: idna<4,>=2.5 in /usr/local/lib/python3.10/dist-packages (from requests->transformers>4.33.0->nue-asr==0.1.0) (3.6)\n",
            "Requirement already satisfied: urllib3<3,>=1.21.1 in /usr/local/lib/python3.10/dist-packages (from requests->transformers>4.33.0->nue-asr==0.1.0) (2.0.7)\n",
            "Requirement already satisfied: certifi>=2017.4.17 in /usr/local/lib/python3.10/dist-packages (from requests->transformers>4.33.0->nue-asr==0.1.0) (2023.11.17)\n",
            "Requirement already satisfied: threadpoolctl>=2.0.0 in /usr/local/lib/python3.10/dist-packages (from scikit-learn>=0.20.0->librosa->nue-asr==0.1.0) (3.2.0)\n",
            "Requirement already satisfied: cffi>=1.0 in /usr/local/lib/python3.10/dist-packages (from soundfile>=0.12.1->librosa->nue-asr==0.1.0) (1.16.0)\n",
            "Requirement already satisfied: MarkupSafe>=2.0 in /usr/local/lib/python3.10/dist-packages (from jinja2->torch->nue-asr==0.1.0) (2.1.3)\n",
            "Requirement already satisfied: click in /usr/local/lib/python3.10/dist-packages (from nltk->sentence-transformers->nue-asr==0.1.0) (8.1.7)\n",
            "Requirement already satisfied: mpmath>=0.19 in /usr/local/lib/python3.10/dist-packages (from sympy->torch->nue-asr==0.1.0) (1.3.0)\n",
            "Requirement already satisfied: pillow!=8.3.*,>=5.3.0 in /usr/local/lib/python3.10/dist-packages (from torchvision->sentence-transformers->nue-asr==0.1.0) (9.4.0)\n",
            "Requirement already satisfied: pycparser in /usr/local/lib/python3.10/dist-packages (from cffi>=1.0->soundfile>=0.12.1->librosa->nue-asr==0.1.0) (2.21)\n",
            "Building wheels for collected packages: nue-asr, sentence-transformers\n",
            "  Building wheel for nue-asr (pyproject.toml) ... \u001b[?25l\u001b[?25hdone\n",
            "  Created wheel for nue-asr: filename=nue_asr-0.1.0-py3-none-any.whl size=13149 sha256=dc2146d4c6adc598fa6d5669b5c7e0da6142e1f112d594bf8295a58d67096083\n",
            "  Stored in directory: /tmp/pip-ephem-wheel-cache-0sl2kfn7/wheels/5c/b9/96/b06161b8d32b392f8d9c9fa2615d54b0fafd3d160977e90eac\n",
            "  Building wheel for sentence-transformers (setup.py) ... \u001b[?25l\u001b[?25hdone\n",
            "  Created wheel for sentence-transformers: filename=sentence_transformers-2.2.2-py3-none-any.whl size=125923 sha256=fb41d74deaefe033eeb6946e19beaaafaea1152af86a38b8d28afb51fa3d7b97\n",
            "  Stored in directory: /root/.cache/pip/wheels/62/f2/10/1e606fd5f02395388f74e7462910fe851042f97238cbbd902f\n",
            "Successfully built nue-asr sentence-transformers\n",
            "Installing collected packages: sentencepiece, sentence-transformers, nue-asr\n",
            "Successfully installed nue-asr-0.1.0 sentence-transformers-2.2.2 sentencepiece-0.1.99\n"
          ]
        }
      ]
    },
    {
      "cell_type": "code",
      "source": [
        "!pip install pydub\n",
        "!nvidia-smi"
      ],
      "metadata": {
        "colab": {
          "base_uri": "https://localhost:8080/"
        },
        "id": "vHmqqXGGEF85",
        "outputId": "61197e1e-5819-4ffa-e572-09396ecd37e2"
      },
      "execution_count": 2,
      "outputs": [
        {
          "output_type": "stream",
          "name": "stdout",
          "text": [
            "Collecting pydub\n",
            "  Downloading pydub-0.25.1-py2.py3-none-any.whl (32 kB)\n",
            "Installing collected packages: pydub\n",
            "Successfully installed pydub-0.25.1\n",
            "Tue Dec 12 10:15:46 2023       \n",
            "+-----------------------------------------------------------------------------+\n",
            "| NVIDIA-SMI 525.105.17   Driver Version: 525.105.17   CUDA Version: 12.0     |\n",
            "|-------------------------------+----------------------+----------------------+\n",
            "| GPU  Name        Persistence-M| Bus-Id        Disp.A | Volatile Uncorr. ECC |\n",
            "| Fan  Temp  Perf  Pwr:Usage/Cap|         Memory-Usage | GPU-Util  Compute M. |\n",
            "|                               |                      |               MIG M. |\n",
            "|===============================+======================+======================|\n",
            "|   0  Tesla V100-SXM2...  Off  | 00000000:00:04.0 Off |                    0 |\n",
            "| N/A   34C    P0    27W / 300W |      0MiB / 16384MiB |      0%      Default |\n",
            "|                               |                      |                  N/A |\n",
            "+-------------------------------+----------------------+----------------------+\n",
            "                                                                               \n",
            "+-----------------------------------------------------------------------------+\n",
            "| Processes:                                                                  |\n",
            "|  GPU   GI   CI        PID   Type   Process name                  GPU Memory |\n",
            "|        ID   ID                                                   Usage      |\n",
            "|=============================================================================|\n",
            "|  No running processes found                                                 |\n",
            "+-----------------------------------------------------------------------------+\n"
          ]
        }
      ]
    },
    {
      "cell_type": "code",
      "source": [
        "!echo \"path\" > list.tsv\n",
        "!mkdir clips\n",
        "# ここで対象となるファイル（ここでは AWS-toned.mp3）をアップロード。\n",
        "# 最後までファイルがアップロードされたのを確認してから次のステップを実施すること。"
      ],
      "metadata": {
        "id": "sGD1n-xEIQ2v"
      },
      "execution_count": 3,
      "outputs": []
    },
    {
      "cell_type": "code",
      "execution_count": 4,
      "metadata": {
        "colab": {
          "base_uri": "https://localhost:8080/"
        },
        "id": "Fb099DDz97H5",
        "outputId": "e0c16c32-855e-4d2e-c0dd-bdd35ecf8a98"
      },
      "outputs": [
        {
          "output_type": "stream",
          "name": "stdout",
          "text": [
            "チャンネル数: 2\n",
            "サンプリング周波数: 44100 Hz\n",
            "再生時間（秒）: 2101.315918367347 秒\n",
            "音量: -17.5912849935689 dB\n",
            "./clips/clips0.wav\n",
            "./clips/clips1.wav\n",
            "./clips/clips2.wav\n",
            "./clips/clips3.wav\n",
            "./clips/clips4.wav\n",
            "./clips/clips5.wav\n",
            "./clips/clips6.wav\n",
            "./clips/clips7.wav\n",
            "./clips/clips8.wav\n",
            "./clips/clips9.wav\n",
            "./clips/clips10.wav\n",
            "./clips/clips11.wav\n",
            "./clips/clips12.wav\n",
            "./clips/clips13.wav\n",
            "./clips/clips14.wav\n",
            "./clips/clips15.wav\n",
            "./clips/clips16.wav\n",
            "./clips/clips17.wav\n",
            "./clips/clips18.wav\n",
            "./clips/clips19.wav\n",
            "./clips/clips20.wav\n",
            "./clips/clips21.wav\n",
            "./clips/clips22.wav\n",
            "./clips/clips23.wav\n",
            "./clips/clips24.wav\n",
            "./clips/clips25.wav\n",
            "./clips/clips26.wav\n",
            "./clips/clips27.wav\n",
            "./clips/clips28.wav\n",
            "./clips/clips29.wav\n",
            "./clips/clips30.wav\n",
            "./clips/clips31.wav\n",
            "./clips/clips32.wav\n",
            "./clips/clips33.wav\n",
            "./clips/clips34.wav\n",
            "./clips/clips35.wav\n",
            "./clips/clips36.wav\n",
            "./clips/clips37.wav\n",
            "./clips/clips38.wav\n",
            "./clips/clips39.wav\n",
            "./clips/clips40.wav\n",
            "./clips/clips41.wav\n",
            "./clips/clips42.wav\n",
            "./clips/clips43.wav\n",
            "./clips/clips44.wav\n",
            "./clips/clips45.wav\n",
            "./clips/clips46.wav\n",
            "./clips/clips47.wav\n",
            "./clips/clips48.wav\n",
            "./clips/clips49.wav\n",
            "./clips/clips50.wav\n",
            "./clips/clips51.wav\n",
            "./clips/clips52.wav\n",
            "./clips/clips53.wav\n",
            "./clips/clips54.wav\n",
            "./clips/clips55.wav\n",
            "./clips/clips56.wav\n",
            "./clips/clips57.wav\n",
            "./clips/clips58.wav\n",
            "./clips/clips59.wav\n",
            "./clips/clips60.wav\n",
            "./clips/clips61.wav\n",
            "./clips/clips62.wav\n",
            "./clips/clips63.wav\n",
            "./clips/clips64.wav\n",
            "./clips/clips65.wav\n",
            "./clips/clips66.wav\n",
            "./clips/clips67.wav\n",
            "./clips/clips68.wav\n",
            "./clips/clips69.wav\n",
            "./clips/clips70.wav\n",
            "./clips/clips71.wav\n",
            "./clips/clips72.wav\n",
            "./clips/clips73.wav\n",
            "./clips/clips74.wav\n",
            "./clips/clips75.wav\n",
            "./clips/clips76.wav\n",
            "./clips/clips77.wav\n",
            "./clips/clips78.wav\n",
            "./clips/clips79.wav\n",
            "./clips/clips80.wav\n",
            "./clips/clips81.wav\n",
            "./clips/clips82.wav\n",
            "./clips/clips83.wav\n",
            "./clips/clips84.wav\n",
            "./clips/clips85.wav\n",
            "./clips/clips86.wav\n",
            "./clips/clips87.wav\n",
            "./clips/clips88.wav\n",
            "./clips/clips89.wav\n",
            "./clips/clips90.wav\n",
            "./clips/clips91.wav\n",
            "./clips/clips92.wav\n",
            "./clips/clips93.wav\n",
            "./clips/clips94.wav\n",
            "./clips/clips95.wav\n",
            "./clips/clips96.wav\n",
            "./clips/clips97.wav\n",
            "./clips/clips98.wav\n",
            "./clips/clips99.wav\n",
            "./clips/clips100.wav\n",
            "./clips/clips101.wav\n",
            "./clips/clips102.wav\n",
            "./clips/clips103.wav\n",
            "./clips/clips104.wav\n"
          ]
        }
      ],
      "source": [
        "import pandas as pd\n",
        "from pydub import AudioSegment\n",
        "from tqdm.auto import tqdm\n",
        "import nue_asr\n",
        "\n",
        "#pydub のインポート\n",
        "from pydub import AudioSegment\n",
        "from pydub.silence import split_on_silence\n",
        "\n",
        "#mp3ファイルの読み込み(C:/Users/hoge/Musicフォルダに bgm.mp3があることを想定）\n",
        "sound = AudioSegment.from_file('AWS-toned.mp3', format='mp3')\n",
        "\n",
        "#mp3の分割（無音部分で区切る場合）\n",
        "# chunks = split_on_silence(sound, min_silence_len=100, silence_thresh=-55, keep_silence=100)\n",
        "#分割したデータ毎にファイル出力\n",
        "#for i, chunk in enumerate(chunks):\n",
        "#    chunk.export(f'./clips/clips{i}.wav', format='wav')\n",
        "\n",
        "#時間で区切る場合、ファイル情報の表示\n",
        "print(f'チャンネル数: {sound.channels}')\n",
        "print(f'サンプリング周波数: {sound.frame_rate} Hz')\n",
        "print(f'再生時間（秒）: {sound.duration_seconds} 秒')\n",
        "print(f'音量: {sound.dBFS} dB')\n",
        "seg = 20 # 20秒ごとに分割してみる\n",
        "n_chunks = int(sound.duration_seconds // seg) # seg秒ごとに分割\n",
        "\n",
        "for i in range(n_chunks):\n",
        "  start_time = i * seg * 1000  # pydubはミリ秒を使用するため、1000をかける\n",
        "  end_time = (i+1) * seg * 1000\n",
        "  chunk = sound[start_time:end_time]\n",
        "  chunk_path = f\"./clips/clips{i}.wav\"\n",
        "  chunk.export(chunk_path, format=\"wav\")\n",
        "  print(chunk_path)\n",
        "\n"
      ]
    },
    {
      "cell_type": "code",
      "source": [
        "!ls ./clips/*.wav -v >> list.tsv\n"
      ],
      "metadata": {
        "id": "U5vvcZOyXWQJ"
      },
      "execution_count": 5,
      "outputs": []
    },
    {
      "cell_type": "markdown",
      "source": [
        "\n",
        "# コマンドラインの使い方\n",
        "\n",
        "以下のコマンドは、コマンドラインインターフェイスを使って音声ファイルを書き起こし(transcribe)ます。音声ファイルは自動的に16kHzにダウンサンプリングされます。\n",
        "\n",
        "\n",
        "\n",
        "```\n",
        "!nue-asr audio1.wav\n",
        "```\n",
        "\n"
      ],
      "metadata": {
        "id": "G9y3ES6V-hW2"
      }
    },
    {
      "cell_type": "code",
      "source": [
        "# 実験として最初のクリップにコマンドラインアプリから音声書き起こしをしてみる。長すぎるとか、VRAMが足りないとかはあり得る。\n",
        "!nue-asr ./clips/clips0.wav\n"
      ],
      "metadata": {
        "colab": {
          "base_uri": "https://localhost:8080/"
        },
        "id": "QxwnLxba-QJp",
        "outputId": "8f90321d-758a-4960-d484-f6e4c80fed62"
      },
      "execution_count": 6,
      "outputs": [
        {
          "output_type": "stream",
          "name": "stdout",
          "text": [
            "config.json: 100% 814/814 [00:00<00:00, 4.61MB/s]\n",
            "pytorch_model.bin: 100% 7.42G/7.42G [00:30<00:00, 245MB/s]\n",
            "Some weights of the model checkpoint at rinna/nue-asr were not used when initializing NueASRModel: ['audio_encoder.encoder.pos_conv_embed.conv.weight_v', 'audio_encoder.encoder.pos_conv_embed.conv.weight_g']\n",
            "- This IS expected if you are initializing NueASRModel from the checkpoint of a model trained on another task or with another architecture (e.g. initializing a BertForSequenceClassification model from a BertForPreTraining model).\n",
            "- This IS NOT expected if you are initializing NueASRModel from the checkpoint of a model that you expect to be exactly identical (initializing a BertForSequenceClassification model from a BertForSequenceClassification model).\n",
            "Some weights of NueASRModel were not initialized from the model checkpoint at rinna/nue-asr and are newly initialized: ['audio_encoder.encoder.pos_conv_embed.conv.parametrizations.weight.original0', 'audio_encoder.encoder.pos_conv_embed.conv.parametrizations.weight.original1']\n",
            "You should probably TRAIN this model on a down-stream task to be able to use it for predictions and inference.\n",
            "tokenizer_config.json: 100% 284/284 [00:00<00:00, 1.59MB/s]\n",
            "spiece.model: 100% 786k/786k [00:00<00:00, 3.76MB/s]\n",
            "The input audio is 20.0 sec, but such long audio inputs may degrade recognition accuracy. It is recommended to split the audio into shorter segments.\n",
            "clips0.wav\t早速ちょっと時間も持ってるので入りたいと思ってるんですがまず最初にですねお釈迦に説法な部分もあるんですけどもまあ正々堂々のところでマーケットですねどうなっているかというところをですね。\n"
          ]
        }
      ]
    },
    {
      "cell_type": "code",
      "source": [
        "!pip install deepspeed"
      ],
      "metadata": {
        "colab": {
          "base_uri": "https://localhost:8080/"
        },
        "id": "Fz1w_fEPLaeQ",
        "outputId": "0f7453f5-7474-46c9-b9a2-93cbd9ef325c"
      },
      "execution_count": 8,
      "outputs": [
        {
          "output_type": "stream",
          "name": "stdout",
          "text": [
            "Collecting deepspeed\n",
            "  Downloading deepspeed-0.12.4.tar.gz (1.2 MB)\n",
            "\u001b[2K     \u001b[90m━━━━━━━━━━━━━━━━━━━━━━━━━━━━━━━━━━━━━━━━\u001b[0m \u001b[32m1.2/1.2 MB\u001b[0m \u001b[31m11.8 MB/s\u001b[0m eta \u001b[36m0:00:00\u001b[0m\n",
            "\u001b[?25h  Preparing metadata (setup.py) ... \u001b[?25l\u001b[?25hdone\n",
            "Collecting hjson (from deepspeed)\n",
            "  Downloading hjson-3.1.0-py3-none-any.whl (54 kB)\n",
            "\u001b[2K     \u001b[90m━━━━━━━━━━━━━━━━━━━━━━━━━━━━━━━━━━━━━━━━\u001b[0m \u001b[32m54.0/54.0 kB\u001b[0m \u001b[31m6.2 MB/s\u001b[0m eta \u001b[36m0:00:00\u001b[0m\n",
            "\u001b[?25hCollecting ninja (from deepspeed)\n",
            "  Downloading ninja-1.11.1.1-py2.py3-none-manylinux1_x86_64.manylinux_2_5_x86_64.whl (307 kB)\n",
            "\u001b[2K     \u001b[90m━━━━━━━━━━━━━━━━━━━━━━━━━━━━━━━━━━━━━━━━\u001b[0m \u001b[32m307.2/307.2 kB\u001b[0m \u001b[31m17.0 MB/s\u001b[0m eta \u001b[36m0:00:00\u001b[0m\n",
            "\u001b[?25hRequirement already satisfied: numpy in /usr/local/lib/python3.10/dist-packages (from deepspeed) (1.23.5)\n",
            "Requirement already satisfied: packaging>=20.0 in /usr/local/lib/python3.10/dist-packages (from deepspeed) (23.2)\n",
            "Requirement already satisfied: psutil in /usr/local/lib/python3.10/dist-packages (from deepspeed) (5.9.5)\n",
            "Requirement already satisfied: py-cpuinfo in /usr/local/lib/python3.10/dist-packages (from deepspeed) (9.0.0)\n",
            "Requirement already satisfied: pydantic in /usr/local/lib/python3.10/dist-packages (from deepspeed) (1.10.13)\n",
            "Collecting pynvml (from deepspeed)\n",
            "  Downloading pynvml-11.5.0-py3-none-any.whl (53 kB)\n",
            "\u001b[2K     \u001b[90m━━━━━━━━━━━━━━━━━━━━━━━━━━━━━━━━━━━━━━━━\u001b[0m \u001b[32m53.1/53.1 kB\u001b[0m \u001b[31m7.4 MB/s\u001b[0m eta \u001b[36m0:00:00\u001b[0m\n",
            "\u001b[?25hRequirement already satisfied: torch in /usr/local/lib/python3.10/dist-packages (from deepspeed) (2.1.0+cu118)\n",
            "Requirement already satisfied: tqdm in /usr/local/lib/python3.10/dist-packages (from deepspeed) (4.66.1)\n",
            "Requirement already satisfied: typing-extensions>=4.2.0 in /usr/local/lib/python3.10/dist-packages (from pydantic->deepspeed) (4.5.0)\n",
            "Requirement already satisfied: filelock in /usr/local/lib/python3.10/dist-packages (from torch->deepspeed) (3.13.1)\n",
            "Requirement already satisfied: sympy in /usr/local/lib/python3.10/dist-packages (from torch->deepspeed) (1.12)\n",
            "Requirement already satisfied: networkx in /usr/local/lib/python3.10/dist-packages (from torch->deepspeed) (3.2.1)\n",
            "Requirement already satisfied: jinja2 in /usr/local/lib/python3.10/dist-packages (from torch->deepspeed) (3.1.2)\n",
            "Requirement already satisfied: fsspec in /usr/local/lib/python3.10/dist-packages (from torch->deepspeed) (2023.6.0)\n",
            "Requirement already satisfied: triton==2.1.0 in /usr/local/lib/python3.10/dist-packages (from torch->deepspeed) (2.1.0)\n",
            "Requirement already satisfied: MarkupSafe>=2.0 in /usr/local/lib/python3.10/dist-packages (from jinja2->torch->deepspeed) (2.1.3)\n",
            "Requirement already satisfied: mpmath>=0.19 in /usr/local/lib/python3.10/dist-packages (from sympy->torch->deepspeed) (1.3.0)\n",
            "Building wheels for collected packages: deepspeed\n",
            "  Building wheel for deepspeed (setup.py) ... \u001b[?25l\u001b[?25hdone\n",
            "  Created wheel for deepspeed: filename=deepspeed-0.12.4-py3-none-any.whl size=1290644 sha256=8532767afdbb6291ec0c52e2b7cdcdde8ef43fd1c4afa1361d6a83bb06d17203\n",
            "  Stored in directory: /root/.cache/pip/wheels/7b/0c/52/f464610477b069120f740202a9d84a27f9d7235cbf035c4b75\n",
            "Successfully built deepspeed\n",
            "Installing collected packages: ninja, hjson, pynvml, deepspeed\n",
            "Successfully installed deepspeed-0.12.4 hjson-3.1.0 ninja-1.11.1.1 pynvml-11.5.0\n"
          ]
        }
      ]
    },
    {
      "cell_type": "code",
      "source": [
        "model = nue_asr.load_model(\"rinna/nue-asr\", use_deepspeed=True)\n",
        "tokenizer = nue_asr.load_tokenizer(\"rinna/nue-asr\")\n"
      ],
      "metadata": {
        "colab": {
          "base_uri": "https://localhost:8080/"
        },
        "id": "gDzUZTyFHsDQ",
        "outputId": "cde8826d-e8c6-449d-844a-f79c35c8ce7d"
      },
      "execution_count": 9,
      "outputs": [
        {
          "output_type": "stream",
          "name": "stderr",
          "text": [
            "Some weights of the model checkpoint at rinna/nue-asr were not used when initializing NueASRModel: ['audio_encoder.encoder.pos_conv_embed.conv.weight_g', 'audio_encoder.encoder.pos_conv_embed.conv.weight_v']\n",
            "- This IS expected if you are initializing NueASRModel from the checkpoint of a model trained on another task or with another architecture (e.g. initializing a BertForSequenceClassification model from a BertForPreTraining model).\n",
            "- This IS NOT expected if you are initializing NueASRModel from the checkpoint of a model that you expect to be exactly identical (initializing a BertForSequenceClassification model from a BertForSequenceClassification model).\n",
            "Some weights of NueASRModel were not initialized from the model checkpoint at rinna/nue-asr and are newly initialized: ['audio_encoder.encoder.pos_conv_embed.conv.parametrizations.weight.original1', 'audio_encoder.encoder.pos_conv_embed.conv.parametrizations.weight.original0']\n",
            "You should probably TRAIN this model on a down-stream task to be able to use it for predictions and inference.\n"
          ]
        },
        {
          "output_type": "stream",
          "name": "stdout",
          "text": [
            "[2023-12-12 10:25:06,493] [INFO] [real_accelerator.py:161:get_accelerator] Setting ds_accelerator to cuda (auto detect)\n",
            "[2023-12-12 10:25:07,762] [INFO] [logging.py:96:log_dist] [Rank -1] DeepSpeed info: version=0.12.4, git-hash=unknown, git-branch=unknown\n",
            "[2023-12-12 10:25:07,764] [INFO] [logging.py:96:log_dist] [Rank -1] quantize_bits = 8 mlp_extra_grouping = False, quantize_groups = 1\n"
          ]
        },
        {
          "output_type": "stream",
          "name": "stderr",
          "text": [
            "Using /root/.cache/torch_extensions/py310_cu118 as PyTorch extensions root...\n",
            "Creating extension directory /root/.cache/torch_extensions/py310_cu118/transformer_inference...\n",
            "Detected CUDA files, patching ldflags\n",
            "Emitting ninja build file /root/.cache/torch_extensions/py310_cu118/transformer_inference/build.ninja...\n",
            "Building extension module transformer_inference...\n",
            "Allowing ninja to set a default number of workers... (overridable by setting the environment variable MAX_JOBS=N)\n"
          ]
        },
        {
          "output_type": "stream",
          "name": "stdout",
          "text": [
            "Time to load transformer_inference op: 47.09924554824829 seconds\n",
            "[2023-12-12 10:25:55,478] [INFO] [logging.py:96:log_dist] [Rank -1] DeepSpeed-Inference config: {'layer_id': 0, 'hidden_size': 2816, 'intermediate_size': 11264, 'heads': 22, 'num_hidden_layers': -1, 'dtype': torch.float16, 'pre_layer_norm': True, 'norm_type': <NormType.LayerNorm: 1>, 'local_rank': -1, 'stochastic_mode': False, 'epsilon': 1e-05, 'mp_size': 1, 'scale_attention': True, 'triangular_masking': True, 'local_attention': False, 'window_size': 1, 'rotary_dim': 128, 'rotate_half': False, 'rotate_every_two': True, 'return_tuple': True, 'mlp_after_attn': False, 'mlp_act_func_type': <ActivationFuncType.GELU: 1>, 'specialized_mode': False, 'training_mp_size': 1, 'bigscience_bloom': False, 'max_out_tokens': 1024, 'min_out_tokens': 1, 'scale_attn_by_inverse_layer_idx': False, 'enable_qkv_quantization': False, 'use_mup': False, 'return_single_tuple': False, 'set_empty_params': False, 'transposed_mode': False, 'use_triton': False, 'triton_autotune': False, 'num_kv': -1, 'rope_theta': 10000}\n"
          ]
        },
        {
          "output_type": "stream",
          "name": "stderr",
          "text": [
            "Loading extension module transformer_inference...\n"
          ]
        }
      ]
    },
    {
      "cell_type": "code",
      "source": [
        "test_df = pd.read_csv(f\"list.tsv\", sep=\"\\t\")\n",
        "test_df.head()\n",
        "\n",
        "TMP_DOWNSAMPLE_AUDIO = \"tmp_downsampled_audio.wav\"\n",
        "transcripts = []\n",
        "\n",
        "for _, row in tqdm(test_df.iterrows(), total=len(test_df)):\n",
        "    print(row.path)\n",
        "    audio = AudioSegment.from_wav(f\"{row.path}\")\n",
        "    downsampled_audio = audio.set_frame_rate(8000)  # 電話音声（8000Hz)の想定\n",
        "    downsampled_audio.export(TMP_DOWNSAMPLE_AUDIO, format=\"wav\")\n",
        "    result = nue_asr.transcribe(model, tokenizer, TMP_DOWNSAMPLE_AUDIO)\n",
        "    transcripts.append(result.text)\n",
        "    print(result.text)\n",
        "\n",
        "pd.DataFrame(transcripts, columns=[\"transcript\"]).to_csv(\"nue_result.csv\", index=None)"
      ],
      "metadata": {
        "colab": {
          "base_uri": "https://localhost:8080/",
          "height": 1000,
          "referenced_widgets": [
            "4ea9b0454d4e415b9d514e5f8a414cf8",
            "55b6a7b707054f208048598dfb16d0a6",
            "edc53c5ebcb04901894450180c166cb8",
            "c333eacce7ff4321b876ad4cb8817705",
            "d6a369ce58a84cf4adcc6622ff7b5790",
            "e0e72ed0f4314e649672744e262e37c9",
            "b9175854d6f64baa8b67927bd1dcc6d8",
            "a24911114ce543b986692363c1595df4",
            "b9f7ca6264e645ed80b6ed585d9d57f5",
            "f97b1e48f0a547ec8c21f8a23008a747",
            "356109f916f840a89defd25ac74cbbd5"
          ]
        },
        "id": "9yXhBSgtMBRx",
        "outputId": "93f4675d-3a0a-4ac0-a86f-da59079be093"
      },
      "execution_count": 10,
      "outputs": [
        {
          "output_type": "display_data",
          "data": {
            "text/plain": [
              "  0%|          | 0/105 [00:00<?, ?it/s]"
            ],
            "application/vnd.jupyter.widget-view+json": {
              "version_major": 2,
              "version_minor": 0,
              "model_id": "4ea9b0454d4e415b9d514e5f8a414cf8"
            }
          },
          "metadata": {}
        },
        {
          "output_type": "stream",
          "name": "stdout",
          "text": [
            "./clips/clips0.wav\n"
          ]
        },
        {
          "output_type": "stream",
          "name": "stderr",
          "text": [
            "WARNING:nue_asr.transcribe:The input audio is 20.0 sec, but such long audio inputs may degrade recognition accuracy. It is recommended to split the audio into shorter segments.\n",
            "WARNING:nue_asr.transcribe:The input audio is 20.0 sec, but such long audio inputs may degrade recognition accuracy. It is recommended to split the audio into shorter segments.\n"
          ]
        },
        {
          "output_type": "stream",
          "name": "stdout",
          "text": [
            "で観測的にも時間が早いので入りたいと思っているんですがまず最初にですね大阪に鉄棒の部分もあるんですけども衛星データで今というところでマーケットですねどうなっているかというところをですね。\n",
            "./clips/clips1.wav\n"
          ]
        },
        {
          "output_type": "stream",
          "name": "stderr",
          "text": [
            "WARNING:nue_asr.transcribe:The input audio is 20.0 sec, but such long audio inputs may degrade recognition accuracy. It is recommended to split the audio into shorter segments.\n"
          ]
        },
        {
          "output_type": "stream",
          "name": "stdout",
          "text": [
            "こちらですねある雑誌とですね出版のことなんですけども平均でですね35%平均で0円で提供できるというのもああでして恐らくこのITのサービスというかサービスというかですね。\n",
            "./clips/clips2.wav\n"
          ]
        },
        {
          "output_type": "stream",
          "name": "stderr",
          "text": [
            "WARNING:nue_asr.transcribe:The input audio is 20.0 sec, but such long audio inputs may degrade recognition accuracy. It is recommended to split the audio into shorter segments.\n"
          ]
        },
        {
          "output_type": "stream",
          "name": "stdout",
          "text": [
            "MER了解拍手の中で一番今後のビルであろうというこの製鉄所の中でじゃあ帝都大企業がどう見ているかとかキャンパスがどう出ていくかみたいなものをお話しできればと思っていますけどもそこにですね。\n",
            "./clips/clips3.wav\n"
          ]
        },
        {
          "output_type": "stream",
          "name": "stderr",
          "text": [
            "WARNING:nue_asr.transcribe:The input audio is 20.0 sec, but such long audio inputs may degrade recognition accuracy. It is recommended to split the audio into shorter segments.\n"
          ]
        },
        {
          "output_type": "stream",
          "name": "stdout",
          "text": [
            "今日ですねDV経験者の方もいらっしゃると思うんですけども例えば私どもの先ほどご紹介したベッドルームサービスがですね自社のDVに関する製品を開発されてるんですね。\n",
            "./clips/clips4.wav\n"
          ]
        },
        {
          "output_type": "stream",
          "name": "stderr",
          "text": [
            "WARNING:nue_asr.transcribe:The input audio is 20.0 sec, but such long audio inputs may degrade recognition accuracy. It is recommended to split the audio into shorter segments.\n"
          ]
        },
        {
          "output_type": "stream",
          "name": "stdout",
          "text": [
            "で、東芝さんに受けていただいても、例えば、AKBでの抜け穴など、衛星DMですね、プログラムを、日立もですね、夜中トイレに連れて行かれていたりですね。\n",
            "./clips/clips5.wav\n"
          ]
        },
        {
          "output_type": "stream",
          "name": "stderr",
          "text": [
            "WARNING:nue_asr.transcribe:The input audio is 20.0 sec, but such long audio inputs may degrade recognition accuracy. It is recommended to split the audio into shorter segments.\n"
          ]
        },
        {
          "output_type": "stream",
          "name": "stdout",
          "text": [
            "当初、投資をしましたという形でスタートアップ側もそうですしお金を入れる側も投資側も今、トークトレードになっていますので我々も認識あると思っていますしここに来ていただいている皆さんも同じ認識なのかなと。\n",
            "./clips/clips6.wav\n"
          ]
        },
        {
          "output_type": "stream",
          "name": "stderr",
          "text": [
            "WARNING:nue_asr.transcribe:The input audio is 20.0 sec, but such long audio inputs may degrade recognition accuracy. It is recommended to split the audio into shorter segments.\n"
          ]
        },
        {
          "output_type": "stream",
          "name": "stdout",
          "text": [
            "なので今日はですね今ホットな話題をですねスタートアップで議論できたらなと思っておりますでは早速問題に変えようかと思うんですけどもLGBTAIの登場まあ出てですね。\n",
            "./clips/clips7.wav\n"
          ]
        },
        {
          "output_type": "stream",
          "name": "stderr",
          "text": [
            "WARNING:nue_asr.transcribe:The input audio is 20.0 sec, but such long audio inputs may degrade recognition accuracy. It is recommended to split the audio into shorter segments.\n"
          ]
        },
        {
          "output_type": "stream",
          "name": "stdout",
          "text": [
            "実際にマーケットにいろいろ印象づけされていましたので各皆さんのポジションでどう見ているかというのをお伺いしたいなと思うんですけども。\n",
            "./clips/clips8.wav\n"
          ]
        },
        {
          "output_type": "stream",
          "name": "stderr",
          "text": [
            "WARNING:nue_asr.transcribe:The input audio is 20.0 sec, but such long audio inputs may degrade recognition accuracy. It is recommended to split the audio into shorter segments.\n"
          ]
        },
        {
          "output_type": "stream",
          "name": "stdout",
          "text": [
            "もともと大きな体のシルエットが起こってるってところでは見てまして今まで例えばスタートアップで結構大企業からのやつない人材を招けるとか何かしら市場のちょっと落ち込んだ部分を見つけるみたいな勝負になったと思うんです。\n",
            "./clips/clips9.wav\n"
          ]
        },
        {
          "output_type": "stream",
          "name": "stderr",
          "text": [
            "WARNING:nue_asr.transcribe:The input audio is 20.0 sec, but such long audio inputs may degrade recognition accuracy. It is recommended to split the audio into shorter segments.\n"
          ]
        },
        {
          "output_type": "stream",
          "name": "stdout",
          "text": [
            "そこで勝負できるっていうところが非常に面白いなっていうふうにまあなかなかインターネット以来なんじゃないかなっていうふうには見てますけど実際にそれはお客様も覚えておられるんじゃないかと思います。\n",
            "./clips/clips10.wav\n"
          ]
        },
        {
          "output_type": "stream",
          "name": "stderr",
          "text": [
            "WARNING:nue_asr.transcribe:The input audio is 20.0 sec, but such long audio inputs may degrade recognition accuracy. It is recommended to split the audio into shorter segments.\n"
          ]
        },
        {
          "output_type": "stream",
          "name": "stdout",
          "text": [
            "実際ほかの例えば企業さんどう使われているんですか実際われわれじゃあどこをどう使ったら業務の効率化されるんですかみたいなのでお尋ねいただいたりとかなかなかスタートアップやってると私も何かスタートアップ自体やりにくいんですよ。\n",
            "./clips/clips11.wav\n"
          ]
        },
        {
          "output_type": "stream",
          "name": "stderr",
          "text": [
            "WARNING:nue_asr.transcribe:The input audio is 20.0 sec, but such long audio inputs may degrade recognition accuracy. It is recommended to split the audio into shorter segments.\n"
          ]
        },
        {
          "output_type": "stream",
          "name": "stdout",
          "text": [
            "結構我々から企業さんにこういうのどうですか?っていう提案もどんどんしていかないといけなかったっていう状態なんですけど逆にこういうのを我々のシステムとか業務の組み込めばいいですかみたいなことやって来るのでそれも大きなトレンドの。\n",
            "./clips/clips12.wav\n"
          ]
        },
        {
          "output_type": "stream",
          "name": "stderr",
          "text": [
            "WARNING:nue_asr.transcribe:The input audio is 20.0 sec, but such long audio inputs may degrade recognition accuracy. It is recommended to split the audio into shorter segments.\n"
          ]
        },
        {
          "output_type": "stream",
          "name": "stdout",
          "text": [
            "じゃあ一方でそのスタートアップを探す側といいますかこれはまあこれから大企業が動くという側で石田さんから見てですねこうやって大企業だったりですねその辺だけをどう見られてる感じなんかありますか?\n",
            "./clips/clips13.wav\n"
          ]
        },
        {
          "output_type": "stream",
          "name": "stderr",
          "text": [
            "WARNING:nue_asr.transcribe:The input audio is 20.0 sec, but such long audio inputs may degrade recognition accuracy. It is recommended to split the audio into shorter segments.\n"
          ]
        },
        {
          "output_type": "stream",
          "name": "stdout",
          "text": [
            "大企業の方々も突然突然経営的AIというものに関してこれはもう本当に広く認識されていることなのかなと思っています。\n",
            "./clips/clips14.wav\n"
          ]
        },
        {
          "output_type": "stream",
          "name": "stderr",
          "text": [
            "WARNING:nue_asr.transcribe:The input audio is 20.0 sec, but such long audio inputs may degrade recognition accuracy. It is recommended to split the audio into shorter segments.\n"
          ]
        },
        {
          "output_type": "stream",
          "name": "stdout",
          "text": [
            "例えば社内でそれを扱える人材がいないところだったりとかそれを扱えていないというのが現状かなと思ってます。\n",
            "./clips/clips15.wav\n"
          ]
        },
        {
          "output_type": "stream",
          "name": "stderr",
          "text": [
            "WARNING:nue_asr.transcribe:The input audio is 20.0 sec, but such long audio inputs may degrade recognition accuracy. It is recommended to split the audio into shorter segments.\n"
          ]
        },
        {
          "output_type": "stream",
          "name": "stdout",
          "text": [
            "あの時代の人々の話を見ててですねあの時って本当に時代に向こう側に人手で頑張ったものを機会を動員してで人がそういう機会に向かわせる仕事なくならないかって議論がありながらいやいや違うぞと。\n",
            "./clips/clips16.wav\n"
          ]
        },
        {
          "output_type": "stream",
          "name": "stderr",
          "text": [
            "WARNING:nue_asr.transcribe:The input audio is 20.0 sec, but such long audio inputs may degrade recognition accuracy. It is recommended to split the audio into shorter segments.\n"
          ]
        },
        {
          "output_type": "stream",
          "name": "stdout",
          "text": [
            "結局写真に今みたいなのを撮ってないでくださいって言うぐらい本当に市場を変える可能性のあるサービスだと思っているので僕個人の考えとしては分からないことがあるとちょっとあんまりかもしれないけれども入れていくべき。\n",
            "./clips/clips17.wav\n"
          ]
        },
        {
          "output_type": "stream",
          "name": "stderr",
          "text": [
            "WARNING:nue_asr.transcribe:The input audio is 20.0 sec, but such long audio inputs may degrade recognition accuracy. It is recommended to split the audio into shorter segments.\n"
          ]
        },
        {
          "output_type": "stream",
          "name": "stdout",
          "text": [
            "入れないとどんどん遅れていくよっていうぐらいのもんなのかなっていうふうに思って捉えてましてじゃあ一方でグローバルという視点で千原さんはどう見られてしまうこの状況を。\n",
            "./clips/clips18.wav\n"
          ]
        },
        {
          "output_type": "stream",
          "name": "stderr",
          "text": [
            "WARNING:nue_asr.transcribe:The input audio is 20.0 sec, but such long audio inputs may degrade recognition accuracy. It is recommended to split the audio into shorter segments.\n"
          ]
        },
        {
          "output_type": "stream",
          "name": "stdout",
          "text": [
            "前回のインタビューでも同様だったんですけど今回は非常に大きく違うなと思っているのはストライクが本国でサービスローンチをしてたのに日本に来るまでに非常に結構時間がギャップがあるんですね。\n",
            "./clips/clips19.wav\n"
          ]
        },
        {
          "output_type": "stream",
          "name": "stderr",
          "text": [
            "WARNING:nue_asr.transcribe:The input audio is 20.0 sec, but such long audio inputs may degrade recognition accuracy. It is recommended to split the audio into shorter segments.\n"
          ]
        },
        {
          "output_type": "stream",
          "name": "stdout",
          "text": [
            "まあ技術リテラシーというものの成熟度というのもありますしそのほかはあのピンクに関して言うとマーケットマーケットのレギュレーションであったりなどいろんな軸があるんですがあんだけ話題になった筋電計。\n",
            "./clips/clips20.wav\n"
          ]
        },
        {
          "output_type": "stream",
          "name": "stderr",
          "text": [
            "WARNING:nue_asr.transcribe:The input audio is 20.0 sec, but such long audio inputs may degrade recognition accuracy. It is recommended to split the audio into shorter segments.\n"
          ]
        },
        {
          "output_type": "stream",
          "name": "stdout",
          "text": [
            "でも今回センセービアにもついていますとちょっと私たちが疑似餌やり自体を生態系の登場のきっかけを作った会社だというふうに聞いていまして2022年に8月に不正貿易収賄事件が出たというのは非常に皆さんショック受けてました。\n",
            "./clips/clips21.wav\n"
          ]
        },
        {
          "output_type": "stream",
          "name": "stderr",
          "text": [
            "WARNING:nue_asr.transcribe:The input audio is 20.0 sec, but such long audio inputs may degrade recognition accuracy. It is recommended to split the audio into shorter segments.\n"
          ]
        },
        {
          "output_type": "stream",
          "name": "stdout",
          "text": [
            "そのあと9か月してオープンエアという言い方になったんですがこの技術の波というのが男を通じて生まれる波形的が起こったという例はかなり今までのテクノロジーの中でも違う形で使われているんじゃないか。\n",
            "./clips/clips22.wav\n"
          ]
        },
        {
          "output_type": "stream",
          "name": "stderr",
          "text": [
            "WARNING:nue_asr.transcribe:The input audio is 20.0 sec, but such long audio inputs may degrade recognition accuracy. It is recommended to split the audio into shorter segments.\n"
          ]
        },
        {
          "output_type": "stream",
          "name": "stdout",
          "text": [
            "海外の人にとっての購入のスピード限界度という意味だと欧米と日本でだいぶ差がついてきてるはずなのにこの差はというところはちょっとグローバルで競合とも見える立場で言うといろいろと考えないといけないなと思ってます。\n",
            "./clips/clips23.wav\n"
          ]
        },
        {
          "output_type": "stream",
          "name": "stderr",
          "text": [
            "WARNING:nue_asr.transcribe:The input audio is 20.0 sec, but such long audio inputs may degrade recognition accuracy. It is recommended to split the audio into shorter segments.\n"
          ]
        },
        {
          "output_type": "stream",
          "name": "stdout",
          "text": [
            "日本マーケットで先日フォトグラファーAIさんがサービスを展開するという意味でよろしいですか?\n",
            "./clips/clips24.wav\n"
          ]
        },
        {
          "output_type": "stream",
          "name": "stderr",
          "text": [
            "WARNING:nue_asr.transcribe:The input audio is 20.0 sec, but such long audio inputs may degrade recognition accuracy. It is recommended to split the audio into shorter segments.\n"
          ]
        },
        {
          "output_type": "stream",
          "name": "stdout",
          "text": [
            "この辺りは、今でもよく、ハンガーとか買うの好きなんですけど、彼が個人的に、日本のポップカルチャーがとても好きで、彼が個人的に、日本のポップカルチャーがとっても好き。\n",
            "./clips/clips25.wav\n"
          ]
        },
        {
          "output_type": "stream",
          "name": "stderr",
          "text": [
            "WARNING:nue_asr.transcribe:The input audio is 20.0 sec, but such long audio inputs may degrade recognition accuracy. It is recommended to split the audio into shorter segments.\n"
          ]
        },
        {
          "output_type": "stream",
          "name": "stdout",
          "text": [
            "そういうような背景もあって非常に重要なマーケットであとはもともとステップデフューザー自体が画像生成なので画像っていうクリエーティブコンテンツの観点からすると日本はもう欠かせないなというのが今日衛星携帯スタートなんですけど。\n",
            "./clips/clips26.wav\n"
          ]
        },
        {
          "output_type": "stream",
          "name": "stderr",
          "text": [
            "WARNING:nue_asr.transcribe:The input audio is 20.0 sec, but such long audio inputs may degrade recognition accuracy. It is recommended to split the audio into shorter segments.\n"
          ]
        },
        {
          "output_type": "stream",
          "name": "stdout",
          "text": [
            "ぜひ、こうした対応でさまざまな視点があって課題的な壁的なものが見えて。\n",
            "./clips/clips27.wav\n"
          ]
        },
        {
          "output_type": "stream",
          "name": "stderr",
          "text": [
            "WARNING:nue_asr.transcribe:The input audio is 20.0 sec, but such long audio inputs may degrade recognition accuracy. It is recommended to split the audio into shorter segments.\n"
          ]
        },
        {
          "output_type": "stream",
          "name": "stdout",
          "text": [
            "次ですねじゃあその成形成形のどういう表現で出てきたかもしれないんですけども衝撃実際に一応さんセンタープライドの方と会話を頂く中で。\n",
            "./clips/clips28.wav\n"
          ]
        },
        {
          "output_type": "stream",
          "name": "stderr",
          "text": [
            "WARNING:nue_asr.transcribe:The input audio is 20.0 sec, but such long audio inputs may degrade recognition accuracy. It is recommended to split the audio into shorter segments.\n"
          ]
        },
        {
          "output_type": "stream",
          "name": "stdout",
          "text": [
            "そうですねいくつかあると思っていて適宜原因が不安みたいなところもあったりとか人材がいないとかっていうところはあるかなと思っていて。\n",
            "./clips/clips29.wav\n"
          ]
        },
        {
          "output_type": "stream",
          "name": "stderr",
          "text": [
            "WARNING:nue_asr.transcribe:The input audio is 20.0 sec, but such long audio inputs may degrade recognition accuracy. It is recommended to split the audio into shorter segments.\n"
          ]
        },
        {
          "output_type": "stream",
          "name": "stdout",
          "text": [
            "調査でちょっと見たものが会社で導入を検討してますかみたいなところでまあある大きな会社に聞きに行ったりとか。\n",
            "./clips/clips30.wav\n"
          ]
        },
        {
          "output_type": "stream",
          "name": "stderr",
          "text": [
            "WARNING:nue_asr.transcribe:The input audio is 20.0 sec, but such long audio inputs may degrade recognition accuracy. It is recommended to split the audio into shorter segments.\n"
          ]
        },
        {
          "output_type": "stream",
          "name": "stdout",
          "text": [
            "なので社内でなんかもうやってるだけじゃなくてっていうところがあるなというところが自分の中で意識できるようになったっていうのは結構自分の中で大きくなった感じになっちゃうのかなと。\n",
            "./clips/clips31.wav\n"
          ]
        },
        {
          "output_type": "stream",
          "name": "stderr",
          "text": [
            "WARNING:nue_asr.transcribe:The input audio is 20.0 sec, but such long audio inputs may degrade recognition accuracy. It is recommended to split the audio into shorter segments.\n"
          ]
        },
        {
          "output_type": "stream",
          "name": "stdout",
          "text": [
            "恐らくそのCXOレベルの方たちのニュースだったりさまざまなメディアでトップダウンが起きてるんでしょうねで実際に現場の現場で課題があってそれを解決するためにまあ定常試合があるんですね。\n",
            "./clips/clips32.wav\n"
          ]
        },
        {
          "output_type": "stream",
          "name": "stderr",
          "text": [
            "WARNING:nue_asr.transcribe:The input audio is 20.0 sec, but such long audio inputs may degrade recognition accuracy. It is recommended to split the audio into shorter segments.\n"
          ]
        },
        {
          "output_type": "stream",
          "name": "stdout",
          "text": [
            "じゃあ実際にそのボトムアップからの営業を多分されてると思うんですけどりんたろーさんから見て実際どうですか?\n",
            "./clips/clips33.wav\n"
          ]
        },
        {
          "output_type": "stream",
          "name": "stderr",
          "text": [
            "WARNING:nue_asr.transcribe:The input audio is 20.0 sec, but such long audio inputs may degrade recognition accuracy. It is recommended to split the audio into shorter segments.\n"
          ]
        },
        {
          "output_type": "stream",
          "name": "stdout",
          "text": [
            "意外と例えば街が見えたりするし何か鍛えて通ってくれないこともあるし最近でいくと何か目から伸びるしお眼鏡が何かの眼鏡が危険だっていうのがあっていろいろあるんでそこは期待値が現場と離れてる。\n",
            "./clips/clips34.wav\n"
          ]
        },
        {
          "output_type": "stream",
          "name": "stderr",
          "text": [
            "WARNING:nue_asr.transcribe:The input audio is 20.0 sec, but such long audio inputs may degrade recognition accuracy. It is recommended to split the audio into shorter segments.\n"
          ]
        },
        {
          "output_type": "stream",
          "name": "stdout",
          "text": [
            "今の時点では危険というのが認知度レベルとかも上がっているのであともう一個はセキュリティーの問題ただここは丁寧に説明をすると大抵全然OKな今までのITが悪いというのと変わらないので。\n",
            "./clips/clips35.wav\n"
          ]
        },
        {
          "output_type": "stream",
          "name": "stderr",
          "text": [
            "WARNING:nue_asr.transcribe:The input audio is 20.0 sec, but such long audio inputs may degrade recognition accuracy. It is recommended to split the audio into shorter segments.\n"
          ]
        },
        {
          "output_type": "stream",
          "name": "stdout",
          "text": [
            "でも実際にはこの3つがどの将棋になるかなと思っていて実際の相談の中でこれは大変だったなみたいなことおっしゃってたので多分今3つあるんでって言われたと思うんですけどもその中でなかなか越える壁がやっぱり大変だったと思うんですね。\n",
            "./clips/clips36.wav\n"
          ]
        },
        {
          "output_type": "stream",
          "name": "stderr",
          "text": [
            "WARNING:nue_asr.transcribe:The input audio is 20.0 sec, but such long audio inputs may degrade recognition accuracy. It is recommended to split the audio into shorter segments.\n"
          ]
        },
        {
          "output_type": "stream",
          "name": "stdout",
          "text": [
            "基本的に著作権に関してとかまああの人だと賞状権とかに関して社内のルールが整ってないっていうのが大きい会社ほどあってまあそれは大きくない会社だとやってみようかみたいなことになるんで。\n",
            "./clips/clips37.wav\n"
          ]
        },
        {
          "output_type": "stream",
          "name": "stderr",
          "text": [
            "WARNING:nue_asr.transcribe:The input audio is 20.0 sec, but such long audio inputs may degrade recognition accuracy. It is recommended to split the audio into shorter segments.\n"
          ]
        },
        {
          "output_type": "stream",
          "name": "stdout",
          "text": [
            "というのでまだいろいろちょっとお話させていただいてる中でやっぱり今お話を聞いていただいてるのは非常に僕は本当にありがとうございます。\n",
            "./clips/clips38.wav\n"
          ]
        },
        {
          "output_type": "stream",
          "name": "stderr",
          "text": [
            "WARNING:nue_asr.transcribe:The input audio is 20.0 sec, but such long audio inputs may degrade recognition accuracy. It is recommended to split the audio into shorter segments.\n"
          ]
        },
        {
          "output_type": "stream",
          "name": "stdout",
          "text": [
            "では最後ですね先ほど差があるのも先ほどお話があったんですけど私たちもマグロの話も私たちもマグロの話をしてより多く使っていただこうという活動をしてるんです。\n",
            "./clips/clips39.wav\n"
          ]
        },
        {
          "output_type": "stream",
          "name": "stderr",
          "text": [
            "WARNING:nue_asr.transcribe:The input audio is 20.0 sec, but such long audio inputs may degrade recognition accuracy. It is recommended to split the audio into shorter segments.\n"
          ]
        },
        {
          "output_type": "stream",
          "name": "stdout",
          "text": [
            "あともう一つは訂正された根本的な権利の問題ですとか著作権の侵害があるわけですけども著作権の懸念があるわけですけども。\n",
            "./clips/clips40.wav\n"
          ]
        },
        {
          "output_type": "stream",
          "name": "stderr",
          "text": [
            "WARNING:nue_asr.transcribe:The input audio is 20.0 sec, but such long audio inputs may degrade recognition accuracy. It is recommended to split the audio into shorter segments.\n"
          ]
        },
        {
          "output_type": "stream",
          "name": "stdout",
          "text": [
            "恐らく日本企業非常に高い参入というのが海外のいわゆるフェアウェイっていうような公共の目的であれば非現実的であるところもあるのでそういった措置の違いもあるのかなと思いますけど。\n",
            "./clips/clips41.wav\n"
          ]
        },
        {
          "output_type": "stream",
          "name": "stderr",
          "text": [
            "WARNING:nue_asr.transcribe:The input audio is 20.0 sec, but such long audio inputs may degrade recognition accuracy. It is recommended to split the audio into shorter segments.\n"
          ]
        },
        {
          "output_type": "stream",
          "name": "stdout",
          "text": [
            "セキュリティーのところはまさにリーダーになっていただいたとおりですけどもそのあたりはもっとオープンモデルでどこにも置けませんというようなこととかでエレベーターに乗るのは会社の姿勢としてはあるかなと思いますがもう一つちょっとこのあたりが非常に私、ユニークだなと思っているのは。\n",
            "./clips/clips42.wav\n"
          ]
        },
        {
          "output_type": "stream",
          "name": "stderr",
          "text": [
            "WARNING:nue_asr.transcribe:The input audio is 20.0 sec, but such long audio inputs may degrade recognition accuracy. It is recommended to split the audio into shorter segments.\n"
          ]
        },
        {
          "output_type": "stream",
          "name": "stdout",
          "text": [
            "もしかしたらそんなにクリエーターとかエンターメコンテンツの皆さんいらっしゃらないかもしれないんですけど日本独自の文化の進展ってつくることに手がかかっていることに価値があるなとか。\n",
            "./clips/clips43.wav\n"
          ]
        },
        {
          "output_type": "stream",
          "name": "stderr",
          "text": [
            "WARNING:nue_asr.transcribe:The input audio is 20.0 sec, but such long audio inputs may degrade recognition accuracy. It is recommended to split the audio into shorter segments.\n"
          ]
        },
        {
          "output_type": "stream",
          "name": "stdout",
          "text": [
            "ここら辺はかなりクリエーター文化の発達の時代だなと思うんですけれども、だからこそ、おのおのが思う衝撃というか、もうちょっとこう、回答が難しいなと思っているところですね。\n",
            "./clips/clips44.wav\n"
          ]
        },
        {
          "output_type": "stream",
          "name": "stderr",
          "text": [
            "WARNING:nue_asr.transcribe:The input audio is 20.0 sec, but such long audio inputs may degrade recognition accuracy. It is recommended to split the audio into shorter segments.\n"
          ]
        },
        {
          "output_type": "stream",
          "name": "stdout",
          "text": [
            "あまり作家の認定っていうとクリエーターさんが関わっていることで問題が起こるんでっていうところがまあこれだけはあるんじゃないかと思うんですけどそれはもう冗談の中で。\n",
            "./clips/clips45.wav\n"
          ]
        },
        {
          "output_type": "stream",
          "name": "stderr",
          "text": [
            "WARNING:nue_asr.transcribe:The input audio is 20.0 sec, but such long audio inputs may degrade recognition accuracy. It is recommended to split the audio into shorter segments.\n"
          ]
        },
        {
          "output_type": "stream",
          "name": "stdout",
          "text": [
            "要するに作られる事業所産側がどんどんどんどんアウトローとしてるようなものも増えているわけでそれが国内で作れるようになればまたいろんな意味で変わってくるんだけども。\n",
            "./clips/clips46.wav\n"
          ]
        },
        {
          "output_type": "stream",
          "name": "stderr",
          "text": [
            "WARNING:nue_asr.transcribe:The input audio is 20.0 sec, but such long audio inputs may degrade recognition accuracy. It is recommended to split the audio into shorter segments.\n"
          ]
        },
        {
          "output_type": "stream",
          "name": "stdout",
          "text": [
            "そこでは否定的お伝えとしてちょっと時間がかかるんでその辺りは少しまた時間がかかっていくっていうところがちょっと気になるところかなと。\n",
            "./clips/clips47.wav\n"
          ]
        },
        {
          "output_type": "stream",
          "name": "stderr",
          "text": [
            "WARNING:nue_asr.transcribe:The input audio is 20.0 sec, but such long audio inputs may degrade recognition accuracy. It is recommended to split the audio into shorter segments.\n"
          ]
        },
        {
          "output_type": "stream",
          "name": "stdout",
          "text": [
            "ええ時間がですね押してるので最後ですねこのご質問でと締めの停車場をじゃあ実際にこれから青天の霹靂。\n",
            "./clips/clips48.wav\n"
          ]
        },
        {
          "output_type": "stream",
          "name": "stderr",
          "text": [
            "WARNING:nue_asr.transcribe:The input audio is 20.0 sec, but such long audio inputs may degrade recognition accuracy. It is recommended to split the audio into shorter segments.\n"
          ]
        },
        {
          "output_type": "stream",
          "name": "stdout",
          "text": [
            "いろんな立場でいろんな業種業態の方がいらっしゃると思うんですけども皆様スタートアップっていう言葉で大企業っていう言葉を今後導入につながるのかっていうところをですねお話を伺っていきたいなと思うんですけど。\n",
            "./clips/clips49.wav\n"
          ]
        },
        {
          "output_type": "stream",
          "name": "stderr",
          "text": [
            "WARNING:nue_asr.transcribe:The input audio is 20.0 sec, but such long audio inputs may degrade recognition accuracy. It is recommended to split the audio into shorter segments.\n"
          ]
        },
        {
          "output_type": "stream",
          "name": "stdout",
          "text": [
            "ちょっとJETとお話をしていたんですけれどもやはり一番大きいのはですね変わって頂くっていうことかなと思ってます。\n",
            "./clips/clips50.wav\n"
          ]
        },
        {
          "output_type": "stream",
          "name": "stderr",
          "text": [
            "WARNING:nue_asr.transcribe:The input audio is 20.0 sec, but such long audio inputs may degrade recognition accuracy. It is recommended to split the audio into shorter segments.\n"
          ]
        },
        {
          "output_type": "stream",
          "name": "stdout",
          "text": [
            "というのは、リーダーの方が先ほど言いましたが、魔法のツールのように見えて、実はできることできないこと、かなりあるので、そこをまず体感していただいたうえで、自分たちの事業運営の上での課題に、どう我々、構えられるかということを考えるという流れが、まずは大事なのかなというふうに思います。\n",
            "./clips/clips51.wav\n"
          ]
        },
        {
          "output_type": "stream",
          "name": "stderr",
          "text": [
            "WARNING:nue_asr.transcribe:The input audio is 20.0 sec, but such long audio inputs may degrade recognition accuracy. It is recommended to split the audio into shorter segments.\n"
          ]
        },
        {
          "output_type": "stream",
          "name": "stdout",
          "text": [
            "我々まだ頑張ってる途中なんですけれども一番は彼ら導入側が価値を感じられるぐらいに素晴らしいプロダクトを作るっていうところは必須なのでそこに貢献していくっていうのができる。\n",
            "./clips/clips52.wav\n"
          ]
        },
        {
          "output_type": "stream",
          "name": "stderr",
          "text": [
            "WARNING:nue_asr.transcribe:The input audio is 20.0 sec, but such long audio inputs may degrade recognition accuracy. It is recommended to split the audio into shorter segments.\n"
          ]
        },
        {
          "output_type": "stream",
          "name": "stdout",
          "text": [
            "テクノロジーはもともとインターネットってよく分からないものだったんですけど、皆さん頑張って、プロジェクトを作って、お話をさせていただいたところで、われわれもここを頑張っていきたいなと思っております。\n",
            "./clips/clips53.wav\n"
          ]
        },
        {
          "output_type": "stream",
          "name": "stderr",
          "text": [
            "WARNING:nue_asr.transcribe:The input audio is 20.0 sec, but such long audio inputs may degrade recognition accuracy. It is recommended to split the audio into shorter segments.\n"
          ]
        },
        {
          "output_type": "stream",
          "name": "stdout",
          "text": [
            "大企業の方々からよくこういう課題を感じてらっしゃるんだけどこういうことができるスタートラインかっていう相談をよく受けてそういうことをお話ししたりしてたんですがこういう外国人社員の方々も非常に多くてですね。\n",
            "./clips/clips54.wav\n"
          ]
        },
        {
          "output_type": "stream",
          "name": "stderr",
          "text": [
            "WARNING:nue_asr.transcribe:The input audio is 20.0 sec, but such long audio inputs may degrade recognition accuracy. It is recommended to split the audio into shorter segments.\n"
          ]
        },
        {
          "output_type": "stream",
          "name": "stdout",
          "text": [
            "まああとは学会も難しいものだというふうに思ってましたので今そういう仲介のために僕がみたいな会社があったりとかそういった中で非常にこうやって会話を聞いてくれるお子さんとかいらっしゃるので何か僕。\n",
            "./clips/clips55.wav\n"
          ]
        },
        {
          "output_type": "stream",
          "name": "stderr",
          "text": [
            "WARNING:nue_asr.transcribe:The input audio is 20.0 sec, but such long audio inputs may degrade recognition accuracy. It is recommended to split the audio into shorter segments.\n"
          ]
        },
        {
          "output_type": "stream",
          "name": "stdout",
          "text": [
            "まずはたぶん今まで皆さん1年半前2年半前にですねこういうサービス多分そんなしなかったんでしょうね。\n",
            "./clips/clips56.wav\n"
          ]
        },
        {
          "output_type": "stream",
          "name": "stderr",
          "text": [
            "WARNING:nue_asr.transcribe:The input audio is 20.0 sec, but such long audio inputs may degrade recognition accuracy. It is recommended to split the audio into shorter segments.\n"
          ]
        },
        {
          "output_type": "stream",
          "name": "stdout",
          "text": [
            "なので、ぜひ我々とこの副島副島副島副島副島副島副島副島副島副島副島副島副島副島副島副島副島副島副島副島副島副島副島副島副島副島副島副島副島副島副島副島副島副島副島副島副島副島副島副島副島副島副島副島副島副島副\n",
            "./clips/clips57.wav\n"
          ]
        },
        {
          "output_type": "stream",
          "name": "stderr",
          "text": [
            "WARNING:nue_asr.transcribe:The input audio is 20.0 sec, but such long audio inputs may degrade recognition accuracy. It is recommended to split the audio into shorter segments.\n"
          ]
        },
        {
          "output_type": "stream",
          "name": "stdout",
          "text": [
            "いろんな立場でさまざまな見ているものが違うとは思うんですけどもぜひ、テレビの枠じゃないですけども、本当はですね、Qべーションを持ちたかったんですけども、時間の関係で、ちょっときょうはですね。\n",
            "./clips/clips58.wav\n"
          ]
        },
        {
          "output_type": "stream",
          "name": "stderr",
          "text": [
            "WARNING:nue_asr.transcribe:The input audio is 20.0 sec, but such long audio inputs may degrade recognition accuracy. It is recommended to split the audio into shorter segments.\n"
          ]
        },
        {
          "output_type": "stream",
          "name": "stdout",
          "text": [
            "お三方にですね是非コミュニケーションとっていただければと思っておりますではトークセッションを終了させていただければと思っております。\n",
            "./clips/clips59.wav\n"
          ]
        },
        {
          "output_type": "stream",
          "name": "stderr",
          "text": [
            "WARNING:nue_asr.transcribe:The input audio is 20.0 sec, but such long audio inputs may degrade recognition accuracy. It is recommended to split the audio into shorter segments.\n"
          ]
        },
        {
          "output_type": "stream",
          "name": "stdout",
          "text": [
            "それではですねここからですね保険組合スタンプアップのスイッチをお話しできればなというふうに思っております。\n",
            "./clips/clips60.wav\n"
          ]
        },
        {
          "output_type": "stream",
          "name": "stderr",
          "text": [
            "WARNING:nue_asr.transcribe:The input audio is 20.0 sec, but such long audio inputs may degrade recognition accuracy. It is recommended to split the audio into shorter segments.\n"
          ]
        },
        {
          "output_type": "stream",
          "name": "stdout",
          "text": [
            "さまざまなプロダクトだったりだとか配送をありがとうございますじゃあまず1社目ですねアルコニックの成田さんお願いします。\n",
            "./clips/clips61.wav\n"
          ]
        },
        {
          "output_type": "stream",
          "name": "stderr",
          "text": [
            "WARNING:nue_asr.transcribe:The input audio is 20.0 sec, but such long audio inputs may degrade recognition accuracy. It is recommended to split the audio into shorter segments.\n"
          ]
        },
        {
          "output_type": "stream",
          "name": "stdout",
          "text": [
            "それではよろしくお願いしますっていうお話をしたらスタビティ・アイカーの方で考えといたらお上がりよって言われて。\n",
            "./clips/clips62.wav\n"
          ]
        },
        {
          "output_type": "stream",
          "name": "stderr",
          "text": [
            "WARNING:nue_asr.transcribe:The input audio is 20.0 sec, but such long audio inputs may degrade recognition accuracy. It is recommended to split the audio into shorter segments.\n"
          ]
        },
        {
          "output_type": "stream",
          "name": "stdout",
          "text": [
            "結構似てますよね、かなり自分で言うのも何なんですけど、ちょっと時間がないので、1ページに占めているみたいなので、写真撮っていただいて、写真撮っていただければと思います。\n",
            "./clips/clips63.wav\n"
          ]
        },
        {
          "output_type": "stream",
          "name": "stderr",
          "text": [
            "WARNING:nue_asr.transcribe:The input audio is 20.0 sec, but such long audio inputs may degrade recognition accuracy. It is recommended to split the audio into shorter segments.\n"
          ]
        },
        {
          "output_type": "stream",
          "name": "stdout",
          "text": [
            "で会社の概要なんですけれどもアルプスっていう会社はですね今年の7月にできたばかりの会社なんですけれども。\n",
            "./clips/clips64.wav\n"
          ]
        },
        {
          "output_type": "stream",
          "name": "stderr",
          "text": [
            "WARNING:nue_asr.transcribe:The input audio is 20.0 sec, but such long audio inputs may degrade recognition accuracy. It is recommended to split the audio into shorter segments.\n"
          ]
        },
        {
          "output_type": "stream",
          "name": "stdout",
          "text": [
            "出会いの研究室があった事業のみを立ち上げるということでスタートアップサロンみたいな形で事業概要を説明してAIで作っていくっていうことをやっています。\n",
            "./clips/clips65.wav\n"
          ]
        },
        {
          "output_type": "stream",
          "name": "stderr",
          "text": [
            "WARNING:nue_asr.transcribe:The input audio is 20.0 sec, but such long audio inputs may degrade recognition accuracy. It is recommended to split the audio into shorter segments.\n"
          ]
        },
        {
          "output_type": "stream",
          "name": "stdout",
          "text": [
            "リプライドを持つと、やっぱり、試合が中止になったり、試合が中止になったりっていうのが、バックグラウンドであったりとか、甲子園が帝京系のサービスを出して、それをバッティングで成長させた。\n",
            "./clips/clips66.wav\n"
          ]
        },
        {
          "output_type": "stream",
          "name": "stderr",
          "text": [
            "WARNING:nue_asr.transcribe:The input audio is 20.0 sec, but such long audio inputs may degrade recognition accuracy. It is recommended to split the audio into shorter segments.\n"
          ]
        },
        {
          "output_type": "stream",
          "name": "stdout",
          "text": [
            "僕ら今5年でユニコーン10年でデカコーンを目指しているような会社です。\n",
            "./clips/clips67.wav\n"
          ]
        },
        {
          "output_type": "stream",
          "name": "stderr",
          "text": [
            "WARNING:nue_asr.transcribe:The input audio is 20.0 sec, but such long audio inputs may degrade recognition accuracy. It is recommended to split the audio into shorter segments.\n"
          ]
        },
        {
          "output_type": "stream",
          "name": "stdout",
          "text": [
            "はいアフタータッチスター銃形式であるので簡単に撃てっていう制度をとってまして事業部ごとにC-c-fという事業部があるんですけどその中にC-fという事業部があるんですけど。\n",
            "./clips/clips68.wav\n"
          ]
        },
        {
          "output_type": "stream",
          "name": "stderr",
          "text": [
            "WARNING:nue_asr.transcribe:The input audio is 20.0 sec, but such long audio inputs may degrade recognition accuracy. It is recommended to split the audio into shorter segments.\n"
          ]
        },
        {
          "output_type": "stream",
          "name": "stdout",
          "text": [
            "なのでお前誰に言ってんの?っていうと奥さんに言うと奥さんに言うと奥さんに言うと奥さんに言うと奥さんに言うて奥さんに言うてたやんかって言われて奥さんに言うて残りの事業部に関しては対応してまあ。\n",
            "./clips/clips69.wav\n"
          ]
        },
        {
          "output_type": "stream",
          "name": "stderr",
          "text": [
            "WARNING:nue_asr.transcribe:The input audio is 20.0 sec, but such long audio inputs may degrade recognition accuracy. It is recommended to split the audio into shorter segments.\n"
          ]
        },
        {
          "output_type": "stream",
          "name": "stdout",
          "text": [
            "1両機関車を支えてきたんでその事業がそれだとめちゃくちゃお金がかかるのでまずは1両としてDMV方式頂いて今事業立ち上げてます。\n",
            "./clips/clips70.wav\n"
          ]
        },
        {
          "output_type": "stream",
          "name": "stderr",
          "text": [
            "WARNING:nue_asr.transcribe:The input audio is 20.0 sec, but such long audio inputs may degrade recognition accuracy. It is recommended to split the audio into shorter segments.\n"
          ]
        },
        {
          "output_type": "stream",
          "name": "stdout",
          "text": [
            "僕はこの2条でトラクション出して次のステップにいってみようと思ってます。\n",
            "./clips/clips71.wav\n"
          ]
        },
        {
          "output_type": "stream",
          "name": "stderr",
          "text": [
            "WARNING:nue_asr.transcribe:The input audio is 20.0 sec, but such long audio inputs may degrade recognition accuracy. It is recommended to split the audio into shorter segments.\n"
          ]
        },
        {
          "output_type": "stream",
          "name": "stdout",
          "text": [
            "これ難しいところはねあるんですけど今こういうような遠隔で4月に企画して5月に全部リリースして4月には第1弾をレコーディングして。\n",
            "./clips/clips72.wav\n"
          ]
        },
        {
          "output_type": "stream",
          "name": "stderr",
          "text": [
            "WARNING:nue_asr.transcribe:The input audio is 20.0 sec, but such long audio inputs may degrade recognition accuracy. It is recommended to split the audio into shorter segments.\n"
          ]
        },
        {
          "output_type": "stream",
          "name": "stdout",
          "text": [
            "この辺りは先ほど鈴木さんもおっしゃったとおりまあよくあるセキュリティーのはいらない水道を使えるのが基本的かなと思ってます。\n",
            "./clips/clips73.wav\n"
          ]
        },
        {
          "output_type": "stream",
          "name": "stderr",
          "text": [
            "WARNING:nue_asr.transcribe:The input audio is 20.0 sec, but such long audio inputs may degrade recognition accuracy. It is recommended to split the audio into shorter segments.\n"
          ]
        },
        {
          "output_type": "stream",
          "name": "stdout",
          "text": [
            "1つ目が転職率特に一定の規模以上の会社さんだとITに対しての問題でなかなか使えない人が多いというところとちゃんとって正直。\n",
            "./clips/clips74.wav\n"
          ]
        },
        {
          "output_type": "stream",
          "name": "stderr",
          "text": [
            "WARNING:nue_asr.transcribe:The input audio is 20.0 sec, but such long audio inputs may degrade recognition accuracy. It is recommended to split the audio into shorter segments.\n"
          ]
        },
        {
          "output_type": "stream",
          "name": "stdout",
          "text": [
            "もちろんですけれどもアカウント管理管理者としての企業必要ではないというところですね。\n",
            "./clips/clips75.wav\n"
          ]
        },
        {
          "output_type": "stream",
          "name": "stderr",
          "text": [
            "WARNING:nue_asr.transcribe:The input audio is 20.0 sec, but such long audio inputs may degrade recognition accuracy. It is recommended to split the audio into shorter segments.\n"
          ]
        },
        {
          "output_type": "stream",
          "name": "stdout",
          "text": [
            "日本のトラックはなかなかピールジュアムラグというところでやっていかなきゃいけないというところもありまして我々は伴走サポートみたいなところをトラックでより精度を高くする努力をずっとやってきたのでそういうお手伝いをさせていただいています。\n",
            "./clips/clips76.wav\n"
          ]
        },
        {
          "output_type": "stream",
          "name": "stderr",
          "text": [
            "WARNING:nue_asr.transcribe:The input audio is 20.0 sec, but such long audio inputs may degrade recognition accuracy. It is recommended to split the audio into shorter segments.\n"
          ]
        },
        {
          "output_type": "stream",
          "name": "stdout",
          "text": [
            "この辺り、GLP-1なんですけれども、今、タグを使ったドリンク救援隊が待機をされているとは思うんですけど、かなり緊迫感という、これもDMVグループの1社なんですけれども。\n",
            "./clips/clips77.wav\n"
          ]
        },
        {
          "output_type": "stream",
          "name": "stderr",
          "text": [
            "WARNING:nue_asr.transcribe:The input audio is 20.0 sec, but such long audio inputs may degrade recognition accuracy. It is recommended to split the audio into shorter segments.\n"
          ]
        },
        {
          "output_type": "stream",
          "name": "stdout",
          "text": [
            "我々のしばらくAIを使ってやっとコスパが上がってる状態という状態です。\n",
            "./clips/clips78.wav\n"
          ]
        },
        {
          "output_type": "stream",
          "name": "stderr",
          "text": [
            "WARNING:nue_asr.transcribe:The input audio is 20.0 sec, but such long audio inputs may degrade recognition accuracy. It is recommended to split the audio into shorter segments.\n"
          ]
        },
        {
          "output_type": "stream",
          "name": "stdout",
          "text": [
            "今衛星愛を活用したいっていう会社さんの課題に割とこういう提供を募って一緒に解決していくみたいな形なので我々はどうしてもこうCTOってまずは課題の解決まあ企業側の課題の解決っていうところをこう持っていきたい。\n",
            "./clips/clips79.wav\n"
          ]
        },
        {
          "output_type": "stream",
          "name": "stderr",
          "text": [
            "WARNING:nue_asr.transcribe:The input audio is 20.0 sec, but such long audio inputs may degrade recognition accuracy. It is recommended to split the audio into shorter segments.\n"
          ]
        },
        {
          "output_type": "stream",
          "name": "stdout",
          "text": [
            "これは遠くからの衛星を自分たちで作ってるので9月末に立ち上がってるばかりの事業部です。\n",
            "./clips/clips80.wav\n"
          ]
        },
        {
          "output_type": "stream",
          "name": "stderr",
          "text": [
            "WARNING:nue_asr.transcribe:The input audio is 20.0 sec, but such long audio inputs may degrade recognition accuracy. It is recommended to split the audio into shorter segments.\n"
          ]
        },
        {
          "output_type": "stream",
          "name": "stdout",
          "text": [
            "特化型モデルというのは、いわゆる汎用的なモデルであると、やはり精度が少し下がってしまう領域であったり、あとは情報として、コンテンツポリシー上、返せない領域、例えば金融の部分とか、銀行とか事業に関わる部分というのは、返せないので、そういったものを。\n",
            "./clips/clips81.wav\n"
          ]
        },
        {
          "output_type": "stream",
          "name": "stderr",
          "text": [
            "WARNING:nue_asr.transcribe:The input audio is 20.0 sec, but such long audio inputs may degrade recognition accuracy. It is recommended to split the audio into shorter segments.\n"
          ]
        },
        {
          "output_type": "stream",
          "name": "stdout",
          "text": [
            "例えばえっと盛り土を作るだけだとどうしても精度が下がってしまったりとか精度が上がらないときのフィードバックがないので自分たちでアプリケーションを作ってそのデータを共有しながらですね。\n",
            "./clips/clips82.wav\n"
          ]
        },
        {
          "output_type": "stream",
          "name": "stderr",
          "text": [
            "WARNING:nue_asr.transcribe:The input audio is 20.0 sec, but such long audio inputs may degrade recognition accuracy. It is recommended to split the audio into shorter segments.\n"
          ]
        },
        {
          "output_type": "stream",
          "name": "stdout",
          "text": [
            "なので今ちょうど取り組んでるところはまだTFC段階でこれ今10月はちょっとオープントークの盛り土を使って。\n",
            "./clips/clips83.wav\n"
          ]
        },
        {
          "output_type": "stream",
          "name": "stderr",
          "text": [
            "WARNING:nue_asr.transcribe:The input audio is 20.0 sec, but such long audio inputs may degrade recognition accuracy. It is recommended to split the audio into shorter segments.\n"
          ]
        },
        {
          "output_type": "stream",
          "name": "stdout",
          "text": [
            "今ちょうどセンター分析周りまあレポートで周知しなきゃいけないとかデータ分析基盤作れないんだけれども情報はまとめたいみたいなそういったところに対しての課題っていうのを今対策しようとしてます。\n",
            "./clips/clips84.wav\n"
          ]
        },
        {
          "output_type": "stream",
          "name": "stderr",
          "text": [
            "WARNING:nue_asr.transcribe:The input audio is 20.0 sec, but such long audio inputs may degrade recognition accuracy. It is recommended to split the audio into shorter segments.\n"
          ]
        },
        {
          "output_type": "stream",
          "name": "stdout",
          "text": [
            "なのでビデオをやってるっていうのは一つとアルバムで聴くっていうのも開催してまして一緒に連れてって。\n",
            "./clips/clips85.wav\n"
          ]
        },
        {
          "output_type": "stream",
          "name": "stderr",
          "text": [
            "WARNING:nue_asr.transcribe:The input audio is 20.0 sec, but such long audio inputs may degrade recognition accuracy. It is recommended to split the audio into shorter segments.\n"
          ]
        },
        {
          "output_type": "stream",
          "name": "stdout",
          "text": [
            "最後に天海さんの半生でねピーター・ウェイン監督の半生で見たかったんですけど実は僕は、これまでデヴィッド・ウェインは使ってなくて映画ライターとして使ってはいるんですけどこれから1つ大きな選択肢として使っていきたいなというふうに思っているのと。\n",
            "./clips/clips86.wav\n"
          ]
        },
        {
          "output_type": "stream",
          "name": "stderr",
          "text": [
            "WARNING:nue_asr.transcribe:The input audio is 20.0 sec, but such long audio inputs may degrade recognition accuracy. It is recommended to split the audio into shorter segments.\n"
          ]
        },
        {
          "output_type": "stream",
          "name": "stdout",
          "text": [
            "画像生成技術は公開できてますけれども裏側でかなり回してますのでその辺りはBTSのほうもお話しできたらなと思ってます。\n",
            "./clips/clips87.wav\n"
          ]
        },
        {
          "output_type": "stream",
          "name": "stderr",
          "text": [
            "WARNING:nue_asr.transcribe:The input audio is 20.0 sec, but such long audio inputs may degrade recognition accuracy. It is recommended to split the audio into shorter segments.\n"
          ]
        },
        {
          "output_type": "stream",
          "name": "stdout",
          "text": [
            "1問ぐらい質問とかできれば1問できればなと思うんですけどいかがでしょうかまあこのあとこういうふうにネットワーキングができるといいかなと思いますがここははいありがとうございました。\n",
            "./clips/clips88.wav\n"
          ]
        },
        {
          "output_type": "stream",
          "name": "stderr",
          "text": [
            "WARNING:nue_asr.transcribe:The input audio is 20.0 sec, but such long audio inputs may degrade recognition accuracy. It is recommended to split the audio into shorter segments.\n"
          ]
        },
        {
          "output_type": "stream",
          "name": "stdout",
          "text": [
            "はいじゃあ続いてはいバリアAIの齋藤さんよろしくお願いします。\n",
            "./clips/clips89.wav\n"
          ]
        },
        {
          "output_type": "stream",
          "name": "stderr",
          "text": [
            "WARNING:nue_asr.transcribe:The input audio is 20.0 sec, but such long audio inputs may degrade recognition accuracy. It is recommended to split the audio into shorter segments.\n"
          ]
        },
        {
          "output_type": "stream",
          "name": "stdout",
          "text": [
            "はい今年の3月に上場した会社でして日本ではですね数少ない低PERですね。\n",
            "./clips/clips90.wav\n"
          ]
        },
        {
          "output_type": "stream",
          "name": "stderr",
          "text": [
            "WARNING:nue_asr.transcribe:The input audio is 20.0 sec, but such long audio inputs may degrade recognition accuracy. It is recommended to split the audio into shorter segments.\n"
          ]
        },
        {
          "output_type": "stream",
          "name": "stdout",
          "text": [
            "活動メンバーとしましては代表の佐々木をはじめですね自衛隊に精通するメンバーを中心に日々活動をしております。\n",
            "./clips/clips91.wav\n"
          ]
        },
        {
          "output_type": "stream",
          "name": "stderr",
          "text": [
            "WARNING:nue_asr.transcribe:The input audio is 20.0 sec, but such long audio inputs may degrade recognition accuracy. It is recommended to split the audio into shorter segments.\n"
          ]
        },
        {
          "output_type": "stream",
          "name": "stdout",
          "text": [
            "その中でですね横軸がですねIQということで会話の正確性ただこの横軸に関しては目立つでしょうけども音程が不安定な部分で圧倒的に理想とずれ追いつくことが難しいんではないかというところで。\n",
            "./clips/clips92.wav\n"
          ]
        },
        {
          "output_type": "stream",
          "name": "stderr",
          "text": [
            "WARNING:nue_asr.transcribe:The input audio is 20.0 sec, but such long audio inputs may degrade recognition accuracy. It is recommended to split the audio into shorter segments.\n"
          ]
        },
        {
          "output_type": "stream",
          "name": "stdout",
          "text": [
            "こちらであればですね文化毒性が強くビッグテックが立ち丸みを抱えるとかあとは日本の強み豊富なITコンテンツが生きるのではないかということで縦軸のですねEMSのですね。\n",
            "./clips/clips93.wav\n"
          ]
        },
        {
          "output_type": "stream",
          "name": "stderr",
          "text": [
            "WARNING:nue_asr.transcribe:The input audio is 20.0 sec, but such long audio inputs may degrade recognition accuracy. It is recommended to split the audio into shorter segments.\n"
          ]
        },
        {
          "output_type": "stream",
          "name": "stdout",
          "text": [
            "AIキャラクター以上ですね、展開する中でポイントは3つありまして、会話自体にワクワクできるのかというところがまず1つ目に関しましては音声などを用いた自然で便利なコミュニケーションということです。\n",
            "./clips/clips94.wav\n"
          ]
        },
        {
          "output_type": "stream",
          "name": "stderr",
          "text": [
            "WARNING:nue_asr.transcribe:The input audio is 20.0 sec, but such long audio inputs may degrade recognition accuracy. It is recommended to split the audio into shorter segments.\n"
          ]
        },
        {
          "output_type": "stream",
          "name": "stdout",
          "text": [
            "で3つ目に関しましては利用者一人一人が会話内容に合わせたパースナライズ体験というところで記憶の保持をしながら人と人との会話を展開できるのかっていう3つ目でねこの3つをポイントに置きながらいる活動をしております。\n",
            "./clips/clips95.wav\n"
          ]
        },
        {
          "output_type": "stream",
          "name": "stderr",
          "text": [
            "WARNING:nue_asr.transcribe:The input audio is 20.0 sec, but such long audio inputs may degrade recognition accuracy. It is recommended to split the audio into shorter segments.\n"
          ]
        },
        {
          "output_type": "stream",
          "name": "stdout",
          "text": [
            "例はですねこちらに取り組め始めた背景なんですけれども今までのですね1対1でできるPR市場というところに関してはかなり大きな市場があると。\n",
            "./clips/clips96.wav\n"
          ]
        },
        {
          "output_type": "stream",
          "name": "stderr",
          "text": [
            "WARNING:nue_asr.transcribe:The input audio is 20.0 sec, but such long audio inputs may degrade recognition accuracy. It is recommended to split the audio into shorter segments.\n"
          ]
        },
        {
          "output_type": "stream",
          "name": "stdout",
          "text": [
            "バーチャル体験に関しては悪質サイトに限られているのではないかというところでこの悪質サイトをですね弊社ではホワイトスペースを捉えてこちらを狙う活動を現在しております。\n",
            "./clips/clips97.wav\n"
          ]
        },
        {
          "output_type": "stream",
          "name": "stderr",
          "text": [
            "WARNING:nue_asr.transcribe:The input audio is 20.0 sec, but such long audio inputs may degrade recognition accuracy. It is recommended to split the audio into shorter segments.\n"
          ]
        },
        {
          "output_type": "stream",
          "name": "stdout",
          "text": [
            "こちらのタレントの槙野さんっていうことを起用しましてこちらに関してはポイントとしてはオージープラスっていうテキストでのやり取り。\n",
            "./clips/clips98.wav\n"
          ]
        },
        {
          "output_type": "stream",
          "name": "stderr",
          "text": [
            "WARNING:nue_asr.transcribe:The input audio is 20.0 sec, but such long audio inputs may degrade recognition accuracy. It is recommended to split the audio into shorter segments.\n"
          ]
        },
        {
          "output_type": "stream",
          "name": "stdout",
          "text": [
            "あとは芸能人ITコンテンツと消費者サービスとしては今後はですね通信サービスであったりとか占い悩み相談ということで機能拡充をですね。\n",
            "./clips/clips99.wav\n"
          ]
        },
        {
          "output_type": "stream",
          "name": "stderr",
          "text": [
            "WARNING:nue_asr.transcribe:The input audio is 20.0 sec, but such long audio inputs may degrade recognition accuracy. It is recommended to split the audio into shorter segments.\n"
          ]
        },
        {
          "output_type": "stream",
          "name": "stdout",
          "text": [
            "でこちらですねより深い自由な世界に向けて独自レベル開発にも取り組むというところでまた後ほどですねAIが来た第2弾でどのような議論をするのかというところをご紹介させていただくんですけれどもその方です。\n",
            "./clips/clips100.wav\n"
          ]
        },
        {
          "output_type": "stream",
          "name": "stderr",
          "text": [
            "WARNING:nue_asr.transcribe:The input audio is 20.0 sec, but such long audio inputs may degrade recognition accuracy. It is recommended to split the audio into shorter segments.\n"
          ]
        },
        {
          "output_type": "stream",
          "name": "stdout",
          "text": [
            "なので独自で投げられているんですけれども右側で他人が投げられているんですけれども右側で他人が違いや多様性をどのように受け尊重しますか。\n",
            "./clips/clips101.wav\n"
          ]
        },
        {
          "output_type": "stream",
          "name": "stderr",
          "text": [
            "WARNING:nue_asr.transcribe:The input audio is 20.0 sec, but such long audio inputs may degrade recognition accuracy. It is recommended to split the audio into shorter segments.\n"
          ]
        },
        {
          "output_type": "stream",
          "name": "stdout",
          "text": [
            "なので若干こう人とのやりとりってところを想定した場合は違和感があるのでよりこう人と人とのやりとりってところを想定した場合は違和感がある。\n",
            "./clips/clips102.wav\n"
          ]
        },
        {
          "output_type": "stream",
          "name": "stderr",
          "text": [
            "WARNING:nue_asr.transcribe:The input audio is 20.0 sec, but such long audio inputs may degrade recognition accuracy. It is recommended to split the audio into shorter segments.\n"
          ]
        },
        {
          "output_type": "stream",
          "name": "stdout",
          "text": [
            "で第2弾こちらですねマレーシアの方は特別支度をしたんですけれども現在こちらですね逆境をAIというものを第2弾の想定をしております。\n",
            "./clips/clips103.wav\n"
          ]
        },
        {
          "output_type": "stream",
          "name": "stderr",
          "text": [
            "WARNING:nue_asr.transcribe:The input audio is 20.0 sec, but such long audio inputs may degrade recognition accuracy. It is recommended to split the audio into shorter segments.\n"
          ]
        },
        {
          "output_type": "stream",
          "name": "stdout",
          "text": [
            "こちらはですねひざの支柱単独の手術でしたりとかあとは高輪の音声ですね10時間ほどディープなものでいったんですねチューニングなしで音声の作成しておりますのでこれからご紹介させていただきます。\n",
            "./clips/clips104.wav\n",
            "ちょっと忘れてたんですけど。\n"
          ]
        }
      ]
    }
  ]
}